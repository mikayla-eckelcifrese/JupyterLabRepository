{
 "cells": [
  {
   "cell_type": "code",
   "execution_count": 4,
   "id": "729e6078-3201-4f0f-8bb2-34d10136b00d",
   "metadata": {
    "jupyter": {
     "source_hidden": true
    },
    "tags": []
   },
   "outputs": [],
   "source": [
    "import matplotlib.pyplot as plt\n",
    "\n",
    "import re\n",
    "\n",
    "import pandas as pd\n",
    "\n",
    "import numpy as np\n",
    "\n",
    "pd.options.display.max_columns = 30\n",
    "\n",
    "from numpy import *\n",
    "\n",
    "import plotly.express as px\n",
    "\n",
    "import plotly.graph_objects as go\n",
    "\n",
    "import seaborn as sns\n",
    "\n",
    "from wordcloud import WordCloud, STOPWORDS\n",
    "\n",
    "from sklearn import *\n"
   ]
  },
  {
   "cell_type": "markdown",
   "id": "95728302-a548-41a0-a2ae-49f6da2e0e9f",
   "metadata": {},
   "source": [
    "                                  Open Documents and save contents as string variables"
   ]
  },
  {
   "cell_type": "code",
   "execution_count": 5,
   "id": "7114cf77-e439-4f60-a0d2-7ab71cd38aba",
   "metadata": {
    "jupyter": {
     "source_hidden": true
    },
    "tags": []
   },
   "outputs": [],
   "source": [
    "EssayFileName = \"Vaccines are Beneficial.txt\"\n",
    "\n",
    "ResumeFileName = \"Resume.txt\"\n",
    "\n",
    "LabFileName = \"EEE 334 Lab 1.txt\"\n",
    "\n",
    "\n",
    "EssayLines = \"\"\n",
    "\n",
    "Resumelines = \"\"\n",
    "\n",
    "LabLines = \"\"\n",
    "\n",
    "\n",
    "def Read(FileName, lines):\n",
    "    with open(FileName, \"r\", encoding = 'utf-8') as File:\n",
    "        lines = File.read()\n",
    "    return(lines)\n",
    "    \n",
    "EssayText = Read(EssayFileName, EssayLines)\n",
    "\n",
    "ResumeText = Read(ResumeFileName, Resumelines)\n",
    "\n",
    "LabText = Read(LabFileName, LabLines)\n",
    "\n",
    "    "
   ]
  },
  {
   "cell_type": "markdown",
   "id": "8f05f609-89c2-4cbe-b962-b333c1ea70c2",
   "metadata": {},
   "source": [
    "                                                Clean  and Sort Data"
   ]
  },
  {
   "cell_type": "code",
   "execution_count": 6,
   "id": "2939f7ca-641f-4493-b2f9-bff892d0c9bb",
   "metadata": {
    "jupyter": {
     "source_hidden": true
    },
    "tags": []
   },
   "outputs": [],
   "source": [
    "def CleanData(Text):\n",
    "    Text = re.sub(r'[^a-zA-Z]', '', Text)\n",
    "    \n",
    "    Text = Text.lower()\n",
    "    \n",
    "    return(Text)\n",
    "\n",
    "EssayText = CleanData(EssayText)\n",
    "\n",
    "ResumeText = CleanData(ResumeText)\n",
    "\n",
    "LabText = CleanData(LabText) "
   ]
  },
  {
   "cell_type": "markdown",
   "id": "13cf3c77-fc50-4fb9-8e7f-e367f0a22d83",
   "metadata": {
    "tags": []
   },
   "source": [
    "I removed all non-alphabetic characters and changed all uppercase letters to lowercase.  That ensures I can obtain the frequency of just the letters and that all instances of the same letter will counted without regard to case."
   ]
  },
  {
   "cell_type": "markdown",
   "id": "d21f2098-21c7-4878-bdd2-3e80b3b15c71",
   "metadata": {},
   "source": [
    "                                        Get Letter Frequencies as Dictionaries "
   ]
  },
  {
   "cell_type": "code",
   "execution_count": 7,
   "id": "7a49c563-c196-4e43-9f47-d16930dd98bf",
   "metadata": {
    "jupyter": {
     "source_hidden": true
    },
    "tags": []
   },
   "outputs": [],
   "source": [
    "def GetFrequencies(Text):  \n",
    "    LetterFrequencies = {}\n",
    "    for keys in Text:\n",
    "        LetterFrequencies[keys] = LetterFrequencies.get(keys, 0) + 1\n",
    "    return(LetterFrequencies)\n",
    "\n",
    "EssayFrequencyDict = GetFrequencies(EssayText)\n",
    "\n",
    "ResumeFrequencyDict = GetFrequencies(ResumeText)\n",
    "\n",
    "LabFrequencyDict = GetFrequencies(LabText)"
   ]
  },
  {
   "cell_type": "markdown",
   "id": "07c2b1e2-4ee2-4355-a8fc-47170a8f3e80",
   "metadata": {
    "tags": []
   },
   "source": [
    "                                Convert Dictionaries to Data Frames and Sort Frequency by Letter"
   ]
  },
  {
   "cell_type": "code",
   "execution_count": 8,
   "id": "dfab4afb-96f5-4d8b-9cb8-dcffcb9964a4",
   "metadata": {
    "jupyter": {
     "source_hidden": true
    },
    "tags": []
   },
   "outputs": [],
   "source": [
    "def ConvertAndSort(FrequencyDict, column2):\n",
    "    Frequency_df = pd.DataFrame(FrequencyDict.items(), columns=['Letter', column2]) \n",
    "\n",
    "    Frequency_df = Frequency_df.sort_values(\"Letter\")\n",
    "\n",
    "    Frequency_df = Frequency_df[Frequency_df.Letter != \" \"].reset_index()  #renumber rows from 0 to 1 from the top down\n",
    "    \n",
    "    Frequency_df.pop('index')  #remove column containing prior order as I have no need of it\n",
    "    \n",
    "    Frequency_df.dropna(inplace = True) \n",
    "    \n",
    "    return(Frequency_df)\n",
    "    \n",
    "EssayFrequency_df = ConvertAndSort(EssayFrequencyDict, 'Essay Frequency')\n",
    "\n",
    "ResumeFrequency_df = ConvertAndSort(ResumeFrequencyDict, 'Resume Frequency')\n",
    "\n",
    "LabFrequency_df = ConvertAndSort(LabFrequencyDict, 'Lab Frequency')\n"
   ]
  },
  {
   "cell_type": "markdown",
   "id": "f891f8f5-d7d9-414b-99c1-41a41548a09f",
   "metadata": {
    "tags": []
   },
   "source": [
    "                                                       Merge Dataframes and Get Proportions"
   ]
  },
  {
   "cell_type": "code",
   "execution_count": 39,
   "id": "59ff89c9-2a27-4787-922c-e8e7551827b3",
   "metadata": {
    "jupyter": {
     "source_hidden": true
    },
    "tags": []
   },
   "outputs": [],
   "source": [
    "#\"Letter\" column in each df is the same, so two of them are being concantenated without it\n",
    "temp = pd.concat([EssayFrequency_df, ResumeFrequency_df.drop(['Letter'], axis = 1, inplace = False)], axis = 1, join = 'outer')\n",
    "\n",
    "merged_data = pd.concat([temp, LabFrequency_df.drop(['Letter'], axis = 1, inplace = False)], axis = 1, join = 'outer')\n",
    "\n",
    "merged_data.dropna(inplace = True)\n",
    "\n",
    "merged_data.columns = [\"Letter\", \"Essay\", \"Resume\", \"Lab\"]\n",
    "\n",
    "\n",
    "frequency_proportions = merged_data.copy() #copies VALUE of variable rather than the reference\n",
    "\n",
    "temp = frequency_proportions.iloc[:, 1:4]\n",
    "\n",
    "frequency_proportions.iloc[:, 1:4] = temp/sum(temp)\n",
    "\n",
    "frequency_proportions.columns = [\"Letter\", \"Essay\", \"Resume\", \"Lab\"]"
   ]
  },
  {
   "cell_type": "markdown",
   "id": "a33bcb60-97da-44a4-ac96-03a36cff8e2b",
   "metadata": {},
   "source": [
    "                                                         Get Summary Stats"
   ]
  },
  {
   "cell_type": "markdown",
   "id": "cd42d6e3-6311-40e6-bfd2-aee355f7183f",
   "metadata": {
    "tags": []
   },
   "source": [
    "Since the data was sorted by letter in the previous step, each frequency category doesn't need its own separate letter category, hence, I dropped that column from the resume and lab df's, keeping it on the essay df, and then concantenate them."
   ]
  },
  {
   "cell_type": "code",
   "execution_count": 71,
   "id": "a110a5b0-0df2-4637-be66-dad0d2776c92",
   "metadata": {
    "collapsed": true,
    "jupyter": {
     "outputs_hidden": true,
     "source_hidden": true
    },
    "tags": []
   },
   "outputs": [
    {
     "data": {
      "text/html": [
       "<div>\n",
       "<style scoped>\n",
       "    .dataframe tbody tr th:only-of-type {\n",
       "        vertical-align: middle;\n",
       "    }\n",
       "\n",
       "    .dataframe tbody tr th {\n",
       "        vertical-align: top;\n",
       "    }\n",
       "\n",
       "    .dataframe thead tr th {\n",
       "        text-align: left;\n",
       "    }\n",
       "</style>\n",
       "<table border=\"1\" class=\"dataframe\">\n",
       "  <thead>\n",
       "    <tr>\n",
       "      <th></th>\n",
       "      <th colspan=\"3\" halign=\"left\">Letter Counts</th>\n",
       "      <th colspan=\"3\" halign=\"left\">Letter Proportions</th>\n",
       "    </tr>\n",
       "    <tr>\n",
       "      <th></th>\n",
       "      <th>Essay</th>\n",
       "      <th>Resume</th>\n",
       "      <th>Lab</th>\n",
       "      <th>Essay</th>\n",
       "      <th>Resume</th>\n",
       "      <th>Lab</th>\n",
       "    </tr>\n",
       "  </thead>\n",
       "  <tbody>\n",
       "    <tr>\n",
       "      <th>mean</th>\n",
       "      <td>530.85</td>\n",
       "      <td>110.31</td>\n",
       "      <td>479.58</td>\n",
       "      <td>0.038</td>\n",
       "      <td>0.038</td>\n",
       "      <td>0.038</td>\n",
       "    </tr>\n",
       "    <tr>\n",
       "      <th>std</th>\n",
       "      <td>477.23</td>\n",
       "      <td>95.49</td>\n",
       "      <td>392.42</td>\n",
       "      <td>0.035</td>\n",
       "      <td>0.033</td>\n",
       "      <td>0.031</td>\n",
       "    </tr>\n",
       "    <tr>\n",
       "      <th>min</th>\n",
       "      <td>7.00</td>\n",
       "      <td>5.00</td>\n",
       "      <td>14.00</td>\n",
       "      <td>0.001</td>\n",
       "      <td>0.002</td>\n",
       "      <td>0.001</td>\n",
       "    </tr>\n",
       "    <tr>\n",
       "      <th>25%</th>\n",
       "      <td>189.00</td>\n",
       "      <td>27.25</td>\n",
       "      <td>197.00</td>\n",
       "      <td>0.014</td>\n",
       "      <td>0.010</td>\n",
       "      <td>0.016</td>\n",
       "    </tr>\n",
       "    <tr>\n",
       "      <th>50%</th>\n",
       "      <td>332.00</td>\n",
       "      <td>93.00</td>\n",
       "      <td>375.00</td>\n",
       "      <td>0.024</td>\n",
       "      <td>0.032</td>\n",
       "      <td>0.030</td>\n",
       "    </tr>\n",
       "    <tr>\n",
       "      <th>75%</th>\n",
       "      <td>864.25</td>\n",
       "      <td>185.00</td>\n",
       "      <td>810.75</td>\n",
       "      <td>0.063</td>\n",
       "      <td>0.065</td>\n",
       "      <td>0.065</td>\n",
       "    </tr>\n",
       "    <tr>\n",
       "      <th>max</th>\n",
       "      <td>1901.00</td>\n",
       "      <td>300.00</td>\n",
       "      <td>1471.00</td>\n",
       "      <td>0.138</td>\n",
       "      <td>0.105</td>\n",
       "      <td>0.118</td>\n",
       "    </tr>\n",
       "  </tbody>\n",
       "</table>\n",
       "</div>"
      ],
      "text/plain": [
       "     Letter Counts                   Letter Proportions              \n",
       "             Essay  Resume      Lab               Essay Resume    Lab\n",
       "mean        530.85  110.31   479.58               0.038  0.038  0.038\n",
       "std         477.23   95.49   392.42               0.035  0.033  0.031\n",
       "min           7.00    5.00    14.00               0.001  0.002  0.001\n",
       "25%         189.00   27.25   197.00               0.014  0.010  0.016\n",
       "50%         332.00   93.00   375.00               0.024  0.032  0.030\n",
       "75%         864.25  185.00   810.75               0.063  0.065  0.065\n",
       "max        1901.00  300.00  1471.00               0.138  0.105  0.118"
      ]
     },
     "execution_count": 71,
     "metadata": {},
     "output_type": "execute_result"
    }
   ],
   "source": [
    "SummaryStats = (merged_data.describe()).round(decimals = 2)\n",
    "\n",
    "SummaryStats_Proportions = (frequency_proportions.describe()).round(decimals = 3)\n",
    "\n",
    "def MergeStats(df1, df2, Axis, key1, key2): #axis = 1 means join by column and axis = 0 means join by row    \n",
    "    summary_stats = pd.concat([df1, df2], axis = Axis, join = 'outer', \n",
    "                              keys = [key1, key2])\n",
    "    try:\n",
    "        return summary_stats.drop('count')    \n",
    "    except:\n",
    "        return summary_stats\n",
    "    \n",
    "summary_stats = MergeStats(SummaryStats, SummaryStats_Proportions, 1, 'Letter Counts', ' Letter Proportions')\n",
    "\n",
    "summary_stats"
   ]
  },
  {
   "cell_type": "markdown",
   "id": "cf512525-6d0c-4f3b-a438-6d3eaba376eb",
   "metadata": {},
   "source": [
    "                                                        Summary Stats by Letter"
   ]
  },
  {
   "cell_type": "code",
   "execution_count": 72,
   "id": "aa83fdf1-2829-4c4c-9736-e90fa3e65ca6",
   "metadata": {
    "collapsed": true,
    "jupyter": {
     "outputs_hidden": true,
     "source_hidden": true
    },
    "tags": []
   },
   "outputs": [
    {
     "data": {
      "text/html": [
       "<div>\n",
       "<style scoped>\n",
       "    .dataframe tbody tr th:only-of-type {\n",
       "        vertical-align: middle;\n",
       "    }\n",
       "\n",
       "    .dataframe tbody tr th {\n",
       "        vertical-align: top;\n",
       "    }\n",
       "\n",
       "    .dataframe thead th {\n",
       "        text-align: right;\n",
       "    }\n",
       "</style>\n",
       "<table border=\"1\" class=\"dataframe\">\n",
       "  <thead>\n",
       "    <tr style=\"text-align: right;\">\n",
       "      <th></th>\n",
       "      <th></th>\n",
       "      <th>a</th>\n",
       "      <th>b</th>\n",
       "      <th>c</th>\n",
       "      <th>d</th>\n",
       "      <th>e</th>\n",
       "      <th>f</th>\n",
       "      <th>g</th>\n",
       "      <th>h</th>\n",
       "      <th>i</th>\n",
       "      <th>j</th>\n",
       "      <th>k</th>\n",
       "      <th>l</th>\n",
       "      <th>m</th>\n",
       "      <th>n</th>\n",
       "      <th>o</th>\n",
       "      <th>p</th>\n",
       "      <th>q</th>\n",
       "      <th>r</th>\n",
       "      <th>s</th>\n",
       "      <th>t</th>\n",
       "      <th>u</th>\n",
       "      <th>v</th>\n",
       "      <th>w</th>\n",
       "      <th>x</th>\n",
       "      <th>y</th>\n",
       "      <th>z</th>\n",
       "    </tr>\n",
       "  </thead>\n",
       "  <tbody>\n",
       "    <tr>\n",
       "      <th rowspan=\"7\" valign=\"top\">Count</th>\n",
       "      <th>mean</th>\n",
       "      <td>817.3333</td>\n",
       "      <td>129.0000</td>\n",
       "      <td>427.6667</td>\n",
       "      <td>353.0000</td>\n",
       "      <td>1224.0000</td>\n",
       "      <td>213.6667</td>\n",
       "      <td>180.3333</td>\n",
       "      <td>402.0000</td>\n",
       "      <td>740.6667</td>\n",
       "      <td>13.0000</td>\n",
       "      <td>54.6667</td>\n",
       "      <td>439.3333</td>\n",
       "      <td>247.0000</td>\n",
       "      <td>658.0000</td>\n",
       "      <td>638.0000</td>\n",
       "      <td>212.3333</td>\n",
       "      <td>14.6667</td>\n",
       "      <td>585.0000</td>\n",
       "      <td>667.3333</td>\n",
       "      <td>885.3333</td>\n",
       "      <td>289.3333</td>\n",
       "      <td>195.6667</td>\n",
       "      <td>145.0000</td>\n",
       "      <td>22.3333</td>\n",
       "      <td>148.3333</td>\n",
       "      <td>10.0000</td>\n",
       "    </tr>\n",
       "    <tr>\n",
       "      <th>std</th>\n",
       "      <td>518.6196</td>\n",
       "      <td>80.5729</td>\n",
       "      <td>233.1659</td>\n",
       "      <td>213.9509</td>\n",
       "      <td>828.5874</td>\n",
       "      <td>155.6610</td>\n",
       "      <td>80.3886</td>\n",
       "      <td>298.8327</td>\n",
       "      <td>384.5326</td>\n",
       "      <td>5.0000</td>\n",
       "      <td>44.0946</td>\n",
       "      <td>278.0905</td>\n",
       "      <td>131.2745</td>\n",
       "      <td>415.1975</td>\n",
       "      <td>431.9479</td>\n",
       "      <td>120.8153</td>\n",
       "      <td>15.0444</td>\n",
       "      <td>351.7400</td>\n",
       "      <td>391.8014</td>\n",
       "      <td>554.3910</td>\n",
       "      <td>173.6097</td>\n",
       "      <td>153.0240</td>\n",
       "      <td>106.2262</td>\n",
       "      <td>18.5831</td>\n",
       "      <td>98.4395</td>\n",
       "      <td>4.5826</td>\n",
       "    </tr>\n",
       "    <tr>\n",
       "      <th>min</th>\n",
       "      <td>233.0000</td>\n",
       "      <td>37.0000</td>\n",
       "      <td>185.0000</td>\n",
       "      <td>108.0000</td>\n",
       "      <td>300.0000</td>\n",
       "      <td>34.0000</td>\n",
       "      <td>90.0000</td>\n",
       "      <td>62.0000</td>\n",
       "      <td>298.0000</td>\n",
       "      <td>8.0000</td>\n",
       "      <td>9.0000</td>\n",
       "      <td>121.0000</td>\n",
       "      <td>96.0000</td>\n",
       "      <td>213.0000</td>\n",
       "      <td>140.0000</td>\n",
       "      <td>73.0000</td>\n",
       "      <td>5.0000</td>\n",
       "      <td>185.0000</td>\n",
       "      <td>219.0000</td>\n",
       "      <td>248.0000</td>\n",
       "      <td>99.0000</td>\n",
       "      <td>20.0000</td>\n",
       "      <td>25.0000</td>\n",
       "      <td>7.0000</td>\n",
       "      <td>43.0000</td>\n",
       "      <td>5.0000</td>\n",
       "    </tr>\n",
       "    <tr>\n",
       "      <th>25%</th>\n",
       "      <td>614.5000</td>\n",
       "      <td>100.0000</td>\n",
       "      <td>316.5000</td>\n",
       "      <td>278.0000</td>\n",
       "      <td>885.5000</td>\n",
       "      <td>166.5000</td>\n",
       "      <td>148.5000</td>\n",
       "      <td>291.5000</td>\n",
       "      <td>615.0000</td>\n",
       "      <td>10.5000</td>\n",
       "      <td>33.5000</td>\n",
       "      <td>341.5000</td>\n",
       "      <td>203.5000</td>\n",
       "      <td>469.5000</td>\n",
       "      <td>501.5000</td>\n",
       "      <td>174.5000</td>\n",
       "      <td>6.0000</td>\n",
       "      <td>454.5000</td>\n",
       "      <td>529.0000</td>\n",
       "      <td>700.0000</td>\n",
       "      <td>214.5000</td>\n",
       "      <td>143.5000</td>\n",
       "      <td>104.0000</td>\n",
       "      <td>12.0000</td>\n",
       "      <td>103.5000</td>\n",
       "      <td>8.0000</td>\n",
       "    </tr>\n",
       "    <tr>\n",
       "      <th>50%</th>\n",
       "      <td>996.0000</td>\n",
       "      <td>163.0000</td>\n",
       "      <td>448.0000</td>\n",
       "      <td>448.0000</td>\n",
       "      <td>1471.0000</td>\n",
       "      <td>299.0000</td>\n",
       "      <td>207.0000</td>\n",
       "      <td>521.0000</td>\n",
       "      <td>932.0000</td>\n",
       "      <td>13.0000</td>\n",
       "      <td>58.0000</td>\n",
       "      <td>562.0000</td>\n",
       "      <td>311.0000</td>\n",
       "      <td>726.0000</td>\n",
       "      <td>863.0000</td>\n",
       "      <td>276.0000</td>\n",
       "      <td>7.0000</td>\n",
       "      <td>724.0000</td>\n",
       "      <td>839.0000</td>\n",
       "      <td>1152.0000</td>\n",
       "      <td>330.0000</td>\n",
       "      <td>267.0000</td>\n",
       "      <td>183.0000</td>\n",
       "      <td>17.0000</td>\n",
       "      <td>164.0000</td>\n",
       "      <td>11.0000</td>\n",
       "    </tr>\n",
       "    <tr>\n",
       "      <th>75%</th>\n",
       "      <td>1109.5000</td>\n",
       "      <td>175.0000</td>\n",
       "      <td>549.0000</td>\n",
       "      <td>475.5000</td>\n",
       "      <td>1686.0000</td>\n",
       "      <td>303.5000</td>\n",
       "      <td>225.5000</td>\n",
       "      <td>572.0000</td>\n",
       "      <td>962.0000</td>\n",
       "      <td>15.5000</td>\n",
       "      <td>77.5000</td>\n",
       "      <td>598.5000</td>\n",
       "      <td>322.5000</td>\n",
       "      <td>880.5000</td>\n",
       "      <td>887.0000</td>\n",
       "      <td>282.0000</td>\n",
       "      <td>19.5000</td>\n",
       "      <td>785.0000</td>\n",
       "      <td>891.5000</td>\n",
       "      <td>1204.0000</td>\n",
       "      <td>384.5000</td>\n",
       "      <td>283.5000</td>\n",
       "      <td>205.0000</td>\n",
       "      <td>30.0000</td>\n",
       "      <td>201.0000</td>\n",
       "      <td>12.5000</td>\n",
       "    </tr>\n",
       "    <tr>\n",
       "      <th>max</th>\n",
       "      <td>1223.0000</td>\n",
       "      <td>187.0000</td>\n",
       "      <td>650.0000</td>\n",
       "      <td>503.0000</td>\n",
       "      <td>1901.0000</td>\n",
       "      <td>308.0000</td>\n",
       "      <td>244.0000</td>\n",
       "      <td>623.0000</td>\n",
       "      <td>992.0000</td>\n",
       "      <td>18.0000</td>\n",
       "      <td>97.0000</td>\n",
       "      <td>635.0000</td>\n",
       "      <td>334.0000</td>\n",
       "      <td>1035.0000</td>\n",
       "      <td>911.0000</td>\n",
       "      <td>288.0000</td>\n",
       "      <td>32.0000</td>\n",
       "      <td>846.0000</td>\n",
       "      <td>944.0000</td>\n",
       "      <td>1256.0000</td>\n",
       "      <td>439.0000</td>\n",
       "      <td>300.0000</td>\n",
       "      <td>227.0000</td>\n",
       "      <td>43.0000</td>\n",
       "      <td>238.0000</td>\n",
       "      <td>14.0000</td>\n",
       "    </tr>\n",
       "    <tr>\n",
       "      <th rowspan=\"7\" valign=\"top\">Proportion</th>\n",
       "      <th>mean</th>\n",
       "      <td>0.0832</td>\n",
       "      <td>0.0132</td>\n",
       "      <td>0.0492</td>\n",
       "      <td>0.0367</td>\n",
       "      <td>0.1201</td>\n",
       "      <td>0.0194</td>\n",
       "      <td>0.0220</td>\n",
       "      <td>0.0362</td>\n",
       "      <td>0.0835</td>\n",
       "      <td>0.0022</td>\n",
       "      <td>0.0050</td>\n",
       "      <td>0.0446</td>\n",
       "      <td>0.0275</td>\n",
       "      <td>0.0692</td>\n",
       "      <td>0.0613</td>\n",
       "      <td>0.0228</td>\n",
       "      <td>0.0016</td>\n",
       "      <td>0.0616</td>\n",
       "      <td>0.0707</td>\n",
       "      <td>0.0900</td>\n",
       "      <td>0.0312</td>\n",
       "      <td>0.0167</td>\n",
       "      <td>0.0134</td>\n",
       "      <td>0.0023</td>\n",
       "      <td>0.0151</td>\n",
       "      <td>0.0012</td>\n",
       "    </tr>\n",
       "    <tr>\n",
       "      <th>std</th>\n",
       "      <td>0.0047</td>\n",
       "      <td>0.0016</td>\n",
       "      <td>0.0144</td>\n",
       "      <td>0.0009</td>\n",
       "      <td>0.0167</td>\n",
       "      <td>0.0066</td>\n",
       "      <td>0.0085</td>\n",
       "      <td>0.0127</td>\n",
       "      <td>0.0177</td>\n",
       "      <td>0.0021</td>\n",
       "      <td>0.0024</td>\n",
       "      <td>0.0055</td>\n",
       "      <td>0.0052</td>\n",
       "      <td>0.0095</td>\n",
       "      <td>0.0110</td>\n",
       "      <td>0.0024</td>\n",
       "      <td>0.0010</td>\n",
       "      <td>0.0081</td>\n",
       "      <td>0.0049</td>\n",
       "      <td>0.0031</td>\n",
       "      <td>0.0063</td>\n",
       "      <td>0.0084</td>\n",
       "      <td>0.0047</td>\n",
       "      <td>0.0009</td>\n",
       "      <td>0.0020</td>\n",
       "      <td>0.0005</td>\n",
       "    </tr>\n",
       "    <tr>\n",
       "      <th>min</th>\n",
       "      <td>0.0799</td>\n",
       "      <td>0.0118</td>\n",
       "      <td>0.0359</td>\n",
       "      <td>0.0359</td>\n",
       "      <td>0.1046</td>\n",
       "      <td>0.0119</td>\n",
       "      <td>0.0150</td>\n",
       "      <td>0.0216</td>\n",
       "      <td>0.0719</td>\n",
       "      <td>0.0006</td>\n",
       "      <td>0.0031</td>\n",
       "      <td>0.0407</td>\n",
       "      <td>0.0242</td>\n",
       "      <td>0.0582</td>\n",
       "      <td>0.0488</td>\n",
       "      <td>0.0209</td>\n",
       "      <td>0.0005</td>\n",
       "      <td>0.0525</td>\n",
       "      <td>0.0673</td>\n",
       "      <td>0.0865</td>\n",
       "      <td>0.0239</td>\n",
       "      <td>0.0070</td>\n",
       "      <td>0.0087</td>\n",
       "      <td>0.0014</td>\n",
       "      <td>0.0132</td>\n",
       "      <td>0.0008</td>\n",
       "    </tr>\n",
       "    <tr>\n",
       "      <th>25%</th>\n",
       "      <td>0.0806</td>\n",
       "      <td>0.0124</td>\n",
       "      <td>0.0415</td>\n",
       "      <td>0.0362</td>\n",
       "      <td>0.1113</td>\n",
       "      <td>0.0171</td>\n",
       "      <td>0.0173</td>\n",
       "      <td>0.0317</td>\n",
       "      <td>0.0733</td>\n",
       "      <td>0.0010</td>\n",
       "      <td>0.0037</td>\n",
       "      <td>0.0415</td>\n",
       "      <td>0.0246</td>\n",
       "      <td>0.0662</td>\n",
       "      <td>0.0574</td>\n",
       "      <td>0.0215</td>\n",
       "      <td>0.0011</td>\n",
       "      <td>0.0585</td>\n",
       "      <td>0.0678</td>\n",
       "      <td>0.0887</td>\n",
       "      <td>0.0292</td>\n",
       "      <td>0.0142</td>\n",
       "      <td>0.0110</td>\n",
       "      <td>0.0019</td>\n",
       "      <td>0.0141</td>\n",
       "      <td>0.0010</td>\n",
       "    </tr>\n",
       "    <tr>\n",
       "      <th>50%</th>\n",
       "      <td>0.0812</td>\n",
       "      <td>0.0129</td>\n",
       "      <td>0.0471</td>\n",
       "      <td>0.0364</td>\n",
       "      <td>0.1180</td>\n",
       "      <td>0.0223</td>\n",
       "      <td>0.0196</td>\n",
       "      <td>0.0418</td>\n",
       "      <td>0.0747</td>\n",
       "      <td>0.0014</td>\n",
       "      <td>0.0042</td>\n",
       "      <td>0.0422</td>\n",
       "      <td>0.0249</td>\n",
       "      <td>0.0743</td>\n",
       "      <td>0.0660</td>\n",
       "      <td>0.0221</td>\n",
       "      <td>0.0017</td>\n",
       "      <td>0.0645</td>\n",
       "      <td>0.0684</td>\n",
       "      <td>0.0910</td>\n",
       "      <td>0.0345</td>\n",
       "      <td>0.0214</td>\n",
       "      <td>0.0133</td>\n",
       "      <td>0.0024</td>\n",
       "      <td>0.0150</td>\n",
       "      <td>0.0011</td>\n",
       "    </tr>\n",
       "    <tr>\n",
       "      <th>75%</th>\n",
       "      <td>0.0849</td>\n",
       "      <td>0.0139</td>\n",
       "      <td>0.0558</td>\n",
       "      <td>0.0371</td>\n",
       "      <td>0.1279</td>\n",
       "      <td>0.0231</td>\n",
       "      <td>0.0255</td>\n",
       "      <td>0.0435</td>\n",
       "      <td>0.0893</td>\n",
       "      <td>0.0030</td>\n",
       "      <td>0.0060</td>\n",
       "      <td>0.0466</td>\n",
       "      <td>0.0292</td>\n",
       "      <td>0.0746</td>\n",
       "      <td>0.0676</td>\n",
       "      <td>0.0238</td>\n",
       "      <td>0.0022</td>\n",
       "      <td>0.0662</td>\n",
       "      <td>0.0724</td>\n",
       "      <td>0.0917</td>\n",
       "      <td>0.0349</td>\n",
       "      <td>0.0216</td>\n",
       "      <td>0.0157</td>\n",
       "      <td>0.0028</td>\n",
       "      <td>0.0161</td>\n",
       "      <td>0.0014</td>\n",
       "    </tr>\n",
       "    <tr>\n",
       "      <th>max</th>\n",
       "      <td>0.0886</td>\n",
       "      <td>0.0150</td>\n",
       "      <td>0.0645</td>\n",
       "      <td>0.0377</td>\n",
       "      <td>0.1377</td>\n",
       "      <td>0.0240</td>\n",
       "      <td>0.0314</td>\n",
       "      <td>0.0451</td>\n",
       "      <td>0.1039</td>\n",
       "      <td>0.0045</td>\n",
       "      <td>0.0078</td>\n",
       "      <td>0.0509</td>\n",
       "      <td>0.0335</td>\n",
       "      <td>0.0750</td>\n",
       "      <td>0.0692</td>\n",
       "      <td>0.0255</td>\n",
       "      <td>0.0026</td>\n",
       "      <td>0.0678</td>\n",
       "      <td>0.0764</td>\n",
       "      <td>0.0924</td>\n",
       "      <td>0.0352</td>\n",
       "      <td>0.0217</td>\n",
       "      <td>0.0182</td>\n",
       "      <td>0.0031</td>\n",
       "      <td>0.0172</td>\n",
       "      <td>0.0017</td>\n",
       "    </tr>\n",
       "  </tbody>\n",
       "</table>\n",
       "</div>"
      ],
      "text/plain": [
       "                         a         b         c         d          e         f  \\\n",
       "Count      mean   817.3333  129.0000  427.6667  353.0000  1224.0000  213.6667   \n",
       "           std    518.6196   80.5729  233.1659  213.9509   828.5874  155.6610   \n",
       "           min    233.0000   37.0000  185.0000  108.0000   300.0000   34.0000   \n",
       "           25%    614.5000  100.0000  316.5000  278.0000   885.5000  166.5000   \n",
       "           50%    996.0000  163.0000  448.0000  448.0000  1471.0000  299.0000   \n",
       "           75%   1109.5000  175.0000  549.0000  475.5000  1686.0000  303.5000   \n",
       "           max   1223.0000  187.0000  650.0000  503.0000  1901.0000  308.0000   \n",
       "Proportion mean     0.0832    0.0132    0.0492    0.0367     0.1201    0.0194   \n",
       "           std      0.0047    0.0016    0.0144    0.0009     0.0167    0.0066   \n",
       "           min      0.0799    0.0118    0.0359    0.0359     0.1046    0.0119   \n",
       "           25%      0.0806    0.0124    0.0415    0.0362     0.1113    0.0171   \n",
       "           50%      0.0812    0.0129    0.0471    0.0364     0.1180    0.0223   \n",
       "           75%      0.0849    0.0139    0.0558    0.0371     0.1279    0.0231   \n",
       "           max      0.0886    0.0150    0.0645    0.0377     0.1377    0.0240   \n",
       "\n",
       "                        g         h         i        j        k         l  \\\n",
       "Count      mean  180.3333  402.0000  740.6667  13.0000  54.6667  439.3333   \n",
       "           std    80.3886  298.8327  384.5326   5.0000  44.0946  278.0905   \n",
       "           min    90.0000   62.0000  298.0000   8.0000   9.0000  121.0000   \n",
       "           25%   148.5000  291.5000  615.0000  10.5000  33.5000  341.5000   \n",
       "           50%   207.0000  521.0000  932.0000  13.0000  58.0000  562.0000   \n",
       "           75%   225.5000  572.0000  962.0000  15.5000  77.5000  598.5000   \n",
       "           max   244.0000  623.0000  992.0000  18.0000  97.0000  635.0000   \n",
       "Proportion mean    0.0220    0.0362    0.0835   0.0022   0.0050    0.0446   \n",
       "           std     0.0085    0.0127    0.0177   0.0021   0.0024    0.0055   \n",
       "           min     0.0150    0.0216    0.0719   0.0006   0.0031    0.0407   \n",
       "           25%     0.0173    0.0317    0.0733   0.0010   0.0037    0.0415   \n",
       "           50%     0.0196    0.0418    0.0747   0.0014   0.0042    0.0422   \n",
       "           75%     0.0255    0.0435    0.0893   0.0030   0.0060    0.0466   \n",
       "           max     0.0314    0.0451    0.1039   0.0045   0.0078    0.0509   \n",
       "\n",
       "                        m          n         o         p        q         r  \\\n",
       "Count      mean  247.0000   658.0000  638.0000  212.3333  14.6667  585.0000   \n",
       "           std   131.2745   415.1975  431.9479  120.8153  15.0444  351.7400   \n",
       "           min    96.0000   213.0000  140.0000   73.0000   5.0000  185.0000   \n",
       "           25%   203.5000   469.5000  501.5000  174.5000   6.0000  454.5000   \n",
       "           50%   311.0000   726.0000  863.0000  276.0000   7.0000  724.0000   \n",
       "           75%   322.5000   880.5000  887.0000  282.0000  19.5000  785.0000   \n",
       "           max   334.0000  1035.0000  911.0000  288.0000  32.0000  846.0000   \n",
       "Proportion mean    0.0275     0.0692    0.0613    0.0228   0.0016    0.0616   \n",
       "           std     0.0052     0.0095    0.0110    0.0024   0.0010    0.0081   \n",
       "           min     0.0242     0.0582    0.0488    0.0209   0.0005    0.0525   \n",
       "           25%     0.0246     0.0662    0.0574    0.0215   0.0011    0.0585   \n",
       "           50%     0.0249     0.0743    0.0660    0.0221   0.0017    0.0645   \n",
       "           75%     0.0292     0.0746    0.0676    0.0238   0.0022    0.0662   \n",
       "           max     0.0335     0.0750    0.0692    0.0255   0.0026    0.0678   \n",
       "\n",
       "                        s          t         u         v         w        x  \\\n",
       "Count      mean  667.3333   885.3333  289.3333  195.6667  145.0000  22.3333   \n",
       "           std   391.8014   554.3910  173.6097  153.0240  106.2262  18.5831   \n",
       "           min   219.0000   248.0000   99.0000   20.0000   25.0000   7.0000   \n",
       "           25%   529.0000   700.0000  214.5000  143.5000  104.0000  12.0000   \n",
       "           50%   839.0000  1152.0000  330.0000  267.0000  183.0000  17.0000   \n",
       "           75%   891.5000  1204.0000  384.5000  283.5000  205.0000  30.0000   \n",
       "           max   944.0000  1256.0000  439.0000  300.0000  227.0000  43.0000   \n",
       "Proportion mean    0.0707     0.0900    0.0312    0.0167    0.0134   0.0023   \n",
       "           std     0.0049     0.0031    0.0063    0.0084    0.0047   0.0009   \n",
       "           min     0.0673     0.0865    0.0239    0.0070    0.0087   0.0014   \n",
       "           25%     0.0678     0.0887    0.0292    0.0142    0.0110   0.0019   \n",
       "           50%     0.0684     0.0910    0.0345    0.0214    0.0133   0.0024   \n",
       "           75%     0.0724     0.0917    0.0349    0.0216    0.0157   0.0028   \n",
       "           max     0.0764     0.0924    0.0352    0.0217    0.0182   0.0031   \n",
       "\n",
       "                        y        z  \n",
       "Count      mean  148.3333  10.0000  \n",
       "           std    98.4395   4.5826  \n",
       "           min    43.0000   5.0000  \n",
       "           25%   103.5000   8.0000  \n",
       "           50%   164.0000  11.0000  \n",
       "           75%   201.0000  12.5000  \n",
       "           max   238.0000  14.0000  \n",
       "Proportion mean    0.0151   0.0012  \n",
       "           std     0.0020   0.0005  \n",
       "           min     0.0132   0.0008  \n",
       "           25%     0.0141   0.0010  \n",
       "           50%     0.0150   0.0011  \n",
       "           75%     0.0161   0.0014  \n",
       "           max     0.0172   0.0017  "
      ]
     },
     "execution_count": 72,
     "metadata": {},
     "output_type": "execute_result"
    }
   ],
   "source": [
    "#easiest way to get stats for data grouped by letter is to make the letters index names and transpose the df.  \n",
    "#When I used the groupby function instead, .describe gave weird results.\n",
    "\n",
    "def SummaryStatsByLetter(df):\n",
    "    df.index = ['a', 'b', 'c', 'd', 'e', 'f', 'g', 'h', 'i', 'j', 'k', 'l', 'm', 'n', \n",
    "                'o', 'p', 'q', 'r', 's', 't', 'u', 'v', 'w', 'x', 'y', 'z']\n",
    "\n",
    "    GroupDFByLetter = df.drop('Letter', axis = 1)\n",
    "\n",
    "    GroupDFByLetter = GroupDFByLetter.transpose()\n",
    "\n",
    "    SummaryStatsByLetter = (GroupDFByLetter.describe()).round(decimals = 4)\n",
    "\n",
    "    return SummaryStatsByLetter.drop('count')\n",
    "\n",
    "LetterStats = MergeStats(SummaryStatsByLetter(merged_data), SummaryStatsByLetter(frequency_proportions), Axis = 0, \n",
    "                        key1 = 'Count', key2 = \"Proportion\")\n",
    "LetterStats"
   ]
  },
  {
   "cell_type": "markdown",
   "id": "914de654-344e-4b78-a4c3-6db169be1ca2",
   "metadata": {},
   "source": [
    "                                                            Boxplots"
   ]
  },
  {
   "cell_type": "code",
   "execution_count": null,
   "id": "0852708e-5b2f-4ea9-a495-174e6a66c061",
   "metadata": {},
   "outputs": [],
   "source": [
    "                                                        Reshape data to plot properly"
   ]
  },
  {
   "cell_type": "code",
   "execution_count": 126,
   "id": "094fd7de-c374-4e3e-b8d4-573cdea8be0a",
   "metadata": {
    "tags": []
   },
   "outputs": [
    {
     "data": {
      "application/vnd.plotly.v1+json": {
       "config": {
        "plotlyServerURL": "https://plot.ly"
       },
       "data": [
        {
         "alignmentgroup": "True",
         "hovertemplate": "Document Type=Essay<br>Count=%{y}<extra></extra>",
         "legendgroup": "Essay",
         "marker": {
          "color": "#636efa"
         },
         "name": "Essay",
         "notched": false,
         "offsetgroup": "Essay",
         "orientation": "v",
         "showlegend": true,
         "type": "box",
         "x0": " ",
         "xaxis": "x",
         "y": [
          1223,
          163,
          650,
          503,
          1901,
          308,
          207,
          623,
          992,
          8,
          58,
          562,
          334,
          1035,
          911,
          288,
          7,
          724,
          944,
          1256,
          330,
          300,
          183,
          43,
          238,
          11
         ],
         "y0": " ",
         "yaxis": "y"
        },
        {
         "alignmentgroup": "True",
         "hovertemplate": "Document Type=Resume<br>Count=%{y}<extra></extra>",
         "legendgroup": "Resume",
         "marker": {
          "color": "#EF553B"
         },
         "name": "Resume",
         "notched": false,
         "offsetgroup": "Resume",
         "orientation": "v",
         "showlegend": true,
         "type": "box",
         "x0": " ",
         "xaxis": "x",
         "y": [
          233,
          37,
          185,
          108,
          300,
          34,
          90,
          62,
          298,
          13,
          9,
          121,
          96,
          213,
          140,
          73,
          5,
          185,
          219,
          248,
          99,
          20,
          25,
          7,
          43,
          5
         ],
         "y0": " ",
         "yaxis": "y"
        },
        {
         "alignmentgroup": "True",
         "hovertemplate": "Document Type=Lab<br>Count=%{y}<extra></extra>",
         "legendgroup": "Lab",
         "marker": {
          "color": "#00cc96"
         },
         "name": "Lab",
         "notched": false,
         "offsetgroup": "Lab",
         "orientation": "v",
         "showlegend": true,
         "type": "box",
         "x0": " ",
         "xaxis": "x",
         "y": [
          996,
          187,
          448,
          448,
          1471,
          299,
          244,
          521,
          932,
          18,
          97,
          635,
          311,
          726,
          863,
          276,
          32,
          846,
          839,
          1152,
          439,
          267,
          227,
          17,
          164,
          14
         ],
         "y0": " ",
         "yaxis": "y"
        }
       ],
       "layout": {
        "autosize": true,
        "boxmode": "group",
        "legend": {
         "title": {
          "text": "Document Type"
         },
         "tracegroupgap": 0
        },
        "margin": {
         "t": 60
        },
        "template": {
         "data": {
          "bar": [
           {
            "error_x": {
             "color": "#2a3f5f"
            },
            "error_y": {
             "color": "#2a3f5f"
            },
            "marker": {
             "line": {
              "color": "#E5ECF6",
              "width": 0.5
             },
             "pattern": {
              "fillmode": "overlay",
              "size": 10,
              "solidity": 0.2
             }
            },
            "type": "bar"
           }
          ],
          "barpolar": [
           {
            "marker": {
             "line": {
              "color": "#E5ECF6",
              "width": 0.5
             },
             "pattern": {
              "fillmode": "overlay",
              "size": 10,
              "solidity": 0.2
             }
            },
            "type": "barpolar"
           }
          ],
          "carpet": [
           {
            "aaxis": {
             "endlinecolor": "#2a3f5f",
             "gridcolor": "white",
             "linecolor": "white",
             "minorgridcolor": "white",
             "startlinecolor": "#2a3f5f"
            },
            "baxis": {
             "endlinecolor": "#2a3f5f",
             "gridcolor": "white",
             "linecolor": "white",
             "minorgridcolor": "white",
             "startlinecolor": "#2a3f5f"
            },
            "type": "carpet"
           }
          ],
          "choropleth": [
           {
            "colorbar": {
             "outlinewidth": 0,
             "ticks": ""
            },
            "type": "choropleth"
           }
          ],
          "contour": [
           {
            "colorbar": {
             "outlinewidth": 0,
             "ticks": ""
            },
            "colorscale": [
             [
              0,
              "#0d0887"
             ],
             [
              0.1111111111111111,
              "#46039f"
             ],
             [
              0.2222222222222222,
              "#7201a8"
             ],
             [
              0.3333333333333333,
              "#9c179e"
             ],
             [
              0.4444444444444444,
              "#bd3786"
             ],
             [
              0.5555555555555556,
              "#d8576b"
             ],
             [
              0.6666666666666666,
              "#ed7953"
             ],
             [
              0.7777777777777778,
              "#fb9f3a"
             ],
             [
              0.8888888888888888,
              "#fdca26"
             ],
             [
              1,
              "#f0f921"
             ]
            ],
            "type": "contour"
           }
          ],
          "contourcarpet": [
           {
            "colorbar": {
             "outlinewidth": 0,
             "ticks": ""
            },
            "type": "contourcarpet"
           }
          ],
          "heatmap": [
           {
            "colorbar": {
             "outlinewidth": 0,
             "ticks": ""
            },
            "colorscale": [
             [
              0,
              "#0d0887"
             ],
             [
              0.1111111111111111,
              "#46039f"
             ],
             [
              0.2222222222222222,
              "#7201a8"
             ],
             [
              0.3333333333333333,
              "#9c179e"
             ],
             [
              0.4444444444444444,
              "#bd3786"
             ],
             [
              0.5555555555555556,
              "#d8576b"
             ],
             [
              0.6666666666666666,
              "#ed7953"
             ],
             [
              0.7777777777777778,
              "#fb9f3a"
             ],
             [
              0.8888888888888888,
              "#fdca26"
             ],
             [
              1,
              "#f0f921"
             ]
            ],
            "type": "heatmap"
           }
          ],
          "heatmapgl": [
           {
            "colorbar": {
             "outlinewidth": 0,
             "ticks": ""
            },
            "colorscale": [
             [
              0,
              "#0d0887"
             ],
             [
              0.1111111111111111,
              "#46039f"
             ],
             [
              0.2222222222222222,
              "#7201a8"
             ],
             [
              0.3333333333333333,
              "#9c179e"
             ],
             [
              0.4444444444444444,
              "#bd3786"
             ],
             [
              0.5555555555555556,
              "#d8576b"
             ],
             [
              0.6666666666666666,
              "#ed7953"
             ],
             [
              0.7777777777777778,
              "#fb9f3a"
             ],
             [
              0.8888888888888888,
              "#fdca26"
             ],
             [
              1,
              "#f0f921"
             ]
            ],
            "type": "heatmapgl"
           }
          ],
          "histogram": [
           {
            "marker": {
             "pattern": {
              "fillmode": "overlay",
              "size": 10,
              "solidity": 0.2
             }
            },
            "type": "histogram"
           }
          ],
          "histogram2d": [
           {
            "colorbar": {
             "outlinewidth": 0,
             "ticks": ""
            },
            "colorscale": [
             [
              0,
              "#0d0887"
             ],
             [
              0.1111111111111111,
              "#46039f"
             ],
             [
              0.2222222222222222,
              "#7201a8"
             ],
             [
              0.3333333333333333,
              "#9c179e"
             ],
             [
              0.4444444444444444,
              "#bd3786"
             ],
             [
              0.5555555555555556,
              "#d8576b"
             ],
             [
              0.6666666666666666,
              "#ed7953"
             ],
             [
              0.7777777777777778,
              "#fb9f3a"
             ],
             [
              0.8888888888888888,
              "#fdca26"
             ],
             [
              1,
              "#f0f921"
             ]
            ],
            "type": "histogram2d"
           }
          ],
          "histogram2dcontour": [
           {
            "colorbar": {
             "outlinewidth": 0,
             "ticks": ""
            },
            "colorscale": [
             [
              0,
              "#0d0887"
             ],
             [
              0.1111111111111111,
              "#46039f"
             ],
             [
              0.2222222222222222,
              "#7201a8"
             ],
             [
              0.3333333333333333,
              "#9c179e"
             ],
             [
              0.4444444444444444,
              "#bd3786"
             ],
             [
              0.5555555555555556,
              "#d8576b"
             ],
             [
              0.6666666666666666,
              "#ed7953"
             ],
             [
              0.7777777777777778,
              "#fb9f3a"
             ],
             [
              0.8888888888888888,
              "#fdca26"
             ],
             [
              1,
              "#f0f921"
             ]
            ],
            "type": "histogram2dcontour"
           }
          ],
          "mesh3d": [
           {
            "colorbar": {
             "outlinewidth": 0,
             "ticks": ""
            },
            "type": "mesh3d"
           }
          ],
          "parcoords": [
           {
            "line": {
             "colorbar": {
              "outlinewidth": 0,
              "ticks": ""
             }
            },
            "type": "parcoords"
           }
          ],
          "pie": [
           {
            "automargin": true,
            "type": "pie"
           }
          ],
          "scatter": [
           {
            "marker": {
             "colorbar": {
              "outlinewidth": 0,
              "ticks": ""
             }
            },
            "type": "scatter"
           }
          ],
          "scatter3d": [
           {
            "line": {
             "colorbar": {
              "outlinewidth": 0,
              "ticks": ""
             }
            },
            "marker": {
             "colorbar": {
              "outlinewidth": 0,
              "ticks": ""
             }
            },
            "type": "scatter3d"
           }
          ],
          "scattercarpet": [
           {
            "marker": {
             "colorbar": {
              "outlinewidth": 0,
              "ticks": ""
             }
            },
            "type": "scattercarpet"
           }
          ],
          "scattergeo": [
           {
            "marker": {
             "colorbar": {
              "outlinewidth": 0,
              "ticks": ""
             }
            },
            "type": "scattergeo"
           }
          ],
          "scattergl": [
           {
            "marker": {
             "colorbar": {
              "outlinewidth": 0,
              "ticks": ""
             }
            },
            "type": "scattergl"
           }
          ],
          "scattermapbox": [
           {
            "marker": {
             "colorbar": {
              "outlinewidth": 0,
              "ticks": ""
             }
            },
            "type": "scattermapbox"
           }
          ],
          "scatterpolar": [
           {
            "marker": {
             "colorbar": {
              "outlinewidth": 0,
              "ticks": ""
             }
            },
            "type": "scatterpolar"
           }
          ],
          "scatterpolargl": [
           {
            "marker": {
             "colorbar": {
              "outlinewidth": 0,
              "ticks": ""
             }
            },
            "type": "scatterpolargl"
           }
          ],
          "scatterternary": [
           {
            "marker": {
             "colorbar": {
              "outlinewidth": 0,
              "ticks": ""
             }
            },
            "type": "scatterternary"
           }
          ],
          "surface": [
           {
            "colorbar": {
             "outlinewidth": 0,
             "ticks": ""
            },
            "colorscale": [
             [
              0,
              "#0d0887"
             ],
             [
              0.1111111111111111,
              "#46039f"
             ],
             [
              0.2222222222222222,
              "#7201a8"
             ],
             [
              0.3333333333333333,
              "#9c179e"
             ],
             [
              0.4444444444444444,
              "#bd3786"
             ],
             [
              0.5555555555555556,
              "#d8576b"
             ],
             [
              0.6666666666666666,
              "#ed7953"
             ],
             [
              0.7777777777777778,
              "#fb9f3a"
             ],
             [
              0.8888888888888888,
              "#fdca26"
             ],
             [
              1,
              "#f0f921"
             ]
            ],
            "type": "surface"
           }
          ],
          "table": [
           {
            "cells": {
             "fill": {
              "color": "#EBF0F8"
             },
             "line": {
              "color": "white"
             }
            },
            "header": {
             "fill": {
              "color": "#C8D4E3"
             },
             "line": {
              "color": "white"
             }
            },
            "type": "table"
           }
          ]
         },
         "layout": {
          "annotationdefaults": {
           "arrowcolor": "#2a3f5f",
           "arrowhead": 0,
           "arrowwidth": 1
          },
          "autotypenumbers": "strict",
          "coloraxis": {
           "colorbar": {
            "outlinewidth": 0,
            "ticks": ""
           }
          },
          "colorscale": {
           "diverging": [
            [
             0,
             "#8e0152"
            ],
            [
             0.1,
             "#c51b7d"
            ],
            [
             0.2,
             "#de77ae"
            ],
            [
             0.3,
             "#f1b6da"
            ],
            [
             0.4,
             "#fde0ef"
            ],
            [
             0.5,
             "#f7f7f7"
            ],
            [
             0.6,
             "#e6f5d0"
            ],
            [
             0.7,
             "#b8e186"
            ],
            [
             0.8,
             "#7fbc41"
            ],
            [
             0.9,
             "#4d9221"
            ],
            [
             1,
             "#276419"
            ]
           ],
           "sequential": [
            [
             0,
             "#0d0887"
            ],
            [
             0.1111111111111111,
             "#46039f"
            ],
            [
             0.2222222222222222,
             "#7201a8"
            ],
            [
             0.3333333333333333,
             "#9c179e"
            ],
            [
             0.4444444444444444,
             "#bd3786"
            ],
            [
             0.5555555555555556,
             "#d8576b"
            ],
            [
             0.6666666666666666,
             "#ed7953"
            ],
            [
             0.7777777777777778,
             "#fb9f3a"
            ],
            [
             0.8888888888888888,
             "#fdca26"
            ],
            [
             1,
             "#f0f921"
            ]
           ],
           "sequentialminus": [
            [
             0,
             "#0d0887"
            ],
            [
             0.1111111111111111,
             "#46039f"
            ],
            [
             0.2222222222222222,
             "#7201a8"
            ],
            [
             0.3333333333333333,
             "#9c179e"
            ],
            [
             0.4444444444444444,
             "#bd3786"
            ],
            [
             0.5555555555555556,
             "#d8576b"
            ],
            [
             0.6666666666666666,
             "#ed7953"
            ],
            [
             0.7777777777777778,
             "#fb9f3a"
            ],
            [
             0.8888888888888888,
             "#fdca26"
            ],
            [
             1,
             "#f0f921"
            ]
           ]
          },
          "colorway": [
           "#636efa",
           "#EF553B",
           "#00cc96",
           "#ab63fa",
           "#FFA15A",
           "#19d3f3",
           "#FF6692",
           "#B6E880",
           "#FF97FF",
           "#FECB52"
          ],
          "font": {
           "color": "#2a3f5f"
          },
          "geo": {
           "bgcolor": "white",
           "lakecolor": "white",
           "landcolor": "#E5ECF6",
           "showlakes": true,
           "showland": true,
           "subunitcolor": "white"
          },
          "hoverlabel": {
           "align": "left"
          },
          "hovermode": "closest",
          "mapbox": {
           "style": "light"
          },
          "paper_bgcolor": "white",
          "plot_bgcolor": "#E5ECF6",
          "polar": {
           "angularaxis": {
            "gridcolor": "white",
            "linecolor": "white",
            "ticks": ""
           },
           "bgcolor": "#E5ECF6",
           "radialaxis": {
            "gridcolor": "white",
            "linecolor": "white",
            "ticks": ""
           }
          },
          "scene": {
           "xaxis": {
            "backgroundcolor": "#E5ECF6",
            "gridcolor": "white",
            "gridwidth": 2,
            "linecolor": "white",
            "showbackground": true,
            "ticks": "",
            "zerolinecolor": "white"
           },
           "yaxis": {
            "backgroundcolor": "#E5ECF6",
            "gridcolor": "white",
            "gridwidth": 2,
            "linecolor": "white",
            "showbackground": true,
            "ticks": "",
            "zerolinecolor": "white"
           },
           "zaxis": {
            "backgroundcolor": "#E5ECF6",
            "gridcolor": "white",
            "gridwidth": 2,
            "linecolor": "white",
            "showbackground": true,
            "ticks": "",
            "zerolinecolor": "white"
           }
          },
          "shapedefaults": {
           "line": {
            "color": "#2a3f5f"
           }
          },
          "ternary": {
           "aaxis": {
            "gridcolor": "white",
            "linecolor": "white",
            "ticks": ""
           },
           "baxis": {
            "gridcolor": "white",
            "linecolor": "white",
            "ticks": ""
           },
           "bgcolor": "#E5ECF6",
           "caxis": {
            "gridcolor": "white",
            "linecolor": "white",
            "ticks": ""
           }
          },
          "title": {
           "x": 0.05
          },
          "xaxis": {
           "automargin": true,
           "gridcolor": "white",
           "linecolor": "white",
           "ticks": "",
           "title": {
            "standoff": 15
           },
           "zerolinecolor": "white",
           "zerolinewidth": 2
          },
          "yaxis": {
           "automargin": true,
           "gridcolor": "white",
           "linecolor": "white",
           "ticks": "",
           "title": {
            "standoff": 15
           },
           "zerolinecolor": "white",
           "zerolinewidth": 2
          }
         }
        },
        "xaxis": {
         "anchor": "y",
         "autorange": true,
         "domain": [
          0,
          1
         ],
         "range": [
          -0.5,
          0.5
         ],
         "type": "category"
        },
        "yaxis": {
         "anchor": "x",
         "autorange": true,
         "domain": [
          0,
          1
         ],
         "range": [
          -100.33333333333334,
          2006.3333333333333
         ],
         "title": {
          "text": "Count"
         },
         "type": "linear"
        }
       }
      },
      "image/png": "[encoded data removed]",
      "text/html": [
       "<div>                            <div id=\"8f28a1d1-37a4-4742-a3bd-b0fb8856b418\" class=\"plotly-graph-div\" style=\"height:525px; width:100%;\"></div>            <script type=\"text/javascript\">                require([\"plotly\"], function(Plotly) {                    window.PLOTLYENV=window.PLOTLYENV || {};                                    if (document.getElementById(\"8f28a1d1-37a4-4742-a3bd-b0fb8856b418\")) {                    Plotly.newPlot(                        \"8f28a1d1-37a4-4742-a3bd-b0fb8856b418\",                        [{\"alignmentgroup\":\"True\",\"hovertemplate\":\"Document Type=Essay<br>Count=%{y}<extra></extra>\",\"legendgroup\":\"Essay\",\"marker\":{\"color\":\"#636efa\"},\"name\":\"Essay\",\"notched\":false,\"offsetgroup\":\"Essay\",\"orientation\":\"v\",\"showlegend\":true,\"x0\":\" \",\"xaxis\":\"x\",\"y\":[1223,163,650,503,1901,308,207,623,992,8,58,562,334,1035,911,288,7,724,944,1256,330,300,183,43,238,11],\"y0\":\" \",\"yaxis\":\"y\",\"type\":\"box\"},{\"alignmentgroup\":\"True\",\"hovertemplate\":\"Document Type=Resume<br>Count=%{y}<extra></extra>\",\"legendgroup\":\"Resume\",\"marker\":{\"color\":\"#EF553B\"},\"name\":\"Resume\",\"notched\":false,\"offsetgroup\":\"Resume\",\"orientation\":\"v\",\"showlegend\":true,\"x0\":\" \",\"xaxis\":\"x\",\"y\":[233,37,185,108,300,34,90,62,298,13,9,121,96,213,140,73,5,185,219,248,99,20,25,7,43,5],\"y0\":\" \",\"yaxis\":\"y\",\"type\":\"box\"},{\"alignmentgroup\":\"True\",\"hovertemplate\":\"Document Type=Lab<br>Count=%{y}<extra></extra>\",\"legendgroup\":\"Lab\",\"marker\":{\"color\":\"#00cc96\"},\"name\":\"Lab\",\"notched\":false,\"offsetgroup\":\"Lab\",\"orientation\":\"v\",\"showlegend\":true,\"x0\":\" \",\"xaxis\":\"x\",\"y\":[996,187,448,448,1471,299,244,521,932,18,97,635,311,726,863,276,32,846,839,1152,439,267,227,17,164,14],\"y0\":\" \",\"yaxis\":\"y\",\"type\":\"box\"}],                        {\"template\":{\"data\":{\"bar\":[{\"error_x\":{\"color\":\"#2a3f5f\"},\"error_y\":{\"color\":\"#2a3f5f\"},\"marker\":{\"line\":{\"color\":\"#E5ECF6\",\"width\":0.5},\"pattern\":{\"fillmode\":\"overlay\",\"size\":10,\"solidity\":0.2}},\"type\":\"bar\"}],\"barpolar\":[{\"marker\":{\"line\":{\"color\":\"#E5ECF6\",\"width\":0.5},\"pattern\":{\"fillmode\":\"overlay\",\"size\":10,\"solidity\":0.2}},\"type\":\"barpolar\"}],\"carpet\":[{\"aaxis\":{\"endlinecolor\":\"#2a3f5f\",\"gridcolor\":\"white\",\"linecolor\":\"white\",\"minorgridcolor\":\"white\",\"startlinecolor\":\"#2a3f5f\"},\"baxis\":{\"endlinecolor\":\"#2a3f5f\",\"gridcolor\":\"white\",\"linecolor\":\"white\",\"minorgridcolor\":\"white\",\"startlinecolor\":\"#2a3f5f\"},\"type\":\"carpet\"}],\"choropleth\":[{\"colorbar\":{\"outlinewidth\":0,\"ticks\":\"\"},\"type\":\"choropleth\"}],\"contour\":[{\"colorbar\":{\"outlinewidth\":0,\"ticks\":\"\"},\"colorscale\":[[0.0,\"#0d0887\"],[0.1111111111111111,\"#46039f\"],[0.2222222222222222,\"#7201a8\"],[0.3333333333333333,\"#9c179e\"],[0.4444444444444444,\"#bd3786\"],[0.5555555555555556,\"#d8576b\"],[0.6666666666666666,\"#ed7953\"],[0.7777777777777778,\"#fb9f3a\"],[0.8888888888888888,\"#fdca26\"],[1.0,\"#f0f921\"]],\"type\":\"contour\"}],\"contourcarpet\":[{\"colorbar\":{\"outlinewidth\":0,\"ticks\":\"\"},\"type\":\"contourcarpet\"}],\"heatmap\":[{\"colorbar\":{\"outlinewidth\":0,\"ticks\":\"\"},\"colorscale\":[[0.0,\"#0d0887\"],[0.1111111111111111,\"#46039f\"],[0.2222222222222222,\"#7201a8\"],[0.3333333333333333,\"#9c179e\"],[0.4444444444444444,\"#bd3786\"],[0.5555555555555556,\"#d8576b\"],[0.6666666666666666,\"#ed7953\"],[0.7777777777777778,\"#fb9f3a\"],[0.8888888888888888,\"#fdca26\"],[1.0,\"#f0f921\"]],\"type\":\"heatmap\"}],\"heatmapgl\":[{\"colorbar\":{\"outlinewidth\":0,\"ticks\":\"\"},\"colorscale\":[[0.0,\"#0d0887\"],[0.1111111111111111,\"#46039f\"],[0.2222222222222222,\"#7201a8\"],[0.3333333333333333,\"#9c179e\"],[0.4444444444444444,\"#bd3786\"],[0.5555555555555556,\"#d8576b\"],[0.6666666666666666,\"#ed7953\"],[0.7777777777777778,\"#fb9f3a\"],[0.8888888888888888,\"#fdca26\"],[1.0,\"#f0f921\"]],\"type\":\"heatmapgl\"}],\"histogram\":[{\"marker\":{\"pattern\":{\"fillmode\":\"overlay\",\"size\":10,\"solidity\":0.2}},\"type\":\"histogram\"}],\"histogram2d\":[{\"colorbar\":{\"outlinewidth\":0,\"ticks\":\"\"},\"colorscale\":[[0.0,\"#0d0887\"],[0.1111111111111111,\"#46039f\"],[0.2222222222222222,\"#7201a8\"],[0.3333333333333333,\"#9c179e\"],[0.4444444444444444,\"#bd3786\"],[0.5555555555555556,\"#d8576b\"],[0.6666666666666666,\"#ed7953\"],[0.7777777777777778,\"#fb9f3a\"],[0.8888888888888888,\"#fdca26\"],[1.0,\"#f0f921\"]],\"type\":\"histogram2d\"}],\"histogram2dcontour\":[{\"colorbar\":{\"outlinewidth\":0,\"ticks\":\"\"},\"colorscale\":[[0.0,\"#0d0887\"],[0.1111111111111111,\"#46039f\"],[0.2222222222222222,\"#7201a8\"],[0.3333333333333333,\"#9c179e\"],[0.4444444444444444,\"#bd3786\"],[0.5555555555555556,\"#d8576b\"],[0.6666666666666666,\"#ed7953\"],[0.7777777777777778,\"#fb9f3a\"],[0.8888888888888888,\"#fdca26\"],[1.0,\"#f0f921\"]],\"type\":\"histogram2dcontour\"}],\"mesh3d\":[{\"colorbar\":{\"outlinewidth\":0,\"ticks\":\"\"},\"type\":\"mesh3d\"}],\"parcoords\":[{\"line\":{\"colorbar\":{\"outlinewidth\":0,\"ticks\":\"\"}},\"type\":\"parcoords\"}],\"pie\":[{\"automargin\":true,\"type\":\"pie\"}],\"scatter\":[{\"marker\":{\"colorbar\":{\"outlinewidth\":0,\"ticks\":\"\"}},\"type\":\"scatter\"}],\"scatter3d\":[{\"line\":{\"colorbar\":{\"outlinewidth\":0,\"ticks\":\"\"}},\"marker\":{\"colorbar\":{\"outlinewidth\":0,\"ticks\":\"\"}},\"type\":\"scatter3d\"}],\"scattercarpet\":[{\"marker\":{\"colorbar\":{\"outlinewidth\":0,\"ticks\":\"\"}},\"type\":\"scattercarpet\"}],\"scattergeo\":[{\"marker\":{\"colorbar\":{\"outlinewidth\":0,\"ticks\":\"\"}},\"type\":\"scattergeo\"}],\"scattergl\":[{\"marker\":{\"colorbar\":{\"outlinewidth\":0,\"ticks\":\"\"}},\"type\":\"scattergl\"}],\"scattermapbox\":[{\"marker\":{\"colorbar\":{\"outlinewidth\":0,\"ticks\":\"\"}},\"type\":\"scattermapbox\"}],\"scatterpolar\":[{\"marker\":{\"colorbar\":{\"outlinewidth\":0,\"ticks\":\"\"}},\"type\":\"scatterpolar\"}],\"scatterpolargl\":[{\"marker\":{\"colorbar\":{\"outlinewidth\":0,\"ticks\":\"\"}},\"type\":\"scatterpolargl\"}],\"scatterternary\":[{\"marker\":{\"colorbar\":{\"outlinewidth\":0,\"ticks\":\"\"}},\"type\":\"scatterternary\"}],\"surface\":[{\"colorbar\":{\"outlinewidth\":0,\"ticks\":\"\"},\"colorscale\":[[0.0,\"#0d0887\"],[0.1111111111111111,\"#46039f\"],[0.2222222222222222,\"#7201a8\"],[0.3333333333333333,\"#9c179e\"],[0.4444444444444444,\"#bd3786\"],[0.5555555555555556,\"#d8576b\"],[0.6666666666666666,\"#ed7953\"],[0.7777777777777778,\"#fb9f3a\"],[0.8888888888888888,\"#fdca26\"],[1.0,\"#f0f921\"]],\"type\":\"surface\"}],\"table\":[{\"cells\":{\"fill\":{\"color\":\"#EBF0F8\"},\"line\":{\"color\":\"white\"}},\"header\":{\"fill\":{\"color\":\"#C8D4E3\"},\"line\":{\"color\":\"white\"}},\"type\":\"table\"}]},\"layout\":{\"annotationdefaults\":{\"arrowcolor\":\"#2a3f5f\",\"arrowhead\":0,\"arrowwidth\":1},\"autotypenumbers\":\"strict\",\"coloraxis\":{\"colorbar\":{\"outlinewidth\":0,\"ticks\":\"\"}},\"colorscale\":{\"diverging\":[[0,\"#8e0152\"],[0.1,\"#c51b7d\"],[0.2,\"#de77ae\"],[0.3,\"#f1b6da\"],[0.4,\"#fde0ef\"],[0.5,\"#f7f7f7\"],[0.6,\"#e6f5d0\"],[0.7,\"#b8e186\"],[0.8,\"#7fbc41\"],[0.9,\"#4d9221\"],[1,\"#276419\"]],\"sequential\":[[0.0,\"#0d0887\"],[0.1111111111111111,\"#46039f\"],[0.2222222222222222,\"#7201a8\"],[0.3333333333333333,\"#9c179e\"],[0.4444444444444444,\"#bd3786\"],[0.5555555555555556,\"#d8576b\"],[0.6666666666666666,\"#ed7953\"],[0.7777777777777778,\"#fb9f3a\"],[0.8888888888888888,\"#fdca26\"],[1.0,\"#f0f921\"]],\"sequentialminus\":[[0.0,\"#0d0887\"],[0.1111111111111111,\"#46039f\"],[0.2222222222222222,\"#7201a8\"],[0.3333333333333333,\"#9c179e\"],[0.4444444444444444,\"#bd3786\"],[0.5555555555555556,\"#d8576b\"],[0.6666666666666666,\"#ed7953\"],[0.7777777777777778,\"#fb9f3a\"],[0.8888888888888888,\"#fdca26\"],[1.0,\"#f0f921\"]]},\"colorway\":[\"#636efa\",\"#EF553B\",\"#00cc96\",\"#ab63fa\",\"#FFA15A\",\"#19d3f3\",\"#FF6692\",\"#B6E880\",\"#FF97FF\",\"#FECB52\"],\"font\":{\"color\":\"#2a3f5f\"},\"geo\":{\"bgcolor\":\"white\",\"lakecolor\":\"white\",\"landcolor\":\"#E5ECF6\",\"showlakes\":true,\"showland\":true,\"subunitcolor\":\"white\"},\"hoverlabel\":{\"align\":\"left\"},\"hovermode\":\"closest\",\"mapbox\":{\"style\":\"light\"},\"paper_bgcolor\":\"white\",\"plot_bgcolor\":\"#E5ECF6\",\"polar\":{\"angularaxis\":{\"gridcolor\":\"white\",\"linecolor\":\"white\",\"ticks\":\"\"},\"bgcolor\":\"#E5ECF6\",\"radialaxis\":{\"gridcolor\":\"white\",\"linecolor\":\"white\",\"ticks\":\"\"}},\"scene\":{\"xaxis\":{\"backgroundcolor\":\"#E5ECF6\",\"gridcolor\":\"white\",\"gridwidth\":2,\"linecolor\":\"white\",\"showbackground\":true,\"ticks\":\"\",\"zerolinecolor\":\"white\"},\"yaxis\":{\"backgroundcolor\":\"#E5ECF6\",\"gridcolor\":\"white\",\"gridwidth\":2,\"linecolor\":\"white\",\"showbackground\":true,\"ticks\":\"\",\"zerolinecolor\":\"white\"},\"zaxis\":{\"backgroundcolor\":\"#E5ECF6\",\"gridcolor\":\"white\",\"gridwidth\":2,\"linecolor\":\"white\",\"showbackground\":true,\"ticks\":\"\",\"zerolinecolor\":\"white\"}},\"shapedefaults\":{\"line\":{\"color\":\"#2a3f5f\"}},\"ternary\":{\"aaxis\":{\"gridcolor\":\"white\",\"linecolor\":\"white\",\"ticks\":\"\"},\"baxis\":{\"gridcolor\":\"white\",\"linecolor\":\"white\",\"ticks\":\"\"},\"bgcolor\":\"#E5ECF6\",\"caxis\":{\"gridcolor\":\"white\",\"linecolor\":\"white\",\"ticks\":\"\"}},\"title\":{\"x\":0.05},\"xaxis\":{\"automargin\":true,\"gridcolor\":\"white\",\"linecolor\":\"white\",\"ticks\":\"\",\"title\":{\"standoff\":15},\"zerolinecolor\":\"white\",\"zerolinewidth\":2},\"yaxis\":{\"automargin\":true,\"gridcolor\":\"white\",\"linecolor\":\"white\",\"ticks\":\"\",\"title\":{\"standoff\":15},\"zerolinecolor\":\"white\",\"zerolinewidth\":2}}},\"xaxis\":{\"anchor\":\"y\",\"domain\":[0.0,1.0]},\"yaxis\":{\"anchor\":\"x\",\"domain\":[0.0,1.0],\"title\":{\"text\":\"Count\"}},\"legend\":{\"title\":{\"text\":\"Document Type\"},\"tracegroupgap\":0},\"margin\":{\"t\":60},\"boxmode\":\"group\"},                        {\"responsive\": true}                    ).then(function(){\n",
       "                            \n",
       "var gd = document.getElementById('8f28a1d1-37a4-4742-a3bd-b0fb8856b418');\n",
       "var x = new MutationObserver(function (mutations, observer) {{\n",
       "        var display = window.getComputedStyle(gd).display;\n",
       "        if (!display || display === 'none') {{\n",
       "            console.log([gd, 'removed!']);\n",
       "            Plotly.purge(gd);\n",
       "            observer.disconnect();\n",
       "        }}\n",
       "}});\n",
       "\n",
       "// Listen for the removal of the full notebook cells\n",
       "var notebookContainer = gd.closest('#notebook-container');\n",
       "if (notebookContainer) {{\n",
       "    x.observe(notebookContainer, {childList: true});\n",
       "}}\n",
       "\n",
       "// Listen for the clearing of the current output cell\n",
       "var outputEl = gd.closest('.output');\n",
       "if (outputEl) {{\n",
       "    x.observe(outputEl, {childList: true});\n",
       "}}\n",
       "\n",
       "                        })                };                });            </script>        </div>"
      ]
     },
     "metadata": {},
     "output_type": "display_data"
    },
    {
     "data": {
      "application/vnd.plotly.v1+json": {
       "config": {
        "plotlyServerURL": "https://plot.ly"
       },
       "data": [
        {
         "alignmentgroup": "True",
         "hovertemplate": "Letter=a<br>Count=%{y}<extra></extra>",
         "legendgroup": "a",
         "marker": {
          "color": "#636efa"
         },
         "name": "a",
         "notched": false,
         "offsetgroup": "a",
         "orientation": "v",
         "showlegend": true,
         "type": "box",
         "x0": " ",
         "xaxis": "x",
         "y": [
          1223,
          233,
          996
         ],
         "y0": " ",
         "yaxis": "y"
        },
        {
         "alignmentgroup": "True",
         "hovertemplate": "Letter=b<br>Count=%{y}<extra></extra>",
         "legendgroup": "b",
         "marker": {
          "color": "#EF553B"
         },
         "name": "b",
         "notched": false,
         "offsetgroup": "b",
         "orientation": "v",
         "showlegend": true,
         "type": "box",
         "x0": " ",
         "xaxis": "x",
         "y": [
          163,
          37,
          187
         ],
         "y0": " ",
         "yaxis": "y"
        },
        {
         "alignmentgroup": "True",
         "hovertemplate": "Letter=c<br>Count=%{y}<extra></extra>",
         "legendgroup": "c",
         "marker": {
          "color": "#00cc96"
         },
         "name": "c",
         "notched": false,
         "offsetgroup": "c",
         "orientation": "v",
         "showlegend": true,
         "type": "box",
         "x0": " ",
         "xaxis": "x",
         "y": [
          650,
          185,
          448
         ],
         "y0": " ",
         "yaxis": "y"
        },
        {
         "alignmentgroup": "True",
         "hovertemplate": "Letter=d<br>Count=%{y}<extra></extra>",
         "legendgroup": "d",
         "marker": {
          "color": "#ab63fa"
         },
         "name": "d",
         "notched": false,
         "offsetgroup": "d",
         "orientation": "v",
         "showlegend": true,
         "type": "box",
         "x0": " ",
         "xaxis": "x",
         "y": [
          503,
          108,
          448
         ],
         "y0": " ",
         "yaxis": "y"
        },
        {
         "alignmentgroup": "True",
         "hovertemplate": "Letter=e<br>Count=%{y}<extra></extra>",
         "legendgroup": "e",
         "marker": {
          "color": "#FFA15A"
         },
         "name": "e",
         "notched": false,
         "offsetgroup": "e",
         "orientation": "v",
         "showlegend": true,
         "type": "box",
         "x0": " ",
         "xaxis": "x",
         "y": [
          1901,
          300,
          1471
         ],
         "y0": " ",
         "yaxis": "y"
        },
        {
         "alignmentgroup": "True",
         "hovertemplate": "Letter=f<br>Count=%{y}<extra></extra>",
         "legendgroup": "f",
         "marker": {
          "color": "#19d3f3"
         },
         "name": "f",
         "notched": false,
         "offsetgroup": "f",
         "orientation": "v",
         "showlegend": true,
         "type": "box",
         "x0": " ",
         "xaxis": "x",
         "y": [
          308,
          34,
          299
         ],
         "y0": " ",
         "yaxis": "y"
        },
        {
         "alignmentgroup": "True",
         "hovertemplate": "Letter=g<br>Count=%{y}<extra></extra>",
         "legendgroup": "g",
         "marker": {
          "color": "#FF6692"
         },
         "name": "g",
         "notched": false,
         "offsetgroup": "g",
         "orientation": "v",
         "showlegend": true,
         "type": "box",
         "x0": " ",
         "xaxis": "x",
         "y": [
          207,
          90,
          244
         ],
         "y0": " ",
         "yaxis": "y"
        },
        {
         "alignmentgroup": "True",
         "hovertemplate": "Letter=h<br>Count=%{y}<extra></extra>",
         "legendgroup": "h",
         "marker": {
          "color": "#B6E880"
         },
         "name": "h",
         "notched": false,
         "offsetgroup": "h",
         "orientation": "v",
         "showlegend": true,
         "type": "box",
         "x0": " ",
         "xaxis": "x",
         "y": [
          623,
          62,
          521
         ],
         "y0": " ",
         "yaxis": "y"
        },
        {
         "alignmentgroup": "True",
         "hovertemplate": "Letter=i<br>Count=%{y}<extra></extra>",
         "legendgroup": "i",
         "marker": {
          "color": "#FF97FF"
         },
         "name": "i",
         "notched": false,
         "offsetgroup": "i",
         "orientation": "v",
         "showlegend": true,
         "type": "box",
         "x0": " ",
         "xaxis": "x",
         "y": [
          992,
          298,
          932
         ],
         "y0": " ",
         "yaxis": "y"
        },
        {
         "alignmentgroup": "True",
         "hovertemplate": "Letter=j<br>Count=%{y}<extra></extra>",
         "legendgroup": "j",
         "marker": {
          "color": "#FECB52"
         },
         "name": "j",
         "notched": false,
         "offsetgroup": "j",
         "orientation": "v",
         "showlegend": true,
         "type": "box",
         "x0": " ",
         "xaxis": "x",
         "y": [
          8,
          13,
          18
         ],
         "y0": " ",
         "yaxis": "y"
        },
        {
         "alignmentgroup": "True",
         "hovertemplate": "Letter=k<br>Count=%{y}<extra></extra>",
         "legendgroup": "k",
         "marker": {
          "color": "#636efa"
         },
         "name": "k",
         "notched": false,
         "offsetgroup": "k",
         "orientation": "v",
         "showlegend": true,
         "type": "box",
         "x0": " ",
         "xaxis": "x",
         "y": [
          58,
          9,
          97
         ],
         "y0": " ",
         "yaxis": "y"
        },
        {
         "alignmentgroup": "True",
         "hovertemplate": "Letter=l<br>Count=%{y}<extra></extra>",
         "legendgroup": "l",
         "marker": {
          "color": "#EF553B"
         },
         "name": "l",
         "notched": false,
         "offsetgroup": "l",
         "orientation": "v",
         "showlegend": true,
         "type": "box",
         "x0": " ",
         "xaxis": "x",
         "y": [
          562,
          121,
          635
         ],
         "y0": " ",
         "yaxis": "y"
        },
        {
         "alignmentgroup": "True",
         "hovertemplate": "Letter=m<br>Count=%{y}<extra></extra>",
         "legendgroup": "m",
         "marker": {
          "color": "#00cc96"
         },
         "name": "m",
         "notched": false,
         "offsetgroup": "m",
         "orientation": "v",
         "showlegend": true,
         "type": "box",
         "x0": " ",
         "xaxis": "x",
         "y": [
          334,
          96,
          311
         ],
         "y0": " ",
         "yaxis": "y"
        },
        {
         "alignmentgroup": "True",
         "hovertemplate": "Letter=n<br>Count=%{y}<extra></extra>",
         "legendgroup": "n",
         "marker": {
          "color": "#ab63fa"
         },
         "name": "n",
         "notched": false,
         "offsetgroup": "n",
         "orientation": "v",
         "showlegend": true,
         "type": "box",
         "x0": " ",
         "xaxis": "x",
         "y": [
          1035,
          213,
          726
         ],
         "y0": " ",
         "yaxis": "y"
        },
        {
         "alignmentgroup": "True",
         "hovertemplate": "Letter=o<br>Count=%{y}<extra></extra>",
         "legendgroup": "o",
         "marker": {
          "color": "#FFA15A"
         },
         "name": "o",
         "notched": false,
         "offsetgroup": "o",
         "orientation": "v",
         "showlegend": true,
         "type": "box",
         "x0": " ",
         "xaxis": "x",
         "y": [
          911,
          140,
          863
         ],
         "y0": " ",
         "yaxis": "y"
        },
        {
         "alignmentgroup": "True",
         "hovertemplate": "Letter=p<br>Count=%{y}<extra></extra>",
         "legendgroup": "p",
         "marker": {
          "color": "#19d3f3"
         },
         "name": "p",
         "notched": false,
         "offsetgroup": "p",
         "orientation": "v",
         "showlegend": true,
         "type": "box",
         "x0": " ",
         "xaxis": "x",
         "y": [
          288,
          73,
          276
         ],
         "y0": " ",
         "yaxis": "y"
        },
        {
         "alignmentgroup": "True",
         "hovertemplate": "Letter=q<br>Count=%{y}<extra></extra>",
         "legendgroup": "q",
         "marker": {
          "color": "#FF6692"
         },
         "name": "q",
         "notched": false,
         "offsetgroup": "q",
         "orientation": "v",
         "showlegend": true,
         "type": "box",
         "x0": " ",
         "xaxis": "x",
         "y": [
          7,
          5,
          32
         ],
         "y0": " ",
         "yaxis": "y"
        },
        {
         "alignmentgroup": "True",
         "hovertemplate": "Letter=r<br>Count=%{y}<extra></extra>",
         "legendgroup": "r",
         "marker": {
          "color": "#B6E880"
         },
         "name": "r",
         "notched": false,
         "offsetgroup": "r",
         "orientation": "v",
         "showlegend": true,
         "type": "box",
         "x0": " ",
         "xaxis": "x",
         "y": [
          724,
          185,
          846
         ],
         "y0": " ",
         "yaxis": "y"
        },
        {
         "alignmentgroup": "True",
         "hovertemplate": "Letter=s<br>Count=%{y}<extra></extra>",
         "legendgroup": "s",
         "marker": {
          "color": "#FF97FF"
         },
         "name": "s",
         "notched": false,
         "offsetgroup": "s",
         "orientation": "v",
         "showlegend": true,
         "type": "box",
         "x0": " ",
         "xaxis": "x",
         "y": [
          944,
          219,
          839
         ],
         "y0": " ",
         "yaxis": "y"
        },
        {
         "alignmentgroup": "True",
         "hovertemplate": "Letter=t<br>Count=%{y}<extra></extra>",
         "legendgroup": "t",
         "marker": {
          "color": "#FECB52"
         },
         "name": "t",
         "notched": false,
         "offsetgroup": "t",
         "orientation": "v",
         "showlegend": true,
         "type": "box",
         "x0": " ",
         "xaxis": "x",
         "y": [
          1256,
          248,
          1152
         ],
         "y0": " ",
         "yaxis": "y"
        },
        {
         "alignmentgroup": "True",
         "hovertemplate": "Letter=u<br>Count=%{y}<extra></extra>",
         "legendgroup": "u",
         "marker": {
          "color": "#636efa"
         },
         "name": "u",
         "notched": false,
         "offsetgroup": "u",
         "orientation": "v",
         "showlegend": true,
         "type": "box",
         "x0": " ",
         "xaxis": "x",
         "y": [
          330,
          99,
          439
         ],
         "y0": " ",
         "yaxis": "y"
        },
        {
         "alignmentgroup": "True",
         "hovertemplate": "Letter=v<br>Count=%{y}<extra></extra>",
         "legendgroup": "v",
         "marker": {
          "color": "#EF553B"
         },
         "name": "v",
         "notched": false,
         "offsetgroup": "v",
         "orientation": "v",
         "showlegend": true,
         "type": "box",
         "x0": " ",
         "xaxis": "x",
         "y": [
          300,
          20,
          267
         ],
         "y0": " ",
         "yaxis": "y"
        },
        {
         "alignmentgroup": "True",
         "hovertemplate": "Letter=w<br>Count=%{y}<extra></extra>",
         "legendgroup": "w",
         "marker": {
          "color": "#00cc96"
         },
         "name": "w",
         "notched": false,
         "offsetgroup": "w",
         "orientation": "v",
         "showlegend": true,
         "type": "box",
         "x0": " ",
         "xaxis": "x",
         "y": [
          183,
          25,
          227
         ],
         "y0": " ",
         "yaxis": "y"
        },
        {
         "alignmentgroup": "True",
         "hovertemplate": "Letter=x<br>Count=%{y}<extra></extra>",
         "legendgroup": "x",
         "marker": {
          "color": "#ab63fa"
         },
         "name": "x",
         "notched": false,
         "offsetgroup": "x",
         "orientation": "v",
         "showlegend": true,
         "type": "box",
         "x0": " ",
         "xaxis": "x",
         "y": [
          43,
          7,
          17
         ],
         "y0": " ",
         "yaxis": "y"
        },
        {
         "alignmentgroup": "True",
         "hovertemplate": "Letter=y<br>Count=%{y}<extra></extra>",
         "legendgroup": "y",
         "marker": {
          "color": "#FFA15A"
         },
         "name": "y",
         "notched": false,
         "offsetgroup": "y",
         "orientation": "v",
         "showlegend": true,
         "type": "box",
         "x0": " ",
         "xaxis": "x",
         "y": [
          238,
          43,
          164
         ],
         "y0": " ",
         "yaxis": "y"
        },
        {
         "alignmentgroup": "True",
         "hovertemplate": "Letter=z<br>Count=%{y}<extra></extra>",
         "legendgroup": "z",
         "marker": {
          "color": "#19d3f3"
         },
         "name": "z",
         "notched": false,
         "offsetgroup": "z",
         "orientation": "v",
         "showlegend": true,
         "type": "box",
         "x0": " ",
         "xaxis": "x",
         "y": [
          11,
          5,
          14
         ],
         "y0": " ",
         "yaxis": "y"
        }
       ],
       "layout": {
        "autosize": true,
        "boxmode": "group",
        "legend": {
         "title": {
          "text": "Letter"
         },
         "tracegroupgap": 0
        },
        "margin": {
         "t": 60
        },
        "template": {
         "data": {
          "bar": [
           {
            "error_x": {
             "color": "#2a3f5f"
            },
            "error_y": {
             "color": "#2a3f5f"
            },
            "marker": {
             "line": {
              "color": "#E5ECF6",
              "width": 0.5
             },
             "pattern": {
              "fillmode": "overlay",
              "size": 10,
              "solidity": 0.2
             }
            },
            "type": "bar"
           }
          ],
          "barpolar": [
           {
            "marker": {
             "line": {
              "color": "#E5ECF6",
              "width": 0.5
             },
             "pattern": {
              "fillmode": "overlay",
              "size": 10,
              "solidity": 0.2
             }
            },
            "type": "barpolar"
           }
          ],
          "carpet": [
           {
            "aaxis": {
             "endlinecolor": "#2a3f5f",
             "gridcolor": "white",
             "linecolor": "white",
             "minorgridcolor": "white",
             "startlinecolor": "#2a3f5f"
            },
            "baxis": {
             "endlinecolor": "#2a3f5f",
             "gridcolor": "white",
             "linecolor": "white",
             "minorgridcolor": "white",
             "startlinecolor": "#2a3f5f"
            },
            "type": "carpet"
           }
          ],
          "choropleth": [
           {
            "colorbar": {
             "outlinewidth": 0,
             "ticks": ""
            },
            "type": "choropleth"
           }
          ],
          "contour": [
           {
            "colorbar": {
             "outlinewidth": 0,
             "ticks": ""
            },
            "colorscale": [
             [
              0,
              "#0d0887"
             ],
             [
              0.1111111111111111,
              "#46039f"
             ],
             [
              0.2222222222222222,
              "#7201a8"
             ],
             [
              0.3333333333333333,
              "#9c179e"
             ],
             [
              0.4444444444444444,
              "#bd3786"
             ],
             [
              0.5555555555555556,
              "#d8576b"
             ],
             [
              0.6666666666666666,
              "#ed7953"
             ],
             [
              0.7777777777777778,
              "#fb9f3a"
             ],
             [
              0.8888888888888888,
              "#fdca26"
             ],
             [
              1,
              "#f0f921"
             ]
            ],
            "type": "contour"
           }
          ],
          "contourcarpet": [
           {
            "colorbar": {
             "outlinewidth": 0,
             "ticks": ""
            },
            "type": "contourcarpet"
           }
          ],
          "heatmap": [
           {
            "colorbar": {
             "outlinewidth": 0,
             "ticks": ""
            },
            "colorscale": [
             [
              0,
              "#0d0887"
             ],
             [
              0.1111111111111111,
              "#46039f"
             ],
             [
              0.2222222222222222,
              "#7201a8"
             ],
             [
              0.3333333333333333,
              "#9c179e"
             ],
             [
              0.4444444444444444,
              "#bd3786"
             ],
             [
              0.5555555555555556,
              "#d8576b"
             ],
             [
              0.6666666666666666,
              "#ed7953"
             ],
             [
              0.7777777777777778,
              "#fb9f3a"
             ],
             [
              0.8888888888888888,
              "#fdca26"
             ],
             [
              1,
              "#f0f921"
             ]
            ],
            "type": "heatmap"
           }
          ],
          "heatmapgl": [
           {
            "colorbar": {
             "outlinewidth": 0,
             "ticks": ""
            },
            "colorscale": [
             [
              0,
              "#0d0887"
             ],
             [
              0.1111111111111111,
              "#46039f"
             ],
             [
              0.2222222222222222,
              "#7201a8"
             ],
             [
              0.3333333333333333,
              "#9c179e"
             ],
             [
              0.4444444444444444,
              "#bd3786"
             ],
             [
              0.5555555555555556,
              "#d8576b"
             ],
             [
              0.6666666666666666,
              "#ed7953"
             ],
             [
              0.7777777777777778,
              "#fb9f3a"
             ],
             [
              0.8888888888888888,
              "#fdca26"
             ],
             [
              1,
              "#f0f921"
             ]
            ],
            "type": "heatmapgl"
           }
          ],
          "histogram": [
           {
            "marker": {
             "pattern": {
              "fillmode": "overlay",
              "size": 10,
              "solidity": 0.2
             }
            },
            "type": "histogram"
           }
          ],
          "histogram2d": [
           {
            "colorbar": {
             "outlinewidth": 0,
             "ticks": ""
            },
            "colorscale": [
             [
              0,
              "#0d0887"
             ],
             [
              0.1111111111111111,
              "#46039f"
             ],
             [
              0.2222222222222222,
              "#7201a8"
             ],
             [
              0.3333333333333333,
              "#9c179e"
             ],
             [
              0.4444444444444444,
              "#bd3786"
             ],
             [
              0.5555555555555556,
              "#d8576b"
             ],
             [
              0.6666666666666666,
              "#ed7953"
             ],
             [
              0.7777777777777778,
              "#fb9f3a"
             ],
             [
              0.8888888888888888,
              "#fdca26"
             ],
             [
              1,
              "#f0f921"
             ]
            ],
            "type": "histogram2d"
           }
          ],
          "histogram2dcontour": [
           {
            "colorbar": {
             "outlinewidth": 0,
             "ticks": ""
            },
            "colorscale": [
             [
              0,
              "#0d0887"
             ],
             [
              0.1111111111111111,
              "#46039f"
             ],
             [
              0.2222222222222222,
              "#7201a8"
             ],
             [
              0.3333333333333333,
              "#9c179e"
             ],
             [
              0.4444444444444444,
              "#bd3786"
             ],
             [
              0.5555555555555556,
              "#d8576b"
             ],
             [
              0.6666666666666666,
              "#ed7953"
             ],
             [
              0.7777777777777778,
              "#fb9f3a"
             ],
             [
              0.8888888888888888,
              "#fdca26"
             ],
             [
              1,
              "#f0f921"
             ]
            ],
            "type": "histogram2dcontour"
           }
          ],
          "mesh3d": [
           {
            "colorbar": {
             "outlinewidth": 0,
             "ticks": ""
            },
            "type": "mesh3d"
           }
          ],
          "parcoords": [
           {
            "line": {
             "colorbar": {
              "outlinewidth": 0,
              "ticks": ""
             }
            },
            "type": "parcoords"
           }
          ],
          "pie": [
           {
            "automargin": true,
            "type": "pie"
           }
          ],
          "scatter": [
           {
            "marker": {
             "colorbar": {
              "outlinewidth": 0,
              "ticks": ""
             }
            },
            "type": "scatter"
           }
          ],
          "scatter3d": [
           {
            "line": {
             "colorbar": {
              "outlinewidth": 0,
              "ticks": ""
             }
            },
            "marker": {
             "colorbar": {
              "outlinewidth": 0,
              "ticks": ""
             }
            },
            "type": "scatter3d"
           }
          ],
          "scattercarpet": [
           {
            "marker": {
             "colorbar": {
              "outlinewidth": 0,
              "ticks": ""
             }
            },
            "type": "scattercarpet"
           }
          ],
          "scattergeo": [
           {
            "marker": {
             "colorbar": {
              "outlinewidth": 0,
              "ticks": ""
             }
            },
            "type": "scattergeo"
           }
          ],
          "scattergl": [
           {
            "marker": {
             "colorbar": {
              "outlinewidth": 0,
              "ticks": ""
             }
            },
            "type": "scattergl"
           }
          ],
          "scattermapbox": [
           {
            "marker": {
             "colorbar": {
              "outlinewidth": 0,
              "ticks": ""
             }
            },
            "type": "scattermapbox"
           }
          ],
          "scatterpolar": [
           {
            "marker": {
             "colorbar": {
              "outlinewidth": 0,
              "ticks": ""
             }
            },
            "type": "scatterpolar"
           }
          ],
          "scatterpolargl": [
           {
            "marker": {
             "colorbar": {
              "outlinewidth": 0,
              "ticks": ""
             }
            },
            "type": "scatterpolargl"
           }
          ],
          "scatterternary": [
           {
            "marker": {
             "colorbar": {
              "outlinewidth": 0,
              "ticks": ""
             }
            },
            "type": "scatterternary"
           }
          ],
          "surface": [
           {
            "colorbar": {
             "outlinewidth": 0,
             "ticks": ""
            },
            "colorscale": [
             [
              0,
              "#0d0887"
             ],
             [
              0.1111111111111111,
              "#46039f"
             ],
             [
              0.2222222222222222,
              "#7201a8"
             ],
             [
              0.3333333333333333,
              "#9c179e"
             ],
             [
              0.4444444444444444,
              "#bd3786"
             ],
             [
              0.5555555555555556,
              "#d8576b"
             ],
             [
              0.6666666666666666,
              "#ed7953"
             ],
             [
              0.7777777777777778,
              "#fb9f3a"
             ],
             [
              0.8888888888888888,
              "#fdca26"
             ],
             [
              1,
              "#f0f921"
             ]
            ],
            "type": "surface"
           }
          ],
          "table": [
           {
            "cells": {
             "fill": {
              "color": "#EBF0F8"
             },
             "line": {
              "color": "white"
             }
            },
            "header": {
             "fill": {
              "color": "#C8D4E3"
             },
             "line": {
              "color": "white"
             }
            },
            "type": "table"
           }
          ]
         },
         "layout": {
          "annotationdefaults": {
           "arrowcolor": "#2a3f5f",
           "arrowhead": 0,
           "arrowwidth": 1
          },
          "autotypenumbers": "strict",
          "coloraxis": {
           "colorbar": {
            "outlinewidth": 0,
            "ticks": ""
           }
          },
          "colorscale": {
           "diverging": [
            [
             0,
             "#8e0152"
            ],
            [
             0.1,
             "#c51b7d"
            ],
            [
             0.2,
             "#de77ae"
            ],
            [
             0.3,
             "#f1b6da"
            ],
            [
             0.4,
             "#fde0ef"
            ],
            [
             0.5,
             "#f7f7f7"
            ],
            [
             0.6,
             "#e6f5d0"
            ],
            [
             0.7,
             "#b8e186"
            ],
            [
             0.8,
             "#7fbc41"
            ],
            [
             0.9,
             "#4d9221"
            ],
            [
             1,
             "#276419"
            ]
           ],
           "sequential": [
            [
             0,
             "#0d0887"
            ],
            [
             0.1111111111111111,
             "#46039f"
            ],
            [
             0.2222222222222222,
             "#7201a8"
            ],
            [
             0.3333333333333333,
             "#9c179e"
            ],
            [
             0.4444444444444444,
             "#bd3786"
            ],
            [
             0.5555555555555556,
             "#d8576b"
            ],
            [
             0.6666666666666666,
             "#ed7953"
            ],
            [
             0.7777777777777778,
             "#fb9f3a"
            ],
            [
             0.8888888888888888,
             "#fdca26"
            ],
            [
             1,
             "#f0f921"
            ]
           ],
           "sequentialminus": [
            [
             0,
             "#0d0887"
            ],
            [
             0.1111111111111111,
             "#46039f"
            ],
            [
             0.2222222222222222,
             "#7201a8"
            ],
            [
             0.3333333333333333,
             "#9c179e"
            ],
            [
             0.4444444444444444,
             "#bd3786"
            ],
            [
             0.5555555555555556,
             "#d8576b"
            ],
            [
             0.6666666666666666,
             "#ed7953"
            ],
            [
             0.7777777777777778,
             "#fb9f3a"
            ],
            [
             0.8888888888888888,
             "#fdca26"
            ],
            [
             1,
             "#f0f921"
            ]
           ]
          },
          "colorway": [
           "#636efa",
           "#EF553B",
           "#00cc96",
           "#ab63fa",
           "#FFA15A",
           "#19d3f3",
           "#FF6692",
           "#B6E880",
           "#FF97FF",
           "#FECB52"
          ],
          "font": {
           "color": "#2a3f5f"
          },
          "geo": {
           "bgcolor": "white",
           "lakecolor": "white",
           "landcolor": "#E5ECF6",
           "showlakes": true,
           "showland": true,
           "subunitcolor": "white"
          },
          "hoverlabel": {
           "align": "left"
          },
          "hovermode": "closest",
          "mapbox": {
           "style": "light"
          },
          "paper_bgcolor": "white",
          "plot_bgcolor": "#E5ECF6",
          "polar": {
           "angularaxis": {
            "gridcolor": "white",
            "linecolor": "white",
            "ticks": ""
           },
           "bgcolor": "#E5ECF6",
           "radialaxis": {
            "gridcolor": "white",
            "linecolor": "white",
            "ticks": ""
           }
          },
          "scene": {
           "xaxis": {
            "backgroundcolor": "#E5ECF6",
            "gridcolor": "white",
            "gridwidth": 2,
            "linecolor": "white",
            "showbackground": true,
            "ticks": "",
            "zerolinecolor": "white"
           },
           "yaxis": {
            "backgroundcolor": "#E5ECF6",
            "gridcolor": "white",
            "gridwidth": 2,
            "linecolor": "white",
            "showbackground": true,
            "ticks": "",
            "zerolinecolor": "white"
           },
           "zaxis": {
            "backgroundcolor": "#E5ECF6",
            "gridcolor": "white",
            "gridwidth": 2,
            "linecolor": "white",
            "showbackground": true,
            "ticks": "",
            "zerolinecolor": "white"
           }
          },
          "shapedefaults": {
           "line": {
            "color": "#2a3f5f"
           }
          },
          "ternary": {
           "aaxis": {
            "gridcolor": "white",
            "linecolor": "white",
            "ticks": ""
           },
           "baxis": {
            "gridcolor": "white",
            "linecolor": "white",
            "ticks": ""
           },
           "bgcolor": "#E5ECF6",
           "caxis": {
            "gridcolor": "white",
            "linecolor": "white",
            "ticks": ""
           }
          },
          "title": {
           "x": 0.05
          },
          "xaxis": {
           "automargin": true,
           "gridcolor": "white",
           "linecolor": "white",
           "ticks": "",
           "title": {
            "standoff": 15
           },
           "zerolinecolor": "white",
           "zerolinewidth": 2
          },
          "yaxis": {
           "automargin": true,
           "gridcolor": "white",
           "linecolor": "white",
           "ticks": "",
           "title": {
            "standoff": 15
           },
           "zerolinecolor": "white",
           "zerolinewidth": 2
          }
         }
        },
        "xaxis": {
         "anchor": "y",
         "autorange": true,
         "domain": [
          0,
          1
         ],
         "range": [
          -0.5,
          0.5
         ],
         "type": "category"
        },
        "yaxis": {
         "anchor": "x",
         "autorange": true,
         "domain": [
          0,
          1
         ],
         "range": [
          -100.33333333333334,
          2006.3333333333333
         ],
         "title": {
          "text": "Count"
         },
         "type": "linear"
        }
       }
      },
      "image/png": "[encoded data removed]",
      "text/html": [
       "<div>                            <div id=\"02849055-f6e8-49f8-9b7b-1989abeef485\" class=\"plotly-graph-div\" style=\"height:525px; width:100%;\"></div>            <script type=\"text/javascript\">                require([\"plotly\"], function(Plotly) {                    window.PLOTLYENV=window.PLOTLYENV || {};                                    if (document.getElementById(\"02849055-f6e8-49f8-9b7b-1989abeef485\")) {                    Plotly.newPlot(                        \"02849055-f6e8-49f8-9b7b-1989abeef485\",                        [{\"alignmentgroup\":\"True\",\"hovertemplate\":\"Letter=a<br>Count=%{y}<extra></extra>\",\"legendgroup\":\"a\",\"marker\":{\"color\":\"#636efa\"},\"name\":\"a\",\"notched\":false,\"offsetgroup\":\"a\",\"orientation\":\"v\",\"showlegend\":true,\"x0\":\" \",\"xaxis\":\"x\",\"y\":[1223,233,996],\"y0\":\" \",\"yaxis\":\"y\",\"type\":\"box\"},{\"alignmentgroup\":\"True\",\"hovertemplate\":\"Letter=b<br>Count=%{y}<extra></extra>\",\"legendgroup\":\"b\",\"marker\":{\"color\":\"#EF553B\"},\"name\":\"b\",\"notched\":false,\"offsetgroup\":\"b\",\"orientation\":\"v\",\"showlegend\":true,\"x0\":\" \",\"xaxis\":\"x\",\"y\":[163,37,187],\"y0\":\" \",\"yaxis\":\"y\",\"type\":\"box\"},{\"alignmentgroup\":\"True\",\"hovertemplate\":\"Letter=c<br>Count=%{y}<extra></extra>\",\"legendgroup\":\"c\",\"marker\":{\"color\":\"#00cc96\"},\"name\":\"c\",\"notched\":false,\"offsetgroup\":\"c\",\"orientation\":\"v\",\"showlegend\":true,\"x0\":\" \",\"xaxis\":\"x\",\"y\":[650,185,448],\"y0\":\" \",\"yaxis\":\"y\",\"type\":\"box\"},{\"alignmentgroup\":\"True\",\"hovertemplate\":\"Letter=d<br>Count=%{y}<extra></extra>\",\"legendgroup\":\"d\",\"marker\":{\"color\":\"#ab63fa\"},\"name\":\"d\",\"notched\":false,\"offsetgroup\":\"d\",\"orientation\":\"v\",\"showlegend\":true,\"x0\":\" \",\"xaxis\":\"x\",\"y\":[503,108,448],\"y0\":\" \",\"yaxis\":\"y\",\"type\":\"box\"},{\"alignmentgroup\":\"True\",\"hovertemplate\":\"Letter=e<br>Count=%{y}<extra></extra>\",\"legendgroup\":\"e\",\"marker\":{\"color\":\"#FFA15A\"},\"name\":\"e\",\"notched\":false,\"offsetgroup\":\"e\",\"orientation\":\"v\",\"showlegend\":true,\"x0\":\" \",\"xaxis\":\"x\",\"y\":[1901,300,1471],\"y0\":\" \",\"yaxis\":\"y\",\"type\":\"box\"},{\"alignmentgroup\":\"True\",\"hovertemplate\":\"Letter=f<br>Count=%{y}<extra></extra>\",\"legendgroup\":\"f\",\"marker\":{\"color\":\"#19d3f3\"},\"name\":\"f\",\"notched\":false,\"offsetgroup\":\"f\",\"orientation\":\"v\",\"showlegend\":true,\"x0\":\" \",\"xaxis\":\"x\",\"y\":[308,34,299],\"y0\":\" \",\"yaxis\":\"y\",\"type\":\"box\"},{\"alignmentgroup\":\"True\",\"hovertemplate\":\"Letter=g<br>Count=%{y}<extra></extra>\",\"legendgroup\":\"g\",\"marker\":{\"color\":\"#FF6692\"},\"name\":\"g\",\"notched\":false,\"offsetgroup\":\"g\",\"orientation\":\"v\",\"showlegend\":true,\"x0\":\" \",\"xaxis\":\"x\",\"y\":[207,90,244],\"y0\":\" \",\"yaxis\":\"y\",\"type\":\"box\"},{\"alignmentgroup\":\"True\",\"hovertemplate\":\"Letter=h<br>Count=%{y}<extra></extra>\",\"legendgroup\":\"h\",\"marker\":{\"color\":\"#B6E880\"},\"name\":\"h\",\"notched\":false,\"offsetgroup\":\"h\",\"orientation\":\"v\",\"showlegend\":true,\"x0\":\" \",\"xaxis\":\"x\",\"y\":[623,62,521],\"y0\":\" \",\"yaxis\":\"y\",\"type\":\"box\"},{\"alignmentgroup\":\"True\",\"hovertemplate\":\"Letter=i<br>Count=%{y}<extra></extra>\",\"legendgroup\":\"i\",\"marker\":{\"color\":\"#FF97FF\"},\"name\":\"i\",\"notched\":false,\"offsetgroup\":\"i\",\"orientation\":\"v\",\"showlegend\":true,\"x0\":\" \",\"xaxis\":\"x\",\"y\":[992,298,932],\"y0\":\" \",\"yaxis\":\"y\",\"type\":\"box\"},{\"alignmentgroup\":\"True\",\"hovertemplate\":\"Letter=j<br>Count=%{y}<extra></extra>\",\"legendgroup\":\"j\",\"marker\":{\"color\":\"#FECB52\"},\"name\":\"j\",\"notched\":false,\"offsetgroup\":\"j\",\"orientation\":\"v\",\"showlegend\":true,\"x0\":\" \",\"xaxis\":\"x\",\"y\":[8,13,18],\"y0\":\" \",\"yaxis\":\"y\",\"type\":\"box\"},{\"alignmentgroup\":\"True\",\"hovertemplate\":\"Letter=k<br>Count=%{y}<extra></extra>\",\"legendgroup\":\"k\",\"marker\":{\"color\":\"#636efa\"},\"name\":\"k\",\"notched\":false,\"offsetgroup\":\"k\",\"orientation\":\"v\",\"showlegend\":true,\"x0\":\" \",\"xaxis\":\"x\",\"y\":[58,9,97],\"y0\":\" \",\"yaxis\":\"y\",\"type\":\"box\"},{\"alignmentgroup\":\"True\",\"hovertemplate\":\"Letter=l<br>Count=%{y}<extra></extra>\",\"legendgroup\":\"l\",\"marker\":{\"color\":\"#EF553B\"},\"name\":\"l\",\"notched\":false,\"offsetgroup\":\"l\",\"orientation\":\"v\",\"showlegend\":true,\"x0\":\" \",\"xaxis\":\"x\",\"y\":[562,121,635],\"y0\":\" \",\"yaxis\":\"y\",\"type\":\"box\"},{\"alignmentgroup\":\"True\",\"hovertemplate\":\"Letter=m<br>Count=%{y}<extra></extra>\",\"legendgroup\":\"m\",\"marker\":{\"color\":\"#00cc96\"},\"name\":\"m\",\"notched\":false,\"offsetgroup\":\"m\",\"orientation\":\"v\",\"showlegend\":true,\"x0\":\" \",\"xaxis\":\"x\",\"y\":[334,96,311],\"y0\":\" \",\"yaxis\":\"y\",\"type\":\"box\"},{\"alignmentgroup\":\"True\",\"hovertemplate\":\"Letter=n<br>Count=%{y}<extra></extra>\",\"legendgroup\":\"n\",\"marker\":{\"color\":\"#ab63fa\"},\"name\":\"n\",\"notched\":false,\"offsetgroup\":\"n\",\"orientation\":\"v\",\"showlegend\":true,\"x0\":\" \",\"xaxis\":\"x\",\"y\":[1035,213,726],\"y0\":\" \",\"yaxis\":\"y\",\"type\":\"box\"},{\"alignmentgroup\":\"True\",\"hovertemplate\":\"Letter=o<br>Count=%{y}<extra></extra>\",\"legendgroup\":\"o\",\"marker\":{\"color\":\"#FFA15A\"},\"name\":\"o\",\"notched\":false,\"offsetgroup\":\"o\",\"orientation\":\"v\",\"showlegend\":true,\"x0\":\" \",\"xaxis\":\"x\",\"y\":[911,140,863],\"y0\":\" \",\"yaxis\":\"y\",\"type\":\"box\"},{\"alignmentgroup\":\"True\",\"hovertemplate\":\"Letter=p<br>Count=%{y}<extra></extra>\",\"legendgroup\":\"p\",\"marker\":{\"color\":\"#19d3f3\"},\"name\":\"p\",\"notched\":false,\"offsetgroup\":\"p\",\"orientation\":\"v\",\"showlegend\":true,\"x0\":\" \",\"xaxis\":\"x\",\"y\":[288,73,276],\"y0\":\" \",\"yaxis\":\"y\",\"type\":\"box\"},{\"alignmentgroup\":\"True\",\"hovertemplate\":\"Letter=q<br>Count=%{y}<extra></extra>\",\"legendgroup\":\"q\",\"marker\":{\"color\":\"#FF6692\"},\"name\":\"q\",\"notched\":false,\"offsetgroup\":\"q\",\"orientation\":\"v\",\"showlegend\":true,\"x0\":\" \",\"xaxis\":\"x\",\"y\":[7,5,32],\"y0\":\" \",\"yaxis\":\"y\",\"type\":\"box\"},{\"alignmentgroup\":\"True\",\"hovertemplate\":\"Letter=r<br>Count=%{y}<extra></extra>\",\"legendgroup\":\"r\",\"marker\":{\"color\":\"#B6E880\"},\"name\":\"r\",\"notched\":false,\"offsetgroup\":\"r\",\"orientation\":\"v\",\"showlegend\":true,\"x0\":\" \",\"xaxis\":\"x\",\"y\":[724,185,846],\"y0\":\" \",\"yaxis\":\"y\",\"type\":\"box\"},{\"alignmentgroup\":\"True\",\"hovertemplate\":\"Letter=s<br>Count=%{y}<extra></extra>\",\"legendgroup\":\"s\",\"marker\":{\"color\":\"#FF97FF\"},\"name\":\"s\",\"notched\":false,\"offsetgroup\":\"s\",\"orientation\":\"v\",\"showlegend\":true,\"x0\":\" \",\"xaxis\":\"x\",\"y\":[944,219,839],\"y0\":\" \",\"yaxis\":\"y\",\"type\":\"box\"},{\"alignmentgroup\":\"True\",\"hovertemplate\":\"Letter=t<br>Count=%{y}<extra></extra>\",\"legendgroup\":\"t\",\"marker\":{\"color\":\"#FECB52\"},\"name\":\"t\",\"notched\":false,\"offsetgroup\":\"t\",\"orientation\":\"v\",\"showlegend\":true,\"x0\":\" \",\"xaxis\":\"x\",\"y\":[1256,248,1152],\"y0\":\" \",\"yaxis\":\"y\",\"type\":\"box\"},{\"alignmentgroup\":\"True\",\"hovertemplate\":\"Letter=u<br>Count=%{y}<extra></extra>\",\"legendgroup\":\"u\",\"marker\":{\"color\":\"#636efa\"},\"name\":\"u\",\"notched\":false,\"offsetgroup\":\"u\",\"orientation\":\"v\",\"showlegend\":true,\"x0\":\" \",\"xaxis\":\"x\",\"y\":[330,99,439],\"y0\":\" \",\"yaxis\":\"y\",\"type\":\"box\"},{\"alignmentgroup\":\"True\",\"hovertemplate\":\"Letter=v<br>Count=%{y}<extra></extra>\",\"legendgroup\":\"v\",\"marker\":{\"color\":\"#EF553B\"},\"name\":\"v\",\"notched\":false,\"offsetgroup\":\"v\",\"orientation\":\"v\",\"showlegend\":true,\"x0\":\" \",\"xaxis\":\"x\",\"y\":[300,20,267],\"y0\":\" \",\"yaxis\":\"y\",\"type\":\"box\"},{\"alignmentgroup\":\"True\",\"hovertemplate\":\"Letter=w<br>Count=%{y}<extra></extra>\",\"legendgroup\":\"w\",\"marker\":{\"color\":\"#00cc96\"},\"name\":\"w\",\"notched\":false,\"offsetgroup\":\"w\",\"orientation\":\"v\",\"showlegend\":true,\"x0\":\" \",\"xaxis\":\"x\",\"y\":[183,25,227],\"y0\":\" \",\"yaxis\":\"y\",\"type\":\"box\"},{\"alignmentgroup\":\"True\",\"hovertemplate\":\"Letter=x<br>Count=%{y}<extra></extra>\",\"legendgroup\":\"x\",\"marker\":{\"color\":\"#ab63fa\"},\"name\":\"x\",\"notched\":false,\"offsetgroup\":\"x\",\"orientation\":\"v\",\"showlegend\":true,\"x0\":\" \",\"xaxis\":\"x\",\"y\":[43,7,17],\"y0\":\" \",\"yaxis\":\"y\",\"type\":\"box\"},{\"alignmentgroup\":\"True\",\"hovertemplate\":\"Letter=y<br>Count=%{y}<extra></extra>\",\"legendgroup\":\"y\",\"marker\":{\"color\":\"#FFA15A\"},\"name\":\"y\",\"notched\":false,\"offsetgroup\":\"y\",\"orientation\":\"v\",\"showlegend\":true,\"x0\":\" \",\"xaxis\":\"x\",\"y\":[238,43,164],\"y0\":\" \",\"yaxis\":\"y\",\"type\":\"box\"},{\"alignmentgroup\":\"True\",\"hovertemplate\":\"Letter=z<br>Count=%{y}<extra></extra>\",\"legendgroup\":\"z\",\"marker\":{\"color\":\"#19d3f3\"},\"name\":\"z\",\"notched\":false,\"offsetgroup\":\"z\",\"orientation\":\"v\",\"showlegend\":true,\"x0\":\" \",\"xaxis\":\"x\",\"y\":[11,5,14],\"y0\":\" \",\"yaxis\":\"y\",\"type\":\"box\"}],                        {\"template\":{\"data\":{\"bar\":[{\"error_x\":{\"color\":\"#2a3f5f\"},\"error_y\":{\"color\":\"#2a3f5f\"},\"marker\":{\"line\":{\"color\":\"#E5ECF6\",\"width\":0.5},\"pattern\":{\"fillmode\":\"overlay\",\"size\":10,\"solidity\":0.2}},\"type\":\"bar\"}],\"barpolar\":[{\"marker\":{\"line\":{\"color\":\"#E5ECF6\",\"width\":0.5},\"pattern\":{\"fillmode\":\"overlay\",\"size\":10,\"solidity\":0.2}},\"type\":\"barpolar\"}],\"carpet\":[{\"aaxis\":{\"endlinecolor\":\"#2a3f5f\",\"gridcolor\":\"white\",\"linecolor\":\"white\",\"minorgridcolor\":\"white\",\"startlinecolor\":\"#2a3f5f\"},\"baxis\":{\"endlinecolor\":\"#2a3f5f\",\"gridcolor\":\"white\",\"linecolor\":\"white\",\"minorgridcolor\":\"white\",\"startlinecolor\":\"#2a3f5f\"},\"type\":\"carpet\"}],\"choropleth\":[{\"colorbar\":{\"outlinewidth\":0,\"ticks\":\"\"},\"type\":\"choropleth\"}],\"contour\":[{\"colorbar\":{\"outlinewidth\":0,\"ticks\":\"\"},\"colorscale\":[[0.0,\"#0d0887\"],[0.1111111111111111,\"#46039f\"],[0.2222222222222222,\"#7201a8\"],[0.3333333333333333,\"#9c179e\"],[0.4444444444444444,\"#bd3786\"],[0.5555555555555556,\"#d8576b\"],[0.6666666666666666,\"#ed7953\"],[0.7777777777777778,\"#fb9f3a\"],[0.8888888888888888,\"#fdca26\"],[1.0,\"#f0f921\"]],\"type\":\"contour\"}],\"contourcarpet\":[{\"colorbar\":{\"outlinewidth\":0,\"ticks\":\"\"},\"type\":\"contourcarpet\"}],\"heatmap\":[{\"colorbar\":{\"outlinewidth\":0,\"ticks\":\"\"},\"colorscale\":[[0.0,\"#0d0887\"],[0.1111111111111111,\"#46039f\"],[0.2222222222222222,\"#7201a8\"],[0.3333333333333333,\"#9c179e\"],[0.4444444444444444,\"#bd3786\"],[0.5555555555555556,\"#d8576b\"],[0.6666666666666666,\"#ed7953\"],[0.7777777777777778,\"#fb9f3a\"],[0.8888888888888888,\"#fdca26\"],[1.0,\"#f0f921\"]],\"type\":\"heatmap\"}],\"heatmapgl\":[{\"colorbar\":{\"outlinewidth\":0,\"ticks\":\"\"},\"colorscale\":[[0.0,\"#0d0887\"],[0.1111111111111111,\"#46039f\"],[0.2222222222222222,\"#7201a8\"],[0.3333333333333333,\"#9c179e\"],[0.4444444444444444,\"#bd3786\"],[0.5555555555555556,\"#d8576b\"],[0.6666666666666666,\"#ed7953\"],[0.7777777777777778,\"#fb9f3a\"],[0.8888888888888888,\"#fdca26\"],[1.0,\"#f0f921\"]],\"type\":\"heatmapgl\"}],\"histogram\":[{\"marker\":{\"pattern\":{\"fillmode\":\"overlay\",\"size\":10,\"solidity\":0.2}},\"type\":\"histogram\"}],\"histogram2d\":[{\"colorbar\":{\"outlinewidth\":0,\"ticks\":\"\"},\"colorscale\":[[0.0,\"#0d0887\"],[0.1111111111111111,\"#46039f\"],[0.2222222222222222,\"#7201a8\"],[0.3333333333333333,\"#9c179e\"],[0.4444444444444444,\"#bd3786\"],[0.5555555555555556,\"#d8576b\"],[0.6666666666666666,\"#ed7953\"],[0.7777777777777778,\"#fb9f3a\"],[0.8888888888888888,\"#fdca26\"],[1.0,\"#f0f921\"]],\"type\":\"histogram2d\"}],\"histogram2dcontour\":[{\"colorbar\":{\"outlinewidth\":0,\"ticks\":\"\"},\"colorscale\":[[0.0,\"#0d0887\"],[0.1111111111111111,\"#46039f\"],[0.2222222222222222,\"#7201a8\"],[0.3333333333333333,\"#9c179e\"],[0.4444444444444444,\"#bd3786\"],[0.5555555555555556,\"#d8576b\"],[0.6666666666666666,\"#ed7953\"],[0.7777777777777778,\"#fb9f3a\"],[0.8888888888888888,\"#fdca26\"],[1.0,\"#f0f921\"]],\"type\":\"histogram2dcontour\"}],\"mesh3d\":[{\"colorbar\":{\"outlinewidth\":0,\"ticks\":\"\"},\"type\":\"mesh3d\"}],\"parcoords\":[{\"line\":{\"colorbar\":{\"outlinewidth\":0,\"ticks\":\"\"}},\"type\":\"parcoords\"}],\"pie\":[{\"automargin\":true,\"type\":\"pie\"}],\"scatter\":[{\"marker\":{\"colorbar\":{\"outlinewidth\":0,\"ticks\":\"\"}},\"type\":\"scatter\"}],\"scatter3d\":[{\"line\":{\"colorbar\":{\"outlinewidth\":0,\"ticks\":\"\"}},\"marker\":{\"colorbar\":{\"outlinewidth\":0,\"ticks\":\"\"}},\"type\":\"scatter3d\"}],\"scattercarpet\":[{\"marker\":{\"colorbar\":{\"outlinewidth\":0,\"ticks\":\"\"}},\"type\":\"scattercarpet\"}],\"scattergeo\":[{\"marker\":{\"colorbar\":{\"outlinewidth\":0,\"ticks\":\"\"}},\"type\":\"scattergeo\"}],\"scattergl\":[{\"marker\":{\"colorbar\":{\"outlinewidth\":0,\"ticks\":\"\"}},\"type\":\"scattergl\"}],\"scattermapbox\":[{\"marker\":{\"colorbar\":{\"outlinewidth\":0,\"ticks\":\"\"}},\"type\":\"scattermapbox\"}],\"scatterpolar\":[{\"marker\":{\"colorbar\":{\"outlinewidth\":0,\"ticks\":\"\"}},\"type\":\"scatterpolar\"}],\"scatterpolargl\":[{\"marker\":{\"colorbar\":{\"outlinewidth\":0,\"ticks\":\"\"}},\"type\":\"scatterpolargl\"}],\"scatterternary\":[{\"marker\":{\"colorbar\":{\"outlinewidth\":0,\"ticks\":\"\"}},\"type\":\"scatterternary\"}],\"surface\":[{\"colorbar\":{\"outlinewidth\":0,\"ticks\":\"\"},\"colorscale\":[[0.0,\"#0d0887\"],[0.1111111111111111,\"#46039f\"],[0.2222222222222222,\"#7201a8\"],[0.3333333333333333,\"#9c179e\"],[0.4444444444444444,\"#bd3786\"],[0.5555555555555556,\"#d8576b\"],[0.6666666666666666,\"#ed7953\"],[0.7777777777777778,\"#fb9f3a\"],[0.8888888888888888,\"#fdca26\"],[1.0,\"#f0f921\"]],\"type\":\"surface\"}],\"table\":[{\"cells\":{\"fill\":{\"color\":\"#EBF0F8\"},\"line\":{\"color\":\"white\"}},\"header\":{\"fill\":{\"color\":\"#C8D4E3\"},\"line\":{\"color\":\"white\"}},\"type\":\"table\"}]},\"layout\":{\"annotationdefaults\":{\"arrowcolor\":\"#2a3f5f\",\"arrowhead\":0,\"arrowwidth\":1},\"autotypenumbers\":\"strict\",\"coloraxis\":{\"colorbar\":{\"outlinewidth\":0,\"ticks\":\"\"}},\"colorscale\":{\"diverging\":[[0,\"#8e0152\"],[0.1,\"#c51b7d\"],[0.2,\"#de77ae\"],[0.3,\"#f1b6da\"],[0.4,\"#fde0ef\"],[0.5,\"#f7f7f7\"],[0.6,\"#e6f5d0\"],[0.7,\"#b8e186\"],[0.8,\"#7fbc41\"],[0.9,\"#4d9221\"],[1,\"#276419\"]],\"sequential\":[[0.0,\"#0d0887\"],[0.1111111111111111,\"#46039f\"],[0.2222222222222222,\"#7201a8\"],[0.3333333333333333,\"#9c179e\"],[0.4444444444444444,\"#bd3786\"],[0.5555555555555556,\"#d8576b\"],[0.6666666666666666,\"#ed7953\"],[0.7777777777777778,\"#fb9f3a\"],[0.8888888888888888,\"#fdca26\"],[1.0,\"#f0f921\"]],\"sequentialminus\":[[0.0,\"#0d0887\"],[0.1111111111111111,\"#46039f\"],[0.2222222222222222,\"#7201a8\"],[0.3333333333333333,\"#9c179e\"],[0.4444444444444444,\"#bd3786\"],[0.5555555555555556,\"#d8576b\"],[0.6666666666666666,\"#ed7953\"],[0.7777777777777778,\"#fb9f3a\"],[0.8888888888888888,\"#fdca26\"],[1.0,\"#f0f921\"]]},\"colorway\":[\"#636efa\",\"#EF553B\",\"#00cc96\",\"#ab63fa\",\"#FFA15A\",\"#19d3f3\",\"#FF6692\",\"#B6E880\",\"#FF97FF\",\"#FECB52\"],\"font\":{\"color\":\"#2a3f5f\"},\"geo\":{\"bgcolor\":\"white\",\"lakecolor\":\"white\",\"landcolor\":\"#E5ECF6\",\"showlakes\":true,\"showland\":true,\"subunitcolor\":\"white\"},\"hoverlabel\":{\"align\":\"left\"},\"hovermode\":\"closest\",\"mapbox\":{\"style\":\"light\"},\"paper_bgcolor\":\"white\",\"plot_bgcolor\":\"#E5ECF6\",\"polar\":{\"angularaxis\":{\"gridcolor\":\"white\",\"linecolor\":\"white\",\"ticks\":\"\"},\"bgcolor\":\"#E5ECF6\",\"radialaxis\":{\"gridcolor\":\"white\",\"linecolor\":\"white\",\"ticks\":\"\"}},\"scene\":{\"xaxis\":{\"backgroundcolor\":\"#E5ECF6\",\"gridcolor\":\"white\",\"gridwidth\":2,\"linecolor\":\"white\",\"showbackground\":true,\"ticks\":\"\",\"zerolinecolor\":\"white\"},\"yaxis\":{\"backgroundcolor\":\"#E5ECF6\",\"gridcolor\":\"white\",\"gridwidth\":2,\"linecolor\":\"white\",\"showbackground\":true,\"ticks\":\"\",\"zerolinecolor\":\"white\"},\"zaxis\":{\"backgroundcolor\":\"#E5ECF6\",\"gridcolor\":\"white\",\"gridwidth\":2,\"linecolor\":\"white\",\"showbackground\":true,\"ticks\":\"\",\"zerolinecolor\":\"white\"}},\"shapedefaults\":{\"line\":{\"color\":\"#2a3f5f\"}},\"ternary\":{\"aaxis\":{\"gridcolor\":\"white\",\"linecolor\":\"white\",\"ticks\":\"\"},\"baxis\":{\"gridcolor\":\"white\",\"linecolor\":\"white\",\"ticks\":\"\"},\"bgcolor\":\"#E5ECF6\",\"caxis\":{\"gridcolor\":\"white\",\"linecolor\":\"white\",\"ticks\":\"\"}},\"title\":{\"x\":0.05},\"xaxis\":{\"automargin\":true,\"gridcolor\":\"white\",\"linecolor\":\"white\",\"ticks\":\"\",\"title\":{\"standoff\":15},\"zerolinecolor\":\"white\",\"zerolinewidth\":2},\"yaxis\":{\"automargin\":true,\"gridcolor\":\"white\",\"linecolor\":\"white\",\"ticks\":\"\",\"title\":{\"standoff\":15},\"zerolinecolor\":\"white\",\"zerolinewidth\":2}}},\"xaxis\":{\"anchor\":\"y\",\"domain\":[0.0,1.0]},\"yaxis\":{\"anchor\":\"x\",\"domain\":[0.0,1.0],\"title\":{\"text\":\"Count\"}},\"legend\":{\"title\":{\"text\":\"Letter\"},\"tracegroupgap\":0},\"margin\":{\"t\":60},\"boxmode\":\"group\"},                        {\"responsive\": true}                    ).then(function(){\n",
       "                            \n",
       "var gd = document.getElementById('02849055-f6e8-49f8-9b7b-1989abeef485');\n",
       "var x = new MutationObserver(function (mutations, observer) {{\n",
       "        var display = window.getComputedStyle(gd).display;\n",
       "        if (!display || display === 'none') {{\n",
       "            console.log([gd, 'removed!']);\n",
       "            Plotly.purge(gd);\n",
       "            observer.disconnect();\n",
       "        }}\n",
       "}});\n",
       "\n",
       "// Listen for the removal of the full notebook cells\n",
       "var notebookContainer = gd.closest('#notebook-container');\n",
       "if (notebookContainer) {{\n",
       "    x.observe(notebookContainer, {childList: true});\n",
       "}}\n",
       "\n",
       "// Listen for the clearing of the current output cell\n",
       "var outputEl = gd.closest('.output');\n",
       "if (outputEl) {{\n",
       "    x.observe(outputEl, {childList: true});\n",
       "}}\n",
       "\n",
       "                        })                };                });            </script>        </div>"
      ]
     },
     "metadata": {},
     "output_type": "display_data"
    }
   ],
   "source": [
    "alphabet = ['a', 'b', 'c', 'd', 'e', 'f', 'g', 'h', 'i', \n",
    "            'j', 'k', 'l', 'm', 'n', 'o', 'p', 'q', 'r',\n",
    "            's', 't', 'u', 'v', 'w', 'x', 'y', 'z']\n",
    "\n",
    "def ReshapeData(df):\n",
    "    frequencies_by_document = merged_data.transpose().reset_index()\n",
    "\n",
    "    frequencies_by_document.rename(columns = {'index' : 'Document Type'}, inplace = True)\n",
    "\n",
    "    frequencies_by_document = frequencies_by_document.melt(id_vars = [\"Document Type\"], var_name = \"Letter\", value_name = \"Count\")\n",
    "\n",
    "    frequencies_by_document = frequencies_by_document.loc[~frequencies_by_document['Count'].isin(alphabet)]\n",
    "\n",
    "\n",
    "\n",
    "\n",
    "px.box(frequencies_by_document, y = 'Count', color = 'Document Type').show()\n",
    "\n",
    "px.box(frequencies_by_document, y = 'Count', color = 'Letter').show()\n",
    "\n"
   ]
  },
  {
   "cell_type": "code",
   "execution_count": null,
   "id": "f86dba49-e334-4bdd-9e21-a3abadc1f60c",
   "metadata": {},
   "outputs": [],
   "source": [
    "#px.box(merged_data.drop('Letter', axis = 1)).show()\n",
    "\n",
    "#px.box(frequency_proportions.drop('Letter', axis = 1)).show()\n",
    "\n",
    "#px.box(GroupByLetter).show()"
   ]
  },
  {
   "cell_type": "markdown",
   "id": "89f148dd-7bf3-4ee8-a0b5-8a49746d7dce",
   "metadata": {
    "tags": []
   },
   "source": [
    "                                                             Bar Graphs"
   ]
  },
  {
   "cell_type": "code",
   "execution_count": null,
   "id": "00232b82-1911-4a94-a6a1-e569947ee3b2",
   "metadata": {
    "jupyter": {
     "source_hidden": true
    },
    "tags": []
   },
   "outputs": [],
   "source": [
    "%matplotlib inline\n",
    "\n",
    "def BarGraph(df, Title, Color, Y):\n",
    "    bar_graph = go.Figure(data = [go.Bar(x = df[\"Letter\"], y = df[Y])])\n",
    "    bar_graph.update_traces(marker_color = Color)\n",
    "    bar_graph.update_layout(title_text = Title)\n",
    "    bar_graph.show()\n",
    "\n",
    "BarGraph(EssayFrequency_df, \"Frequencies of Letters in Essay\", \"darkviolet\", 'Essay Frequency')\n",
    "\n",
    "BarGraph(ResumeFrequency_df, \"Frequencies of Letters in Resume\", \"deeppink\", 'Resume Frequency')\n",
    "\n",
    "BarGraph(LabFrequency_df, \"Frequencies of Letters in Lab Report\", \"deepskyblue\", 'Lab Frequency')\n"
   ]
  },
  {
   "cell_type": "code",
   "execution_count": null,
   "id": "9c9447c0-f69a-4703-b5b1-6fcffc6a98b6",
   "metadata": {
    "jupyter": {
     "source_hidden": true
    },
    "tags": []
   },
   "outputs": [],
   "source": [
    "%matplotlib inline\n",
    "\n",
    "sns.set_palette(\"hls\", 26)\n",
    "\n",
    "def histogram(df, Title, X):\n",
    "    hist = sns.displot(df, x = X, bins = 15, hue = 'Letter', multiple = 'stack', stat = 'probability')\n",
    "    hist.fig.suptitle(Title)\n",
    "    \n",
    "histogram(EssayFrequency_df, \"Frequencies of Letters in Essay\", 'Essay Frequency')\n",
    "histogram(ResumeFrequency_df, \"Frequencies of Letters in Resume\", 'Resume Frequency')\n",
    "histogram(LabFrequency_df, \"Frequencies of Letters in Lab Report\", 'Lab Frequency')\n",
    "\n"
   ]
  },
  {
   "cell_type": "code",
   "execution_count": null,
   "id": "5ce640da-ecf4-4d0f-9d06-f43e05d94f8d",
   "metadata": {
    "jupyter": {
     "source_hidden": true
    },
    "tags": []
   },
   "outputs": [],
   "source": [
    "\n",
    "def CreateWordCloud(text):\n",
    "    #Primary Source for writing this function: https://www.geeksforgeeks.org/generating-word-cloud-python/ \n",
    "    \n",
    "    stopwords = set(STOPWORDS)\n",
    "\n",
    "    # create wordcloud object\n",
    "    wordcloud = WordCloud(background_color=\"white\", max_words = 200, stopwords = stopwords)\n",
    "    wordcloud.generate(text)\n",
    "\n",
    "    plt.figure(figsize = (10, 10), facecolor = None)\n",
    "    plt.imshow(wordcloud)\n",
    "    plt.axis(\"off\")\n",
    "    plt.tight_layout(pad = 0)\n",
    "\n",
    "    plt.show()\n",
    "    \n",
    "CreateWordCloud(EssayText)\n",
    "CreateWordCloud(ResumeText)\n",
    "CreateWordCloud(LabText)\n"
   ]
  },
  {
   "cell_type": "code",
   "execution_count": null,
   "id": "7862df30-702f-4dd4-82d8-d2d2cfe408a9",
   "metadata": {},
   "outputs": [],
   "source": []
  },
  {
   "cell_type": "code",
   "execution_count": null,
   "id": "4d52d507-c0e8-4f9f-978b-c37d61c85d91",
   "metadata": {},
   "outputs": [],
   "source": []
  }
 ],
 "metadata": {
  "kernelspec": {
   "display_name": "Python 3 (ipykernel)",
   "language": "python",
   "name": "python3"
  },
  "language_info": {
   "codemirror_mode": {
    "name": "ipython",
    "version": 3
   },
   "file_extension": ".py",
   "mimetype": "text/x-python",
   "name": "python",
   "nbconvert_exporter": "python",
   "pygments_lexer": "ipython3",
   "version": "3.9.12"
  },
  "toc-autonumbering": true,
  "toc-showtags": false
 },
 "nbformat": 4,
 "nbformat_minor": 5
}
