{
 "cells": [
  {
   "cell_type": "code",
   "execution_count": 117,
   "id": "729e6078-3201-4f0f-8bb2-34d10136b00d",
   "metadata": {},
   "outputs": [],
   "source": [
    "import matplotlib.pyplot as plt\n",
    "\n",
    "import pandas as pd\n",
    "\n",
    "import numpy as num\n",
    "\n",
    "import plotly.express as px\n",
    "\n",
    "import plotly.graph_objects as go\n",
    "\n",
    "import seaborn as sns\n",
    "\n",
    "import dfply\n",
    "\n",
    "from dfply import *\n",
    "\n",
    "import pandas as pd\n",
    "\n",
    "from plotnine import *\n",
    "\n",
    "from plotnine.data import *\n"
   ]
  },
  {
   "cell_type": "markdown",
   "id": "95728302-a548-41a0-a2ae-49f6da2e0e9f",
   "metadata": {},
   "source": [
    "                                                    Read in data"
   ]
  },
  {
   "cell_type": "code",
   "execution_count": 2,
   "id": "7114cf77-e439-4f60-a0d2-7ab71cd38aba",
   "metadata": {
    "jupyter": {
     "source_hidden": true
    },
    "tags": []
   },
   "outputs": [],
   "source": [
    "\n",
    "EssayFilePath = \"C:/Users/mbles/Desktop/Vaccines are Beneficial.txt\"\n",
    "\n",
    "ResumeFilePath = \"C:/Users/mbles/Desktop/Resume.txt\"\n",
    "\n",
    "LabFilePath = \"C:/Users/mbles/Desktop/EEE 334 Lab 1.txt\"\n",
    "\n",
    "\n",
    "EssayLines = \"\"\n",
    "\n",
    "Resumelines = \"\"\n",
    "\n",
    "LabLines = \"\"\n",
    "\n",
    "\n",
    "def Read(FilePath, lines):\n",
    "    with open(FilePath, \"r\", encoding = 'utf-8') as File:\n",
    "        lines = File.read()\n",
    "    return(lines)\n",
    "\n",
    "    \n",
    "EssayText = Read(EssayFilePath, EssayLines)\n",
    "\n",
    "ResumeText = Read(ResumeFilePath, Resumelines)\n",
    "\n",
    "LabText = Read(LabFilePath, LabLines)"
   ]
  },
  {
   "cell_type": "markdown",
   "id": "8f05f609-89c2-4cbe-b962-b333c1ea70c2",
   "metadata": {},
   "source": [
    "                                                Clean  and Sort Data"
   ]
  },
  {
   "cell_type": "code",
   "execution_count": 3,
   "id": "2939f7ca-641f-4493-b2f9-bff892d0c9bb",
   "metadata": {
    "jupyter": {
     "source_hidden": true
    },
    "tags": []
   },
   "outputs": [],
   "source": [
    "non_letter_characters = ['[','@','_','!','#','$','%','^','&','*',\n",
    "                      '(',')','<','>','?','/', '}','{','~',':',']',\n",
    "                         ',','0', '1','2','3','4','5','6','7','8',\n",
    "                         '9','\\t','\\n', ' ', '\"', \"'\", '-','.',';',\n",
    "                         '=','—','-','–','‘','“','”','\\ufeff','…','’',\n",
    "                         '\\\\\\\\', '\\\\', \" \\ \", ' n ', '  ','    ','   ',\n",
    "                         '  n ', '⋅', '→','|', '〖', '〗','√','ω','μ','µa',\n",
    "                         'π','+','δ','°','≈','\\u2008','\\u2008f','\\u2061',\n",
    "                         '∫','▒','±','●','δ','ω']\n",
    "\n",
    "def CleanData(Text):\n",
    "    for i in non_letter_characters:\n",
    "        Text = Text.replace(i,' ')\n",
    "    \n",
    "    Text = Text.lower()\n",
    "    \n",
    "    return(Text)\n",
    "\n",
    "EssayText = CleanData(EssayText)\n",
    "\n",
    "ResumeText = CleanData(ResumeText)\n",
    "\n",
    "LabText = CleanData(LabText) "
   ]
  },
  {
   "cell_type": "markdown",
   "id": "d21f2098-21c7-4878-bdd2-3e80b3b15c71",
   "metadata": {},
   "source": [
    "                                                 Get Letter Frequencies  "
   ]
  },
  {
   "cell_type": "code",
   "execution_count": 4,
   "id": "7a49c563-c196-4e43-9f47-d16930dd98bf",
   "metadata": {
    "jupyter": {
     "source_hidden": true
    },
    "tags": []
   },
   "outputs": [],
   "source": [
    "def GetFrequencies(Text):  \n",
    "    LetterFrequencies = {}\n",
    "    for keys in Text:\n",
    "        LetterFrequencies[keys] = LetterFrequencies.get(keys, 0) + 1\n",
    "    return(LetterFrequencies)\n",
    "\n",
    "EssayFrequencyDict = GetFrequencies(EssayText)\n",
    "\n",
    "ResumeFrequencyDict = GetFrequencies(ResumeText)\n",
    "\n",
    "LabFrequencyDict = GetFrequencies(LabText)"
   ]
  },
  {
   "cell_type": "markdown",
   "id": "07c2b1e2-4ee2-4355-a8fc-47170a8f3e80",
   "metadata": {
    "tags": []
   },
   "source": [
    "                                                Convert to Data Frames and Sort"
   ]
  },
  {
   "cell_type": "code",
   "execution_count": 5,
   "id": "dfab4afb-96f5-4d8b-9cb8-dcffcb9964a4",
   "metadata": {
    "tags": []
   },
   "outputs": [],
   "source": [
    "def ConvertAndSort(FrequencyDict):\n",
    "    Frequency_df = pd.DataFrame(FrequencyDict.items(), columns=['Letter', 'Frequency']) \n",
    "\n",
    "    Frequency_df = Frequency_df.sort_values(\"Letter\")\n",
    "\n",
    "    Frequency_df = Frequency_df[Frequency_df.Letter != \" \"]\n",
    "    \n",
    "    return(Frequency_df)\n",
    "    \n",
    "EssayFrequency_df = ConvertAndSort(EssayFrequencyDict)\n",
    "\n",
    "ResumeFrequency_df = ConvertAndSort(ResumeFrequencyDict)\n",
    "\n",
    "LabFrequency_df = ConvertAndSort(LabFrequencyDict)\n"
   ]
  },
  {
   "cell_type": "markdown",
   "id": "f891f8f5-d7d9-414b-99c1-41a41548a09f",
   "metadata": {},
   "source": [
    "                                                Merge Dataframes and get Summary Stats"
   ]
  },
  {
   "cell_type": "code",
   "execution_count": 135,
   "id": "59ff89c9-2a27-4787-922c-e8e7551827b3",
   "metadata": {},
   "outputs": [
    {
     "data": {
      "text/html": [
       "<div>\n",
       "<style scoped>\n",
       "    .dataframe tbody tr th:only-of-type {\n",
       "        vertical-align: middle;\n",
       "    }\n",
       "\n",
       "    .dataframe tbody tr th {\n",
       "        vertical-align: top;\n",
       "    }\n",
       "\n",
       "    .dataframe thead th {\n",
       "        text-align: right;\n",
       "    }\n",
       "</style>\n",
       "<table border=\"1\" class=\"dataframe\">\n",
       "  <thead>\n",
       "    <tr style=\"text-align: right;\">\n",
       "      <th></th>\n",
       "      <th>Letter</th>\n",
       "      <th>Frequency</th>\n",
       "      <th>Letter</th>\n",
       "      <th>Frequency</th>\n",
       "      <th>Letter</th>\n",
       "      <th>Frequency</th>\n",
       "    </tr>\n",
       "  </thead>\n",
       "  <tbody>\n",
       "    <tr>\n",
       "      <th>2</th>\n",
       "      <td>a</td>\n",
       "      <td>1223.0</td>\n",
       "      <td>i</td>\n",
       "      <td>298.0</td>\n",
       "      <td>o</td>\n",
       "      <td>863</td>\n",
       "    </tr>\n",
       "    <tr>\n",
       "      <th>9</th>\n",
       "      <td>b</td>\n",
       "      <td>163.0</td>\n",
       "      <td>f</td>\n",
       "      <td>34.0</td>\n",
       "      <td>s</td>\n",
       "      <td>839</td>\n",
       "    </tr>\n",
       "    <tr>\n",
       "      <th>3</th>\n",
       "      <td>c</td>\n",
       "      <td>650.0</td>\n",
       "      <td>k</td>\n",
       "      <td>9.0</td>\n",
       "      <td>n</td>\n",
       "      <td>722</td>\n",
       "    </tr>\n",
       "    <tr>\n",
       "      <th>19</th>\n",
       "      <td>d</td>\n",
       "      <td>503.0</td>\n",
       "      <td>w</td>\n",
       "      <td>25.0</td>\n",
       "      <td>h</td>\n",
       "      <td>521</td>\n",
       "    </tr>\n",
       "    <tr>\n",
       "      <th>6</th>\n",
       "      <td>e</td>\n",
       "      <td>1901.0</td>\n",
       "      <td>l</td>\n",
       "      <td>121.0</td>\n",
       "      <td>a</td>\n",
       "      <td>996</td>\n",
       "    </tr>\n",
       "    <tr>\n",
       "      <th>10</th>\n",
       "      <td>f</td>\n",
       "      <td>308.0</td>\n",
       "      <td>r</td>\n",
       "      <td>185.0</td>\n",
       "      <td>p</td>\n",
       "      <td>276</td>\n",
       "    </tr>\n",
       "    <tr>\n",
       "      <th>22</th>\n",
       "      <td>g</td>\n",
       "      <td>207.0</td>\n",
       "      <td>p</td>\n",
       "      <td>73.0</td>\n",
       "      <td>g</td>\n",
       "      <td>244</td>\n",
       "    </tr>\n",
       "    <tr>\n",
       "      <th>14</th>\n",
       "      <td>h</td>\n",
       "      <td>623.0</td>\n",
       "      <td>n</td>\n",
       "      <td>213.0</td>\n",
       "      <td>u</td>\n",
       "      <td>439</td>\n",
       "    </tr>\n",
       "    <tr>\n",
       "      <th>4</th>\n",
       "      <td>i</td>\n",
       "      <td>992.0</td>\n",
       "      <td>a</td>\n",
       "      <td>233.0</td>\n",
       "      <td>l</td>\n",
       "      <td>635</td>\n",
       "    </tr>\n",
       "    <tr>\n",
       "      <th>16</th>\n",
       "      <td>j</td>\n",
       "      <td>8.0</td>\n",
       "      <td>t</td>\n",
       "      <td>248.0</td>\n",
       "      <td>k</td>\n",
       "      <td>97</td>\n",
       "    </tr>\n",
       "    <tr>\n",
       "      <th>25</th>\n",
       "      <td>k</td>\n",
       "      <td>58.0</td>\n",
       "      <td>z</td>\n",
       "      <td>5.0</td>\n",
       "      <td>v</td>\n",
       "      <td>267</td>\n",
       "    </tr>\n",
       "    <tr>\n",
       "      <th>11</th>\n",
       "      <td>l</td>\n",
       "      <td>562.0</td>\n",
       "      <td>s</td>\n",
       "      <td>219.0</td>\n",
       "      <td>c</td>\n",
       "      <td>448</td>\n",
       "    </tr>\n",
       "    <tr>\n",
       "      <th>15</th>\n",
       "      <td>m</td>\n",
       "      <td>334.0</td>\n",
       "      <td>o</td>\n",
       "      <td>140.0</td>\n",
       "      <td>m</td>\n",
       "      <td>311</td>\n",
       "    </tr>\n",
       "    <tr>\n",
       "      <th>5</th>\n",
       "      <td>n</td>\n",
       "      <td>1035.0</td>\n",
       "      <td>y</td>\n",
       "      <td>43.0</td>\n",
       "      <td>i</td>\n",
       "      <td>932</td>\n",
       "    </tr>\n",
       "    <tr>\n",
       "      <th>12</th>\n",
       "      <td>o</td>\n",
       "      <td>911.0</td>\n",
       "      <td>u</td>\n",
       "      <td>99.0</td>\n",
       "      <td>d</td>\n",
       "      <td>448</td>\n",
       "    </tr>\n",
       "    <tr>\n",
       "      <th>21</th>\n",
       "      <td>p</td>\n",
       "      <td>288.0</td>\n",
       "      <td>x</td>\n",
       "      <td>7.0</td>\n",
       "      <td>x</td>\n",
       "      <td>17</td>\n",
       "    </tr>\n",
       "    <tr>\n",
       "      <th>26</th>\n",
       "      <td>q</td>\n",
       "      <td>7.0</td>\n",
       "      <td>q</td>\n",
       "      <td>5.0</td>\n",
       "      <td>ω</td>\n",
       "      <td>10</td>\n",
       "    </tr>\n",
       "    <tr>\n",
       "      <th>8</th>\n",
       "      <td>r</td>\n",
       "      <td>724.0</td>\n",
       "      <td>c</td>\n",
       "      <td>185.0</td>\n",
       "      <td>t</td>\n",
       "      <td>1152</td>\n",
       "    </tr>\n",
       "    <tr>\n",
       "      <th>7</th>\n",
       "      <td>s</td>\n",
       "      <td>944.0</td>\n",
       "      <td>e</td>\n",
       "      <td>300.0</td>\n",
       "      <td>b</td>\n",
       "      <td>187</td>\n",
       "    </tr>\n",
       "    <tr>\n",
       "      <th>13</th>\n",
       "      <td>t</td>\n",
       "      <td>1256.0</td>\n",
       "      <td>j</td>\n",
       "      <td>13.0</td>\n",
       "      <td>r</td>\n",
       "      <td>846</td>\n",
       "    </tr>\n",
       "    <tr>\n",
       "      <th>18</th>\n",
       "      <td>u</td>\n",
       "      <td>330.0</td>\n",
       "      <td>d</td>\n",
       "      <td>108.0</td>\n",
       "      <td>f</td>\n",
       "      <td>299</td>\n",
       "    </tr>\n",
       "    <tr>\n",
       "      <th>1</th>\n",
       "      <td>v</td>\n",
       "      <td>300.0</td>\n",
       "      <td>m</td>\n",
       "      <td>96.0</td>\n",
       "      <td>e</td>\n",
       "      <td>1471</td>\n",
       "    </tr>\n",
       "    <tr>\n",
       "      <th>20</th>\n",
       "      <td>w</td>\n",
       "      <td>183.0</td>\n",
       "      <td>h</td>\n",
       "      <td>62.0</td>\n",
       "      <td>w</td>\n",
       "      <td>227</td>\n",
       "    </tr>\n",
       "    <tr>\n",
       "      <th>24</th>\n",
       "      <td>x</td>\n",
       "      <td>43.0</td>\n",
       "      <td>b</td>\n",
       "      <td>37.0</td>\n",
       "      <td>z</td>\n",
       "      <td>14</td>\n",
       "    </tr>\n",
       "    <tr>\n",
       "      <th>17</th>\n",
       "      <td>y</td>\n",
       "      <td>238.0</td>\n",
       "      <td>g</td>\n",
       "      <td>90.0</td>\n",
       "      <td>y</td>\n",
       "      <td>164</td>\n",
       "    </tr>\n",
       "    <tr>\n",
       "      <th>23</th>\n",
       "      <td>z</td>\n",
       "      <td>11.0</td>\n",
       "      <td>v</td>\n",
       "      <td>20.0</td>\n",
       "      <td>q</td>\n",
       "      <td>32</td>\n",
       "    </tr>\n",
       "    <tr>\n",
       "      <th>28</th>\n",
       "      <td>NaN</td>\n",
       "      <td>NaN</td>\n",
       "      <td>NaN</td>\n",
       "      <td>NaN</td>\n",
       "      <td>j</td>\n",
       "      <td>18</td>\n",
       "    </tr>\n",
       "    <tr>\n",
       "      <th>27</th>\n",
       "      <td>NaN</td>\n",
       "      <td>NaN</td>\n",
       "      <td>NaN</td>\n",
       "      <td>NaN</td>\n",
       "      <td>µ</td>\n",
       "      <td>4</td>\n",
       "    </tr>\n",
       "    <tr>\n",
       "      <th>29</th>\n",
       "      <td>NaN</td>\n",
       "      <td>NaN</td>\n",
       "      <td>NaN</td>\n",
       "      <td>NaN</td>\n",
       "      <td>δ</td>\n",
       "      <td>2</td>\n",
       "    </tr>\n",
       "  </tbody>\n",
       "</table>\n",
       "</div>"
      ],
      "text/plain": [
       "   Letter  Frequency Letter  Frequency Letter  Frequency\n",
       "2       a     1223.0      i      298.0      o        863\n",
       "9       b      163.0      f       34.0      s        839\n",
       "3       c      650.0      k        9.0      n        722\n",
       "19      d      503.0      w       25.0      h        521\n",
       "6       e     1901.0      l      121.0      a        996\n",
       "10      f      308.0      r      185.0      p        276\n",
       "22      g      207.0      p       73.0      g        244\n",
       "14      h      623.0      n      213.0      u        439\n",
       "4       i      992.0      a      233.0      l        635\n",
       "16      j        8.0      t      248.0      k         97\n",
       "25      k       58.0      z        5.0      v        267\n",
       "11      l      562.0      s      219.0      c        448\n",
       "15      m      334.0      o      140.0      m        311\n",
       "5       n     1035.0      y       43.0      i        932\n",
       "12      o      911.0      u       99.0      d        448\n",
       "21      p      288.0      x        7.0      x         17\n",
       "26      q        7.0      q        5.0      ω         10\n",
       "8       r      724.0      c      185.0      t       1152\n",
       "7       s      944.0      e      300.0      b        187\n",
       "13      t     1256.0      j       13.0      r        846\n",
       "18      u      330.0      d      108.0      f        299\n",
       "1       v      300.0      m       96.0      e       1471\n",
       "20      w      183.0      h       62.0      w        227\n",
       "24      x       43.0      b       37.0      z         14\n",
       "17      y      238.0      g       90.0      y        164\n",
       "23      z       11.0      v       20.0      q         32\n",
       "28    NaN        NaN    NaN        NaN      j         18\n",
       "27    NaN        NaN    NaN        NaN      µ          4\n",
       "29    NaN        NaN    NaN        NaN      δ          2"
      ]
     },
     "execution_count": 135,
     "metadata": {},
     "output_type": "execute_result"
    }
   ],
   "source": [
    "temp = pd.concat([EssayFrequency_df, ResumeFrequency_df], axis = 1, join = 'outer')\n",
    "\n",
    "merged_data =  pd.concat([temp, LabFrequency_df], axis = 1, join = 'outer')\n",
    "\n",
    "merged_data\n"
   ]
  },
  {
   "cell_type": "code",
   "execution_count": 15,
   "id": "00232b82-1911-4a94-a6a1-e569947ee3b2",
   "metadata": {
    "collapsed": true,
    "jupyter": {
     "outputs_hidden": true,
     "source_hidden": true
    },
    "tags": []
   },
   "outputs": [
    {
     "data": {
      "image/png": "[encoded data removed]",
      "text/plain": [
       "<Figure size 432x288 with 1 Axes>"
      ]
     },
     "metadata": {
      "needs_background": "light"
     },
     "output_type": "display_data"
    },
    {
     "data": {
      "image/png": "[encoded data removed]",
      "text/plain": [
       "<Figure size 432x288 with 1 Axes>"
      ]
     },
     "metadata": {
      "needs_background": "light"
     },
     "output_type": "display_data"
    },
    {
     "data": {
      "image/png": "[encoded data removed]",
      "text/plain": [
       "<Figure size 432x288 with 1 Axes>"
      ]
     },
     "metadata": {
      "needs_background": "light"
     },
     "output_type": "display_data"
    }
   ],
   "source": [
    "%matplotlib inline\n",
    "\n",
    "def BarGraph(df, Title, Color):\n",
    "    bar_graph = df.plot.bar(x = \"Letter\", y = \"Frequency\", rot = 70, title = Title, color = Color )\n",
    "\n",
    "BarGraph(EssayFrequency_df, \"Frequencies of Letters in Essay\", \"purple\")\n",
    "\n",
    "BarGraph(ResumeFrequency_df, \"Frequencies of Letters in Resume\", \"pink\")\n",
    "\n",
    "BarGraph(LabFrequency_df, \"Frequencies of Letters in Lab Report\", \"blue\")\n"
   ]
  },
  {
   "cell_type": "code",
   "execution_count": 121,
   "id": "9c9447c0-f69a-4703-b5b1-6fcffc6a98b6",
   "metadata": {
    "collapsed": true,
    "jupyter": {
     "outputs_hidden": true,
     "source_hidden": true
    },
    "tags": []
   },
   "outputs": [
    {
     "data": {
      "image/png": "[encoded data removed]",
      "text/plain": [
       "<Figure size 405.625x360 with 1 Axes>"
      ]
     },
     "metadata": {
      "needs_background": "light"
     },
     "output_type": "display_data"
    },
    {
     "data": {
      "image/png": "[encoded data removed]",
      "text/plain": [
       "<Figure size 405.625x360 with 1 Axes>"
      ]
     },
     "metadata": {
      "needs_background": "light"
     },
     "output_type": "display_data"
    },
    {
     "data": {
      "image/png": "[encoded data removed]",
      "text/plain": [
       "<Figure size 405.625x360 with 1 Axes>"
      ]
     },
     "metadata": {
      "needs_background": "light"
     },
     "output_type": "display_data"
    }
   ],
   "source": [
    "%matplotlib inline\n",
    "\n",
    "sns.set_palette(\"hls\", 26)\n",
    "\n",
    "def histogram(df, Title):\n",
    "    hist = sns.displot(df, x = 'Frequency', bins = 15, hue = 'Letter', multiple = 'stack', stat = 'probability')\n",
    "    hist.fig.suptitle(Title)\n",
    "    \n",
    "fig = histogram(df = EssayFrequency_df, Title = \"Frequencies of Letters in Essay\")\n",
    "histogram(ResumeFrequency_df, \"Frequencies of Letters in Resume\")\n",
    "histogram(LabFrequency_df, \"Frequencies of Letters in Lab Report\")\n",
    "\n"
   ]
  },
  {
   "cell_type": "code",
   "execution_count": 128,
   "id": "82f15dd7-7a07-4328-9cb4-c65d47e49f4e",
   "metadata": {
    "jupyter": {
     "source_hidden": true
    },
    "tags": []
   },
   "outputs": [],
   "source": [
    "#(\n",
    "#ggplot(EssayFrequency_df, aes(x = 'Frequency', y = after_stat('count'), fill = 'Letter'))\n",
    "#+ geom_histogram(bins = 15, color = \"black\")\n",
    "#+ geom_text(position = position_stack(vjust = 5))\n",
    "\n",
    "#)\n",
    "\n"
   ]
  },
  {
   "cell_type": "code",
   "execution_count": null,
   "id": "f8c686e8-f8fc-4afd-bb35-fbe5548e6d6f",
   "metadata": {
    "jupyter": {
     "source_hidden": true
    },
    "tags": []
   },
   "outputs": [],
   "source": []
  },
  {
   "cell_type": "code",
   "execution_count": null,
   "id": "0ccbbbf2-0605-4156-9f1e-2658ec26a5b3",
   "metadata": {},
   "outputs": [],
   "source": []
  }
 ],
 "metadata": {
  "kernelspec": {
   "display_name": "Python 3 (ipykernel)",
   "language": "python",
   "name": "python3"
  },
  "language_info": {
   "codemirror_mode": {
    "name": "ipython",
    "version": 3
   },
   "file_extension": ".py",
   "mimetype": "text/x-python",
   "name": "python",
   "nbconvert_exporter": "python",
   "pygments_lexer": "ipython3",
   "version": "3.9.12"
  },
  "toc-autonumbering": true,
  "toc-showtags": false
 },
 "nbformat": 4,
 "nbformat_minor": 5
}
