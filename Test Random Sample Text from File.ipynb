{
 "cells": [
  {
   "cell_type": "code",
   "execution_count": 7,
   "id": "5365fd39-123c-440f-8537-7d8e6109b233",
   "metadata": {},
   "outputs": [],
   "source": [
    "import random as ran\n",
    "\n",
    "import pandas as pd\n",
    "\n",
    "import numpy as num\n",
    "\n",
    "import plotly.express as px\n",
    "\n",
    "import matplotlib.pyplot as plt\n"
   ]
  },
  {
   "cell_type": "code",
   "execution_count": 17,
   "id": "2939f7ca-641f-4493-b2f9-bff892d0c9bb",
   "metadata": {},
   "outputs": [],
   "source": [
    "lines = \"\"\n",
    "\n",
    "lines2 = \"\"\n",
    "\n",
    "Words = []\n",
    "\n",
    "Words2 = []\n",
    "\n",
    "counter = 0\n",
    "\n",
    "FilePath1 = \"C:/Users/mbles/Desktop/Vaccines are Beneficial.txt\"\n",
    "\n",
    "FilePath2 = \"C:/Users/mbles/Desktop/Resume.txt\"\n",
    "\n",
    "with open(FilePath1, \"r\", encoding = 'utf-8') as File:\n",
    "    \n",
    "    for line in File:\n",
    "\n",
    "        for word in line.split():       \n",
    "            Words.insert(counter, word)\n",
    "            counter += 1\n",
    "\n",
    "with open(FilePath1, \"r\", encoding = 'utf-8') as File:\n",
    "    lines = File.read()\n",
    "    \n",
    "with open(FilePath2, \"r\", encoding = 'utf-8') as File:\n",
    "    \n",
    "    for line in File:\n",
    "\n",
    "        for word in line.split():       \n",
    "            Words.insert(counter, word)\n",
    "            counter += 1\n",
    "\n",
    "with open(FilePath2, \"r\", encoding = 'utf-8') as File:\n",
    "    lines = File.read()\n",
    "\n",
    "\n",
    "lines2 = lines2.lower()\n",
    "\n",
    "non_letter_characters = ['[','@','_','!','#','$','%','^','&','*',\n",
    "                      '(',')','<','>','?','/', '}','{','~',':',']',\n",
    "                         ',','0', '1','2','3','4','5','6','7','8',\n",
    "                         '9','\\t','\\n', ' ', '\"', \"'\", '-','.',';',\n",
    "                         '=','—','-','–','‘','“','”','\\ufeff','…','’',\n",
    "                         '\\\\\\\\', '\\\\', \" \\ \", ' n ', '  ','    ','   ',\n",
    "                         '  n ']\n",
    "\n",
    "for i in non_letter_characters:\n",
    "    lines = lines.replace(i,' ')\n",
    "    \n",
    "for i in non_letter_characters:\n",
    "    lines = lines2.replace(i,' ')\n",
    "    "
   ]
  },
  {
   "cell_type": "code",
   "execution_count": 3,
   "id": "7a49c563-c196-4e43-9f47-d16930dd98bf",
   "metadata": {},
   "outputs": [],
   "source": [
    "Alphabet_Upper = ['A', 'B', 'C', 'D', 'E', 'F', 'G', 'H', \n",
    "            'I', 'J', 'K', 'L', 'M', 'N', 'O', 'P', \n",
    "            'Q', 'R', 'S', 'T', 'U', 'V', 'W', 'X', \n",
    "            'Y', 'Z']\n",
    "\n",
    "Alphabet_Lower = ['a', 'b', 'c', 'd', 'e', 'f', 'g', 'h',\n",
    "                 'i', 'j', 'k', 'l', 'm', 'n', 'o', 'p', \n",
    "                 'q', 'r', 's', 't', 'u', 'v', 'w', 'x', \n",
    "                 'y', 'z']\n",
    "\n",
    "LetterFrequencies = {}\n",
    "\n",
    "for keys in lines:\n",
    "    LetterFrequencies[keys] = LetterFrequencies.get(keys, 0) + 1\n",
    "    \n",
    "letter_keys = sorted(LetterFrequencies)\n"
   ]
  },
  {
   "cell_type": "code",
   "execution_count": 16,
   "id": "dfab4afb-96f5-4d8b-9cb8-dcffcb9964a4",
   "metadata": {},
   "outputs": [
    {
     "data": {
      "image/png": "[encoded data removed]",
      "text/plain": [
       "<Figure size 432x288 with 1 Axes>"
      ]
     },
     "metadata": {
      "needs_background": "light"
     },
     "output_type": "display_data"
    }
   ],
   "source": [
    "LetterFrequencies_df = pd.DataFrame(LetterFrequencies.items(), columns=['Letter', 'Frequency']) \n",
    "\n",
    "LetterFrequencies_df = LetterFrequencies_df.sort_values(\"Letter\")\n",
    "\n",
    "LetterFrequencies_df = LetterFrequencies_df[LetterFrequencies_df.Letter != \" \"]\n",
    "\n",
    "#bar_graph = LetterFrequencies_df.plot.bar(x=\"Letter\", y=\"Frequency\", rot=70, title=\"Frequencies of Letters in Text\")\n",
    "\n",
    "histogram = plt.hist(LetterFrequencies_df[\"Frequency\"], bins = 40)\n",
    "\n",
    "plt.show()"
   ]
  },
  {
   "cell_type": "code",
   "execution_count": null,
   "id": "9c9447c0-f69a-4703-b5b1-6fcffc6a98b6",
   "metadata": {},
   "outputs": [],
   "source": []
  },
  {
   "cell_type": "code",
   "execution_count": null,
   "id": "82f15dd7-7a07-4328-9cb4-c65d47e49f4e",
   "metadata": {},
   "outputs": [],
   "source": []
  }
 ],
 "metadata": {
  "kernelspec": {
   "display_name": "Python 3 (ipykernel)",
   "language": "python",
   "name": "python3"
  },
  "language_info": {
   "codemirror_mode": {
    "name": "ipython",
    "version": 3
   },
   "file_extension": ".py",
   "mimetype": "text/x-python",
   "name": "python",
   "nbconvert_exporter": "python",
   "pygments_lexer": "ipython3",
   "version": "3.9.12"
  },
  "toc-autonumbering": true,
  "toc-showtags": false
 },
 "nbformat": 4,
 "nbformat_minor": 5
}
