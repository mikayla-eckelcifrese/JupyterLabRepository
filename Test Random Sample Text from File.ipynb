{
 "cells": [
  {
   "cell_type": "code",
   "execution_count": 38,
   "id": "2939f7ca-641f-4493-b2f9-bff892d0c9bb",
   "metadata": {},
   "outputs": [],
   "source": [
    "import random\n",
    "from re import U \n",
    "\n",
    "lines = \"\"\n",
    "\n",
    "Words = []\n",
    "\n",
    "counter = 0\n",
    "\n",
    "FilePath = \"C:/Users/mbles/Desktop/Vaccines are Beneficial.txt\"\n",
    "\n",
    "\n",
    "with open(FilePath, \"r\", encoding = 'utf-8') as File:\n",
    "    \n",
    "    for line in File:\n",
    "\n",
    "        for word in line.split():       \n",
    "            Words.insert(counter, word)\n",
    "            counter += 1\n",
    "\n",
    "with open(FilePath, \"r\", encoding = 'utf-8') as File:\n",
    "    lines = File.read()\n",
    "\n",
    "\n",
    "Alphabet_Upper = ['A', 'B', 'C', 'D', 'E', 'F', 'G', 'H', \n",
    "            'I', 'J', 'K', 'L', 'M', 'N', 'O', 'P', \n",
    "            'Q', 'R', 'S', 'T', 'U', 'V', 'W', 'X', \n",
    "            'Y', 'Z']\n",
    "\n",
    "Alphabet_Lower = ['a', 'b', 'c', 'd', 'e', 'f', 'g', 'h',\n",
    "                 'i', 'j', 'k', 'l', 'm', 'n', 'o', 'p', \n",
    "                 'q', 'r', 's', 't', 'u', 'v', 'w', 'x', \n",
    "                 'y', 'z']\n"
   ]
  },
  {
   "cell_type": "code",
   "execution_count": 39,
   "id": "7a49c563-c196-4e43-9f47-d16930dd98bf",
   "metadata": {},
   "outputs": [
    {
     "name": "stdout",
     "output_type": "stream",
     "text": [
      "{'\\ufeff': 1, 'V': 35, 'a': 1441, 'c': 865, 'i': 1189, 'n': 1202, 'e': 2250, 's': 1135, ' ': 3407, 'r': 856, 'B': 11, 'f': 337, 'l': 678, '\\n': 269, 'F': 26, 'o': 1090, 't': 1422, 'h': 712, 'm': 371, 'j': 8, 'y': 277, 'u': 383, ',': 215, 'b': 177, 'd': 585, 'w': 244, 'p': 349, 'v': 344, '’': 45, '.': 202, 'Y': 9, 'O': 27, 'g': 246, 'z': 11, 'x': 52, 'T': 43, ';': 7, 'A': 54, 'C': 30, '-': 138, '1': 78, '9': 28, 'N': 32, 'k': 71, 'I': 25, 'P': 21, '2': 77, '0': 76, '“': 51, '…': 2, '[': 12, ']': 12, '8': 13, '%': 3, '”': 51, '(': 40, ')': 40, 'L': 14, '3': 8, '7': 7, '6': 4, 'E': 13, 'J': 8, 'R': 32, 'H': 30, '4': 7, 'U': 13, 'S': 58, ':': 31, 'G': 9, '–': 9, 'q': 8, '‘': 1, 'D': 51, 'W': 18, 'M': 30, '—': 1, '5': 21, '/': 84, 'K': 3, '\\t': 2, '?': 3, '=': 1, '#': 4, \"'\": 4, '&': 4, '_': 6, 'Q': 1, 'Z': 1, 'X': 1, '\"': 2}\n"
     ]
    }
   ],
   "source": [
    "UpperCase_Frequency = {}\n",
    "\n",
    "for keys in lines:\n",
    "    UpperCase_Frequency[keys] = UpperCase_Frequency.get(keys, 0) + 1\n",
    "\n",
    "print( UpperCase_Frequency )"
   ]
  },
  {
   "cell_type": "code",
   "execution_count": null,
   "id": "dfab4afb-96f5-4d8b-9cb8-dcffcb9964a4",
   "metadata": {},
   "outputs": [],
   "source": []
  }
 ],
 "metadata": {
  "kernelspec": {
   "display_name": "Python 3 (ipykernel)",
   "language": "python",
   "name": "python3"
  },
  "language_info": {
   "codemirror_mode": {
    "name": "ipython",
    "version": 3
   },
   "file_extension": ".py",
   "mimetype": "text/x-python",
   "name": "python",
   "nbconvert_exporter": "python",
   "pygments_lexer": "ipython3",
   "version": "3.10.4"
  },
  "toc-autonumbering": true,
  "toc-showtags": false
 },
 "nbformat": 4,
 "nbformat_minor": 5
}
