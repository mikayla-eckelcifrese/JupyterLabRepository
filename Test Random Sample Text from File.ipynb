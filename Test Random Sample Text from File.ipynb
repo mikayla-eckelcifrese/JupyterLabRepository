{
 "cells": [
  {
   "cell_type": "code",
   "execution_count": 22,
   "id": "729e6078-3201-4f0f-8bb2-34d10136b00d",
   "metadata": {},
   "outputs": [],
   "source": [
    "import matplotlib.pyplot as plt\n",
    "\n",
    "import pandas as pd\n",
    "\n",
    "import numpy as np\n",
    "\n",
    "from numpy import *\n",
    "\n",
    "#from statistics import *\n",
    "\n",
    "import plotly.express as px\n",
    "\n",
    "import plotly.graph_objects as go\n",
    "\n",
    "import seaborn as sns\n",
    "\n",
    "from wordcloud import WordCloud, STOPWORDS\n",
    "\n",
    "#import dfply\n",
    "\n",
    "#from dfply import *\n",
    "\n",
    "#import pandas as pd\n",
    "\n",
    "#from plotnine import *\n",
    "\n",
    "#from plotnine.data import *\n"
   ]
  },
  {
   "cell_type": "markdown",
   "id": "95728302-a548-41a0-a2ae-49f6da2e0e9f",
   "metadata": {},
   "source": [
    "                                                    Read in data"
   ]
  },
  {
   "cell_type": "code",
   "execution_count": 2,
   "id": "7114cf77-e439-4f60-a0d2-7ab71cd38aba",
   "metadata": {
    "jupyter": {
     "source_hidden": true
    },
    "tags": []
   },
   "outputs": [],
   "source": [
    "\n",
    "EssayFilePath = \"C:/Users/mbles/Desktop/Vaccines are Beneficial.txt\"\n",
    "\n",
    "ResumeFilePath = \"C:/Users/mbles/Desktop/Resume.txt\"\n",
    "\n",
    "LabFilePath = \"C:/Users/mbles/Desktop/EEE 334 Lab 1.txt\"\n",
    "\n",
    "\n",
    "EssayLines = \"\"\n",
    "\n",
    "Resumelines = \"\"\n",
    "\n",
    "LabLines = \"\"\n",
    "\n",
    "\n",
    "def Read(FilePath, lines):\n",
    "    with open(FilePath, \"r\", encoding = 'utf-8') as File:\n",
    "        lines = File.read()\n",
    "    return(lines)\n",
    "\n",
    "try:    \n",
    "    EssayText = Read(EssayFilePath, EssayLines)\n",
    "except:\n",
    "    EssayFilePath = input(\"Please enter the file path for the essay.\\n\")\n",
    "    EssayText = Read(EssayFilePath, EssayLines)\n",
    "\n",
    "try:\n",
    "    ResumeText = Read(ResumeFilePath, Resumelines)\n",
    "except:\n",
    "    ResumeFilePath = input(\"\\nPlease enter the file path for the resume.\\n\")\n",
    "    ResumeText = Read(ResumeFilePath, Resumelines)\n",
    "    \n",
    "try:    \n",
    "    LabText = Read(LabFilePath, LabLines)\n",
    "except:\n",
    "    LabFilePath = input(\"\\nPlease enter the file path for the lab report.\\n\")\n",
    "    "
   ]
  },
  {
   "cell_type": "markdown",
   "id": "8f05f609-89c2-4cbe-b962-b333c1ea70c2",
   "metadata": {},
   "source": [
    "                                                Clean  and Sort Data"
   ]
  },
  {
   "cell_type": "code",
   "execution_count": 14,
   "id": "2939f7ca-641f-4493-b2f9-bff892d0c9bb",
   "metadata": {
    "jupyter": {
     "source_hidden": true
    },
    "tags": []
   },
   "outputs": [],
   "source": [
    "non_letter_characters = ['[','@','_','!','#','$','%','^','&','*',\n",
    "                      '(',')','<','>','?','/', '}','{','~',':',']',\n",
    "                         ',','0', '1','2','3','4','5','6','7','8',\n",
    "                         '9','\\t','\\n', ' ', '\"', \"'\", '-','.',';',\n",
    "                         '=','—','-','–','‘','“','”','\\ufeff','…','’',\n",
    "                         '\\\\\\\\', '\\\\', \" \\ \", ' n ', '  ','    ','   ',\n",
    "                         '  n ', '⋅', '→','|', '〖', '〗','√','ω','μ','µa',\n",
    "                         'π','+','δ','°','≈','\\u2008','\\u2008f','\\u2061',\n",
    "                         '∫','▒','±','●','δ','ω', 'ω\t', 'µ', 'δ']\n",
    "\n",
    "def CleanData(Text):\n",
    "    for i in non_letter_characters:\n",
    "        Text = Text.replace(i,' ')\n",
    "    \n",
    "    Text = Text.lower()\n",
    "    \n",
    "    return(Text)\n",
    "\n",
    "EssayText = CleanData(EssayText)\n",
    "\n",
    "ResumeText = CleanData(ResumeText)\n",
    "\n",
    "LabText = CleanData(LabText) "
   ]
  },
  {
   "cell_type": "markdown",
   "id": "d21f2098-21c7-4878-bdd2-3e80b3b15c71",
   "metadata": {},
   "source": [
    "                                                 Get Letter Frequencies  "
   ]
  },
  {
   "cell_type": "code",
   "execution_count": 23,
   "id": "7a49c563-c196-4e43-9f47-d16930dd98bf",
   "metadata": {
    "jupyter": {
     "source_hidden": true
    },
    "tags": []
   },
   "outputs": [],
   "source": [
    "def GetFrequencies(Text):  \n",
    "    LetterFrequencies = {}\n",
    "    for keys in Text:\n",
    "        LetterFrequencies[keys] = LetterFrequencies.get(keys, 0) + 1\n",
    "    return(LetterFrequencies)\n",
    "\n",
    "EssayFrequencyDict = GetFrequencies(EssayText)\n",
    "\n",
    "ResumeFrequencyDict = GetFrequencies(ResumeText)\n",
    "\n",
    "LabFrequencyDict = GetFrequencies(LabText)"
   ]
  },
  {
   "cell_type": "markdown",
   "id": "07c2b1e2-4ee2-4355-a8fc-47170a8f3e80",
   "metadata": {
    "tags": []
   },
   "source": [
    "                                                Convert to Data Frames and Sort"
   ]
  },
  {
   "cell_type": "code",
   "execution_count": 24,
   "id": "dfab4afb-96f5-4d8b-9cb8-dcffcb9964a4",
   "metadata": {
    "jupyter": {
     "source_hidden": true
    },
    "tags": []
   },
   "outputs": [],
   "source": [
    "def ConvertAndSort(FrequencyDict, column2):\n",
    "    Frequency_df = pd.DataFrame(FrequencyDict.items(), columns=['Letter', column2]) \n",
    "\n",
    "    Frequency_df = Frequency_df.sort_values(\"Letter\")\n",
    "\n",
    "    Frequency_df = Frequency_df[Frequency_df.Letter != \" \"].reset_index()  #renumber rows from 0 to 1 from the top down\n",
    "    \n",
    "    Frequency_df.pop('index')  #remove column containing prior order as I have no need of it\n",
    "    \n",
    "    return(Frequency_df)\n",
    "    \n",
    "EssayFrequency_df = ConvertAndSort(EssayFrequencyDict, 'Essay Frequency')\n",
    "\n",
    "ResumeFrequency_df = ConvertAndSort(ResumeFrequencyDict, 'Resume Frequency')\n",
    "\n",
    "LabFrequency_df = ConvertAndSort(LabFrequencyDict, 'Lab Frequency')\n"
   ]
  },
  {
   "cell_type": "markdown",
   "id": "f891f8f5-d7d9-414b-99c1-41a41548a09f",
   "metadata": {},
   "source": [
    "                                                               Merge Dataframes"
   ]
  },
  {
   "cell_type": "code",
   "execution_count": 19,
   "id": "59ff89c9-2a27-4787-922c-e8e7551827b3",
   "metadata": {
    "collapsed": true,
    "jupyter": {
     "outputs_hidden": true,
     "source_hidden": true
    },
    "tags": []
   },
   "outputs": [
    {
     "data": {
      "text/html": [
       "<div>\n",
       "<style scoped>\n",
       "    .dataframe tbody tr th:only-of-type {\n",
       "        vertical-align: middle;\n",
       "    }\n",
       "\n",
       "    .dataframe tbody tr th {\n",
       "        vertical-align: top;\n",
       "    }\n",
       "\n",
       "    .dataframe thead th {\n",
       "        text-align: right;\n",
       "    }\n",
       "</style>\n",
       "<table border=\"1\" class=\"dataframe\">\n",
       "  <thead>\n",
       "    <tr style=\"text-align: right;\">\n",
       "      <th></th>\n",
       "      <th>Letter</th>\n",
       "      <th>Essay Frequency</th>\n",
       "      <th>Resume Frequency</th>\n",
       "      <th>Lab Frequency</th>\n",
       "    </tr>\n",
       "  </thead>\n",
       "  <tbody>\n",
       "    <tr>\n",
       "      <th>0</th>\n",
       "      <td>a</td>\n",
       "      <td>1223</td>\n",
       "      <td>233</td>\n",
       "      <td>996</td>\n",
       "    </tr>\n",
       "    <tr>\n",
       "      <th>1</th>\n",
       "      <td>b</td>\n",
       "      <td>163</td>\n",
       "      <td>37</td>\n",
       "      <td>187</td>\n",
       "    </tr>\n",
       "    <tr>\n",
       "      <th>2</th>\n",
       "      <td>c</td>\n",
       "      <td>650</td>\n",
       "      <td>185</td>\n",
       "      <td>448</td>\n",
       "    </tr>\n",
       "    <tr>\n",
       "      <th>3</th>\n",
       "      <td>d</td>\n",
       "      <td>503</td>\n",
       "      <td>108</td>\n",
       "      <td>448</td>\n",
       "    </tr>\n",
       "    <tr>\n",
       "      <th>4</th>\n",
       "      <td>e</td>\n",
       "      <td>1901</td>\n",
       "      <td>300</td>\n",
       "      <td>1471</td>\n",
       "    </tr>\n",
       "  </tbody>\n",
       "</table>\n",
       "</div>"
      ],
      "text/plain": [
       "  Letter  Essay Frequency  Resume Frequency  Lab Frequency\n",
       "0      a             1223               233            996\n",
       "1      b              163                37            187\n",
       "2      c              650               185            448\n",
       "3      d              503               108            448\n",
       "4      e             1901               300           1471"
      ]
     },
     "execution_count": 19,
     "metadata": {},
     "output_type": "execute_result"
    }
   ],
   "source": [
    "#\"Letter\" columnin each df is the same, so two of them are being concantenated without it\n",
    "\n",
    "temp = pd.concat([EssayFrequency_df, ResumeFrequency_df.drop(['Letter'], axis = 1, inplace = False)], axis = 1, join = 'outer')\n",
    "\n",
    "merged_data = pd.concat([temp, LabFrequency_df.drop(['Letter'], axis = 1, inplace = False)], axis = 1, join = 'outer')\n",
    "\n",
    "merged_data.head()"
   ]
  },
  {
   "cell_type": "markdown",
   "id": "1a8cfffa-a9e1-47d6-83a7-62bb4013fef4",
   "metadata": {},
   "source": [
    "                                                         Get Summary Stats"
   ]
  },
  {
   "cell_type": "code",
   "execution_count": 28,
   "id": "a110a5b0-0df2-4637-be66-dad0d2776c92",
   "metadata": {
    "tags": []
   },
   "outputs": [
    {
     "name": "stdout",
     "output_type": "stream",
     "text": [
      "       Essay Frequency  Resume Frequency  Lab Frequency\n",
      "count            26.00             26.00          26.00\n",
      "mean            530.85            110.31         479.31\n",
      "std             477.23             95.49         392.24\n",
      "min               7.00              5.00          14.00\n",
      "25%             189.00             27.25         197.00\n",
      "50%             332.00             93.00         375.00\n",
      "75%             864.25            185.00         809.00\n",
      "max            1901.00            300.00        1471.00\n",
      "           a    b    c    d     e    f    g    h    i  j  ...  q    r    s  \\\n",
      "count      3    3    3    3     3    3    3    3    3  3  ...  3    3    3   \n",
      "unique     3    3    3    3     3    3    3    3    3  3  ...  3    3    3   \n",
      "top     1223  163  650  503  1901  308  207  623  992  8  ...  7  724  944   \n",
      "freq       1    1    1    1     1    1    1    1    1  1  ...  1    1    1   \n",
      "\n",
      "           t    u    v    w   x    y   z  \n",
      "count      3    3    3    3   3    3   3  \n",
      "unique     3    3    3    3   3    3   3  \n",
      "top     1256  330  300  183  43  238  11  \n",
      "freq       1    1    1    1   1    1   1  \n",
      "\n",
      "[4 rows x 26 columns]\n"
     ]
    }
   ],
   "source": [
    "SummaryStats = (merged_data.describe()).round(decimals = 2)\n",
    "\n",
    "SummaryStats\n",
    "\n",
    "print(SummaryStats)\n",
    "\n",
    "GroupByLetter = merged_data.transpose()\n",
    "\n",
    "GroupByLetter.columns = ['a', 'b', 'c', 'd', 'e', 'f', 'g', \n",
    "                       'h', 'i', 'j', 'k', 'l', 'm', 'n', \n",
    "                       'o', 'p', 'q', 'r', 's', 't', 'u', \n",
    "                       'v', 'w', 'x', 'y', 'z']\n",
    "\n",
    "GroupByLetter = GroupByLetter.drop('Letter')\n",
    "\n",
    "SummaryStatsByLetter = GroupByLetter.describe().round(decimals = 2)\n",
    "\n",
    "print(SummaryStatsByLetter)"
   ]
  },
  {
   "cell_type": "markdown",
   "id": "914de654-344e-4b78-a4c3-6db169be1ca2",
   "metadata": {},
   "source": [
    "                                                              Boxplots"
   ]
  },
  {
   "cell_type": "code",
   "execution_count": 29,
   "id": "094fd7de-c374-4e3e-b8d4-573cdea8be0a",
   "metadata": {},
   "outputs": [
    {
     "ename": "ValueError",
     "evalue": "Plotly Express cannot process wide-form data with columns of different type.",
     "output_type": "error",
     "traceback": [
      "\u001b[1;31m---------------------------------------------------------------------------\u001b[0m",
      "\u001b[1;31mValueError\u001b[0m                                Traceback (most recent call last)",
      "Input \u001b[1;32mIn [29]\u001b[0m, in \u001b[0;36m<cell line: 1>\u001b[1;34m()\u001b[0m\n\u001b[1;32m----> 1\u001b[0m \u001b[43mpx\u001b[49m\u001b[38;5;241;43m.\u001b[39;49m\u001b[43mbox\u001b[49m\u001b[43m(\u001b[49m\u001b[43mmerged_data\u001b[49m\u001b[43m)\u001b[49m\u001b[38;5;241m.\u001b[39mshow()\n\u001b[0;32m      3\u001b[0m px\u001b[38;5;241m.\u001b[39mbox(GroupByLetter)\u001b[38;5;241m.\u001b[39mshow()\n",
      "File \u001b[1;32m~\\AnacondaInstallation\\lib\\site-packages\\plotly\\express\\_chart_types.py:652\u001b[0m, in \u001b[0;36mbox\u001b[1;34m(data_frame, x, y, color, facet_row, facet_col, facet_col_wrap, facet_row_spacing, facet_col_spacing, hover_name, hover_data, custom_data, animation_frame, animation_group, category_orders, labels, color_discrete_sequence, color_discrete_map, orientation, boxmode, log_x, log_y, range_x, range_y, points, notched, title, template, width, height)\u001b[0m\n\u001b[0;32m    611\u001b[0m \u001b[38;5;28;01mdef\u001b[39;00m \u001b[38;5;21mbox\u001b[39m(\n\u001b[0;32m    612\u001b[0m     data_frame\u001b[38;5;241m=\u001b[39m\u001b[38;5;28;01mNone\u001b[39;00m,\n\u001b[0;32m    613\u001b[0m     x\u001b[38;5;241m=\u001b[39m\u001b[38;5;28;01mNone\u001b[39;00m,\n\u001b[1;32m   (...)\u001b[0m\n\u001b[0;32m    641\u001b[0m     height\u001b[38;5;241m=\u001b[39m\u001b[38;5;28;01mNone\u001b[39;00m,\n\u001b[0;32m    642\u001b[0m ):\n\u001b[0;32m    643\u001b[0m     \u001b[38;5;124;03m\"\"\"\u001b[39;00m\n\u001b[0;32m    644\u001b[0m \u001b[38;5;124;03m    In a box plot, rows of `data_frame` are grouped together into a\u001b[39;00m\n\u001b[0;32m    645\u001b[0m \u001b[38;5;124;03m    box-and-whisker mark to visualize their distribution.\u001b[39;00m\n\u001b[1;32m   (...)\u001b[0m\n\u001b[0;32m    650\u001b[0m \u001b[38;5;124;03m    range (IQR: Q3-Q1), see \"points\" for other options.\u001b[39;00m\n\u001b[0;32m    651\u001b[0m \u001b[38;5;124;03m    \"\"\"\u001b[39;00m\n\u001b[1;32m--> 652\u001b[0m     \u001b[38;5;28;01mreturn\u001b[39;00m \u001b[43mmake_figure\u001b[49m\u001b[43m(\u001b[49m\n\u001b[0;32m    653\u001b[0m \u001b[43m        \u001b[49m\u001b[43margs\u001b[49m\u001b[38;5;241;43m=\u001b[39;49m\u001b[38;5;28;43mlocals\u001b[39;49m\u001b[43m(\u001b[49m\u001b[43m)\u001b[49m\u001b[43m,\u001b[49m\n\u001b[0;32m    654\u001b[0m \u001b[43m        \u001b[49m\u001b[43mconstructor\u001b[49m\u001b[38;5;241;43m=\u001b[39;49m\u001b[43mgo\u001b[49m\u001b[38;5;241;43m.\u001b[39;49m\u001b[43mBox\u001b[49m\u001b[43m,\u001b[49m\n\u001b[0;32m    655\u001b[0m \u001b[43m        \u001b[49m\u001b[43mtrace_patch\u001b[49m\u001b[38;5;241;43m=\u001b[39;49m\u001b[38;5;28;43mdict\u001b[39;49m\u001b[43m(\u001b[49m\u001b[43mboxpoints\u001b[49m\u001b[38;5;241;43m=\u001b[39;49m\u001b[43mpoints\u001b[49m\u001b[43m,\u001b[49m\u001b[43m \u001b[49m\u001b[43mnotched\u001b[49m\u001b[38;5;241;43m=\u001b[39;49m\u001b[43mnotched\u001b[49m\u001b[43m,\u001b[49m\u001b[43m \u001b[49m\u001b[43mx0\u001b[49m\u001b[38;5;241;43m=\u001b[39;49m\u001b[38;5;124;43m\"\u001b[39;49m\u001b[38;5;124;43m \u001b[39;49m\u001b[38;5;124;43m\"\u001b[39;49m\u001b[43m,\u001b[49m\u001b[43m \u001b[49m\u001b[43my0\u001b[49m\u001b[38;5;241;43m=\u001b[39;49m\u001b[38;5;124;43m\"\u001b[39;49m\u001b[38;5;124;43m \u001b[39;49m\u001b[38;5;124;43m\"\u001b[39;49m\u001b[43m)\u001b[49m\u001b[43m,\u001b[49m\n\u001b[0;32m    656\u001b[0m \u001b[43m        \u001b[49m\u001b[43mlayout_patch\u001b[49m\u001b[38;5;241;43m=\u001b[39;49m\u001b[38;5;28;43mdict\u001b[39;49m\u001b[43m(\u001b[49m\u001b[43mboxmode\u001b[49m\u001b[38;5;241;43m=\u001b[39;49m\u001b[43mboxmode\u001b[49m\u001b[43m)\u001b[49m\u001b[43m,\u001b[49m\n\u001b[0;32m    657\u001b[0m \u001b[43m    \u001b[49m\u001b[43m)\u001b[49m\n",
      "File \u001b[1;32m~\\AnacondaInstallation\\lib\\site-packages\\plotly\\express\\_core.py:1945\u001b[0m, in \u001b[0;36mmake_figure\u001b[1;34m(args, constructor, trace_patch, layout_patch)\u001b[0m\n\u001b[0;32m   1942\u001b[0m layout_patch \u001b[38;5;241m=\u001b[39m layout_patch \u001b[38;5;129;01mor\u001b[39;00m {}\n\u001b[0;32m   1943\u001b[0m apply_default_cascade(args)\n\u001b[1;32m-> 1945\u001b[0m args \u001b[38;5;241m=\u001b[39m \u001b[43mbuild_dataframe\u001b[49m\u001b[43m(\u001b[49m\u001b[43margs\u001b[49m\u001b[43m,\u001b[49m\u001b[43m \u001b[49m\u001b[43mconstructor\u001b[49m\u001b[43m)\u001b[49m\n\u001b[0;32m   1946\u001b[0m \u001b[38;5;28;01mif\u001b[39;00m constructor \u001b[38;5;129;01min\u001b[39;00m [go\u001b[38;5;241m.\u001b[39mTreemap, go\u001b[38;5;241m.\u001b[39mSunburst, go\u001b[38;5;241m.\u001b[39mIcicle] \u001b[38;5;129;01mand\u001b[39;00m args[\u001b[38;5;124m\"\u001b[39m\u001b[38;5;124mpath\u001b[39m\u001b[38;5;124m\"\u001b[39m] \u001b[38;5;129;01mis\u001b[39;00m \u001b[38;5;129;01mnot\u001b[39;00m \u001b[38;5;28;01mNone\u001b[39;00m:\n\u001b[0;32m   1947\u001b[0m     args \u001b[38;5;241m=\u001b[39m process_dataframe_hierarchy(args)\n",
      "File \u001b[1;32m~\\AnacondaInstallation\\lib\\site-packages\\plotly\\express\\_core.py:1452\u001b[0m, in \u001b[0;36mbuild_dataframe\u001b[1;34m(args, constructor)\u001b[0m\n\u001b[0;32m   1450\u001b[0m         dtype \u001b[38;5;241m=\u001b[39m v_dtype\n\u001b[0;32m   1451\u001b[0m     \u001b[38;5;28;01melif\u001b[39;00m dtype \u001b[38;5;241m!=\u001b[39m v_dtype:\n\u001b[1;32m-> 1452\u001b[0m         \u001b[38;5;28;01mraise\u001b[39;00m \u001b[38;5;167;01mValueError\u001b[39;00m(\n\u001b[0;32m   1453\u001b[0m             \u001b[38;5;124m\"\u001b[39m\u001b[38;5;124mPlotly Express cannot process wide-form data with columns of different type.\u001b[39m\u001b[38;5;124m\"\u001b[39m\n\u001b[0;32m   1454\u001b[0m         )\n\u001b[0;32m   1455\u001b[0m df_output \u001b[38;5;241m=\u001b[39m df_output\u001b[38;5;241m.\u001b[39mmelt(\n\u001b[0;32m   1456\u001b[0m     id_vars\u001b[38;5;241m=\u001b[39mwide_id_vars,\n\u001b[0;32m   1457\u001b[0m     value_vars\u001b[38;5;241m=\u001b[39mwide_value_vars,\n\u001b[0;32m   1458\u001b[0m     var_name\u001b[38;5;241m=\u001b[39mvar_name,\n\u001b[0;32m   1459\u001b[0m     value_name\u001b[38;5;241m=\u001b[39mvalue_name,\n\u001b[0;32m   1460\u001b[0m )\n\u001b[0;32m   1461\u001b[0m \u001b[38;5;28;01massert\u001b[39;00m \u001b[38;5;28mlen\u001b[39m(df_output\u001b[38;5;241m.\u001b[39mcolumns) \u001b[38;5;241m==\u001b[39m \u001b[38;5;28mlen\u001b[39m(\u001b[38;5;28mset\u001b[39m(df_output\u001b[38;5;241m.\u001b[39mcolumns)), (\n\u001b[0;32m   1462\u001b[0m     \u001b[38;5;124m\"\u001b[39m\u001b[38;5;124mWide-mode name-inference failure, likely due to a internal bug. \u001b[39m\u001b[38;5;124m\"\u001b[39m\n\u001b[0;32m   1463\u001b[0m     \u001b[38;5;124m\"\u001b[39m\u001b[38;5;124mPlease report this to \u001b[39m\u001b[38;5;124m\"\u001b[39m\n\u001b[0;32m   1464\u001b[0m     \u001b[38;5;124m\"\u001b[39m\u001b[38;5;124mhttps://github.com/plotly/plotly.py/issues/new and we will try to \u001b[39m\u001b[38;5;124m\"\u001b[39m\n\u001b[0;32m   1465\u001b[0m     \u001b[38;5;124m\"\u001b[39m\u001b[38;5;124mreplicate and fix it.\u001b[39m\u001b[38;5;124m\"\u001b[39m\n\u001b[0;32m   1466\u001b[0m )\n",
      "\u001b[1;31mValueError\u001b[0m: Plotly Express cannot process wide-form data with columns of different type."
     ]
    }
   ],
   "source": [
    "px.box(merged_data).show()\n",
    "\n",
    "px.box(GroupByLetter).show()"
   ]
  },
  {
   "cell_type": "markdown",
   "id": "89f148dd-7bf3-4ee8-a0b5-8a49746d7dce",
   "metadata": {},
   "source": [
    "                                                             Bar Graphs"
   ]
  },
  {
   "cell_type": "code",
   "execution_count": null,
   "id": "00232b82-1911-4a94-a6a1-e569947ee3b2",
   "metadata": {
    "tags": []
   },
   "outputs": [],
   "source": [
    "%matplotlib inline\n",
    "\n",
    "def BarGraph(df, Title, Color, Y):\n",
    "    bar_graph = df.plot.bar(x = \"Letter\", y = Y, rot = 70, title = Title, color = Color, legend = False)\n",
    "\n",
    "BarGraph(EssayFrequency_df, \"Frequencies of Letters in Essay\", \"purple\", 'Essay Frequency')\n",
    "\n",
    "BarGraph(ResumeFrequency_df, \"Frequencies of Letters in Resume\", \"pink\", 'Resume Frequency')\n",
    "\n",
    "BarGraph(LabFrequency_df, \"Frequencies of Letters in Lab Report\", \"blue\", 'Lab Frequency')\n"
   ]
  },
  {
   "cell_type": "code",
   "execution_count": null,
   "id": "9c9447c0-f69a-4703-b5b1-6fcffc6a98b6",
   "metadata": {
    "tags": []
   },
   "outputs": [],
   "source": [
    "%matplotlib inline\n",
    "\n",
    "sns.set_palette(\"hls\", 26)\n",
    "\n",
    "def histogram(df, Title, X):\n",
    "    hist = sns.displot(df, x = X, bins = 15, hue = 'Letter', multiple = 'stack', stat = 'probability')\n",
    "    hist.fig.suptitle(Title)\n",
    "    \n",
    "histogram(EssayFrequency_df, \"Frequencies of Letters in Essay\", 'Essay Frequency')\n",
    "histogram(ResumeFrequency_df, \"Frequencies of Letters in Resume\", 'Resume Frequency')\n",
    "histogram(LabFrequency_df, \"Frequencies of Letters in Lab Report\", 'Lab Frequency')\n",
    "\n"
   ]
  },
  {
   "cell_type": "code",
   "execution_count": null,
   "id": "5ce640da-ecf4-4d0f-9d06-f43e05d94f8d",
   "metadata": {},
   "outputs": [],
   "source": [
    "\n",
    "def CreateWordCloud(text):\n",
    "    #Primary Source for writing this function: https://www.geeksforgeeks.org/generating-word-cloud-python/ \n",
    "    \n",
    "    stopwords = set(STOPWORDS)\n",
    "\n",
    "    # create wordcloud object\n",
    "    wordcloud = WordCloud(background_color=\"white\", max_words = 200, stopwords = stopwords)\n",
    "    wordcloud.generate(text)\n",
    "\n",
    "    plt.figure(figsize = (10, 10), facecolor = None)\n",
    "    plt.imshow(wordcloud)\n",
    "    plt.axis(\"off\")\n",
    "    plt.tight_layout(pad = 0)\n",
    "\n",
    "    plt.show()\n",
    "    \n",
    "CreateWordCloud(EssayText)\n",
    "CreateWordCloud(ResumeText)\n",
    "CreateWordCloud(LabText)\n"
   ]
  },
  {
   "cell_type": "code",
   "execution_count": null,
   "id": "7862df30-702f-4dd4-82d8-d2d2cfe408a9",
   "metadata": {},
   "outputs": [],
   "source": []
  },
  {
   "cell_type": "code",
   "execution_count": null,
   "id": "4d52d507-c0e8-4f9f-978b-c37d61c85d91",
   "metadata": {},
   "outputs": [],
   "source": []
  }
 ],
 "metadata": {
  "kernelspec": {
   "display_name": "Python 3 (ipykernel)",
   "language": "python",
   "name": "python3"
  },
  "language_info": {
   "codemirror_mode": {
    "name": "ipython",
    "version": 3
   },
   "file_extension": ".py",
   "mimetype": "text/x-python",
   "name": "python",
   "nbconvert_exporter": "python",
   "pygments_lexer": "ipython3",
   "version": "3.9.12"
  },
  "toc-autonumbering": true,
  "toc-showtags": false
 },
 "nbformat": 4,
 "nbformat_minor": 5
}
