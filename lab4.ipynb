{
 "cells": [
  {
   "cell_type": "markdown",
   "metadata": {},
   "source": [
    "# Lab 5"
   ]
  },
  {
   "cell_type": "code",
   "execution_count": 1,
   "metadata": {},
   "outputs": [],
   "source": [
    "import numpy as np\n",
    "import matplotlib.pyplot as plt\n",
    "import pandas as pd\n",
    "import seaborn as sns\n",
    "from sklearn.linear_model import LinearRegression\n",
    "import scipy as sci"
   ]
  },
  {
   "cell_type": "markdown",
   "metadata": {},
   "source": [
    "## Question 1\n",
    "\n",
    "This question will center around analysis of the `geyser` dataset in base `seaborn` package.  First download the dataset and name as `geyser_df`.\n"
   ]
  },
  {
   "cell_type": "code",
   "execution_count": null,
   "metadata": {},
   "outputs": [],
   "source": [
    "geyser_df = sns.load_dataset('geyser')"
   ]
  },
  {
   "cell_type": "markdown",
   "metadata": {},
   "source": [
    "### Part A\n",
    "\n",
    "Create a scatterplot of the `geyser_df` that plots `waiting` on the x-axis and `duration` on the y-axis.  Make the color of the dot depend on the `kind` variable, use non-base coloring, and include a legend.  Be sure to label the x- and y- axes and give your graph a title."
   ]
  },
  {
   "cell_type": "code",
   "execution_count": null,
   "metadata": {},
   "outputs": [],
   "source": [
    "x = "
   ]
  },
  {
   "cell_type": "markdown",
   "metadata": {},
   "source": [
    "### Part B\n",
    "\n",
    "Based on the plot above, you see that there is a vast difference in the `duration` of long and short geyser events.  Before you conduct an ANOVA test, you want to compare side-by-side boxplots.  Plot `kind` on the x-axis and `duration` on the y-axis.  Use `kind` as hue of the boxplot.  Name the legend and place it in a spot that does not overlap any of the data."
   ]
  },
  {
   "cell_type": "code",
   "execution_count": null,
   "metadata": {},
   "outputs": [],
   "source": []
  },
  {
   "cell_type": "markdown",
   "metadata": {},
   "source": [
    "### Part C\n",
    "\n",
    "Using Pandas \"groupby\" option, group the dataset `geyser_df` on `kind` and then find the mean, median, standard deviation and variance of the duration for both kinds of geyser events."
   ]
  },
  {
   "cell_type": "code",
   "execution_count": null,
   "metadata": {},
   "outputs": [],
   "source": []
  },
  {
   "cell_type": "markdown",
   "metadata": {},
   "source": [
    "### Part D\n",
    "\n",
    "Suppose you want to test:\n",
    "\n",
    "  H$_0$: Mean duration time of long and short geyser events are the same <br>\n",
    "  H$_a$: Mean duration time of long and short geyser events are not the same\n",
    "\n",
    "Conduct the ANOVA test at the 5% level of significance.  Include a p-value in your response."
   ]
  },
  {
   "cell_type": "code",
   "execution_count": null,
   "metadata": {},
   "outputs": [],
   "source": []
  },
  {
   "cell_type": "markdown",
   "metadata": {},
   "source": [
    "### Part E\n",
    "Is there evidence of a difference between the long and short geyser event means?"
   ]
  },
  {
   "cell_type": "code",
   "execution_count": null,
   "metadata": {},
   "outputs": [],
   "source": []
  },
  {
   "cell_type": "markdown",
   "metadata": {},
   "source": [
    "## Question 2\n",
    "\n",
    "This question will center around analysis of the car crashes dataset in base seaborn package. First download the dataset and name as `carcrash_data`.\n",
    "\n",
    "You can read about the variables here:  https://www.kaggle.com/fivethirtyeight/fivethirtyeight-bad-drivers-dataset.  The variables reported include:\n",
    "\n",
    "- `total`: Number of drivers involved in fatal collisions per billion miles\n",
    "- `speeding`: Percentage Of Drivers Involved In Fatal Collisions Who Were Speeding\n",
    "- `alcohol`: Percentage Of Drivers Involved In Fatal Collisions Who Were Alcohol-Impaired\n",
    "- `not_distracted`: Percentage Of Drivers Involved In Fatal Collisions Who Were Not Distracted\n",
    "- `no_previous`: Percentage Of Drivers Involved In Fatal Collisions Who Had Not Been Involved In Any Previous Accidents\n",
    "- `ins_premium`: Car Insurance Premiums in dollars\n",
    "- `ins_losses`: Losses incurred by insurance companies for collisions per insured driver in dollars\n",
    "- `abbrev`: State"
   ]
  },
  {
   "cell_type": "code",
   "execution_count": null,
   "metadata": {},
   "outputs": [],
   "source": [
    "carcrash_data = sns.load_dataset('car_crashes')"
   ]
  },
  {
   "cell_type": "markdown",
   "metadata": {},
   "source": [
    "### Part A\n",
    "\n",
    "Create a new column variable, `region`, which will classify the state based on the following definitions:\n",
    "\n",
    "- `Northeast`: ME, NH, VT, MA, RI, CT, NY, NJ, and PA\n",
    "- `Midwest`: OH, MI, IN, WI, IL, MN, IA, MO, ND, SD, NE, and KS\n",
    "- `South`: DE, MD, VA, WV, KY, NC, SC, TN, GA, FL, AL, MS, AR, LA, TX, and OK\n",
    "- `West`: MT, ID, WY, CO, NM, AZ, UT, NV, CA, OR, WA, AK, and HI\n",
    "\n",
    "Create a column variable, `premium`, that reports \"Above average\" if the `ins_premium` value is above the average of the `ins_premium` and \"Below average\" elsewise.\n",
    "\n",
    "Remove the row corresponding to \"DC\"."
   ]
  },
  {
   "cell_type": "code",
   "execution_count": null,
   "metadata": {},
   "outputs": [],
   "source": []
  },
  {
   "cell_type": "markdown",
   "metadata": {},
   "source": [
    "### Part B\n",
    "\n",
    "Graph facetted histograms based on `ins_losses` variable.  Include 10 bins and color the histograms based on `region`.  The rows should represent `premium` and the columns should represent `region`, both variables created in part a.  On the y-axis, showcase the density."
   ]
  },
  {
   "cell_type": "code",
   "execution_count": null,
   "metadata": {},
   "outputs": [],
   "source": []
  },
  {
   "cell_type": "markdown",
   "metadata": {},
   "source": [
    "### Part C\n",
    "\n",
    "Create a pair plot of `carcrash_df` comparing `ins_premium`, `ins_losses`, `total`, `speeding`, `alcohol`.  Colorize based on `region`."
   ]
  },
  {
   "cell_type": "code",
   "execution_count": null,
   "metadata": {
    "scrolled": true
   },
   "outputs": [],
   "source": []
  },
  {
   "cell_type": "markdown",
   "metadata": {},
   "source": [
    "### Part D\n",
    "\n",
    "Analyzing the pairplot above, which variables do you think are highly correlated?  Does the region seem to have any difference on the relationship between the variables?"
   ]
  },
  {
   "cell_type": "markdown",
   "metadata": {},
   "source": [
    "Ans: \n"
   ]
  },
  {
   "cell_type": "markdown",
   "metadata": {},
   "source": [
    "## Question 3\n",
    "\n",
    "The following questions will be analyzing the `planets` data in Seaborn package.  Import the data using the code below:"
   ]
  },
  {
   "cell_type": "code",
   "execution_count": null,
   "metadata": {
    "scrolled": true
   },
   "outputs": [],
   "source": [
    "planets_data = sns.load_dataset('planets')\n",
    "sns.set_theme(style = \"ticks\", palette = \"pastel\")\n",
    "planets_data"
   ]
  },
  {
   "cell_type": "markdown",
   "metadata": {},
   "source": [
    "### Part A\n",
    "\n",
    "First, clean the data so that none of the columns have NaN response values.  Name this new dataset `planets_df`.  Then add a variable called `dis_flag` that returns \"Far\" if the distance is more then the average and \"Not Far\" if the distance is less than the average."
   ]
  },
  {
   "cell_type": "code",
   "execution_count": null,
   "metadata": {},
   "outputs": [],
   "source": []
  },
  {
   "cell_type": "markdown",
   "metadata": {},
   "source": [
    "### Part B\n",
    "\n",
    "Using a layered histogram, plot the density distribution of `year` with the overlapping bars representing the `dis_flag` variable.  Include a title, legend, axis labels."
   ]
  },
  {
   "cell_type": "code",
   "execution_count": null,
   "metadata": {},
   "outputs": [],
   "source": []
  },
  {
   "cell_type": "markdown",
   "metadata": {},
   "source": [
    "### Part C\n",
    "\n",
    "Does it appear there is a trend between year and distance of the planet?  When are \"far\" planets mostly found?"
   ]
  },
  {
   "cell_type": "markdown",
   "metadata": {},
   "source": [
    "Ans:\n"
   ]
  },
  {
   "cell_type": "markdown",
   "metadata": {},
   "source": [
    "## Question 4\n",
    "\n",
    "Anscombe's quartet comprises four data sets that have nearly identical simple descriptive statistics, yet have very different distributions and appear very different when graphed. Each dataset consists of eleven (x,y) points. They were constructed in 1973 by the statistician Francis Anscombe to demonstrate both the importance of graphing data before analyzing it and the effect of outliers and other influential observations on statistical properties. He described the article as being intended to counter the impression among statisticians that \"numerical calculations are exact, but graphs are rough.\"\n",
    "\n"
   ]
  },
  {
   "cell_type": "code",
   "execution_count": null,
   "metadata": {},
   "outputs": [],
   "source": [
    "anscombe_df = sns.load_dataset(\"anscombe\")"
   ]
  },
  {
   "cell_type": "markdown",
   "metadata": {},
   "source": [
    "### Part A\n",
    "\n",
    "Find the mean and variance of `x` and `y` grouping on the `dataset`.\n",
    "Then, find the mean and variance of `x` and `y` without any grouping."
   ]
  },
  {
   "cell_type": "code",
   "execution_count": null,
   "metadata": {
    "scrolled": true
   },
   "outputs": [],
   "source": []
  },
  {
   "cell_type": "code",
   "execution_count": null,
   "metadata": {},
   "outputs": [],
   "source": []
  },
  {
   "cell_type": "markdown",
   "metadata": {},
   "source": [
    "### Part B\n",
    "\n",
    "Find the correlation between `x` and `y` grouped on `dataset`.\n",
    "Then, find the correlation between `x` and `y` without any grouping.  Display your answers as correlation matrices."
   ]
  },
  {
   "cell_type": "code",
   "execution_count": null,
   "metadata": {},
   "outputs": [],
   "source": []
  },
  {
   "cell_type": "code",
   "execution_count": null,
   "metadata": {
    "scrolled": true
   },
   "outputs": [],
   "source": []
  },
  {
   "cell_type": "markdown",
   "metadata": {},
   "source": [
    "### Part C\n",
    "\n",
    "For each of the datasets, find the parameter estimates for the slope and y-intercept using `np.polyfit(x =, y =, d =)` where `d` is the degree.  Since we are plotting simple linear regression models, the degree we want is 1.  The output of `np.polyfit()` will be of the form: `array([a, b])`.  `a` output will be the slope and `b` output will be y-intercept.\n",
    "\n",
    "Display your calculated slope and y-intercept values in a dataframe with the dataset as rows and slope and y-intercept as columns.  Include labeling."
   ]
  },
  {
   "cell_type": "code",
   "execution_count": null,
   "metadata": {},
   "outputs": [],
   "source": []
  },
  {
   "cell_type": "markdown",
   "metadata": {},
   "source": [
    "### Part D\n",
    "\n",
    "Use facet graphing to graph a scatterplot of `x` versus `y` for each dataset. Colorize each of the scatterplots based on the `dataset`.  Include the linear regression equation on each of the graphs but do not include the confidence bands."
   ]
  },
  {
   "cell_type": "code",
   "execution_count": null,
   "metadata": {
    "scrolled": true
   },
   "outputs": [],
   "source": []
  },
  {
   "cell_type": "markdown",
   "metadata": {},
   "source": [
    "### Part E\n",
    "\n",
    "What does this exercise show you about relying on numeric outputs for statistical analysis?"
   ]
  },
  {
   "cell_type": "markdown",
   "metadata": {},
   "source": [
    "Ans:  "
   ]
  }
 ],
 "metadata": {
  "kernelspec": {
   "display_name": "Python 3 (ipykernel)",
   "language": "python",
   "name": "python3"
  },
  "language_info": {
   "codemirror_mode": {
    "name": "ipython",
    "version": 3
   },
   "file_extension": ".py",
   "mimetype": "text/x-python",
   "name": "python",
   "nbconvert_exporter": "python",
   "pygments_lexer": "ipython3",
   "version": "3.10.4"
  }
 },
 "nbformat": 4,
 "nbformat_minor": 4
}
